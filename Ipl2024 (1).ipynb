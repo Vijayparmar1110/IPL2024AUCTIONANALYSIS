{
 "cells": [
  {
   "cell_type": "markdown",
   "id": "118b36bf",
   "metadata": {},
   "source": [
    "<h1 style=\"text-align: center; color: red;\">IPL AUCTION ANALYSIS</h1>"
   ]
  },
  {
   "cell_type": "markdown",
   "id": "ad88551e",
   "metadata": {},
   "source": [
    "<p align=\"center\">\n",
    "    <img src=\"ipl-2024-auction-1702987026_65fc1875585ba.jpg\" alt=\"Alt text\">\n",
    "</p>\n"
   ]
  },
  {
   "cell_type": "code",
   "execution_count": 1,
   "id": "94a20b2e",
   "metadata": {},
   "outputs": [],
   "source": [
    "import pandas as pd\n",
    "import numpy as np\n",
    "import matplotlib.pyplot as plt\n",
    "import seaborn as sns"
   ]
  },
  {
   "cell_type": "markdown",
   "id": "9c092377",
   "metadata": {},
   "source": [
    "<h1 style=\"text-align: center; color: red;\">SOLD PLAYER IN AUCTION</h1>"
   ]
  },
  {
   "cell_type": "markdown",
   "id": "005fe179",
   "metadata": {},
   "source": [
    "### Load Dataset"
   ]
  },
  {
   "cell_type": "code",
   "execution_count": 2,
   "id": "fbc6e7d2",
   "metadata": {},
   "outputs": [],
   "source": [
    "data=pd.read_csv(\"IPL_PLAYERS.csv\")"
   ]
  },
  {
   "cell_type": "code",
   "execution_count": 3,
   "id": "2f7243ff",
   "metadata": {},
   "outputs": [
    {
     "data": {
      "text/html": [
       "<div>\n",
       "<style scoped>\n",
       "    .dataframe tbody tr th:only-of-type {\n",
       "        vertical-align: middle;\n",
       "    }\n",
       "\n",
       "    .dataframe tbody tr th {\n",
       "        vertical-align: top;\n",
       "    }\n",
       "\n",
       "    .dataframe thead th {\n",
       "        text-align: right;\n",
       "    }\n",
       "</style>\n",
       "<table border=\"1\" class=\"dataframe\">\n",
       "  <thead>\n",
       "    <tr style=\"text-align: right;\">\n",
       "      <th></th>\n",
       "      <th>PLAYERS</th>\n",
       "      <th>NATIONALITY</th>\n",
       "      <th>TYPE</th>\n",
       "      <th>PRICE PAID</th>\n",
       "      <th>TEAM</th>\n",
       "    </tr>\n",
       "  </thead>\n",
       "  <tbody>\n",
       "    <tr>\n",
       "      <th>0</th>\n",
       "      <td>Avanish Rao Aravelly</td>\n",
       "      <td>Indian</td>\n",
       "      <td>Wicket-Keeper</td>\n",
       "      <td>2000000</td>\n",
       "      <td>CSK</td>\n",
       "    </tr>\n",
       "    <tr>\n",
       "      <th>1</th>\n",
       "      <td>Mustafizur Rahman</td>\n",
       "      <td>Overseas</td>\n",
       "      <td>Bowler</td>\n",
       "      <td>20000000</td>\n",
       "      <td>CSK</td>\n",
       "    </tr>\n",
       "    <tr>\n",
       "      <th>2</th>\n",
       "      <td>Daryl Mitchell</td>\n",
       "      <td>Overseas</td>\n",
       "      <td>All-Rounder</td>\n",
       "      <td>140000000</td>\n",
       "      <td>CSK</td>\n",
       "    </tr>\n",
       "    <tr>\n",
       "      <th>3</th>\n",
       "      <td>Sameer Rizvi</td>\n",
       "      <td>Indian</td>\n",
       "      <td>Batter</td>\n",
       "      <td>84000000</td>\n",
       "      <td>CSK</td>\n",
       "    </tr>\n",
       "    <tr>\n",
       "      <th>4</th>\n",
       "      <td>Rachin Ravindra</td>\n",
       "      <td>Overseas</td>\n",
       "      <td>All-Rounder</td>\n",
       "      <td>18000000</td>\n",
       "      <td>CSK</td>\n",
       "    </tr>\n",
       "  </tbody>\n",
       "</table>\n",
       "</div>"
      ],
      "text/plain": [
       "                PLAYERS NATIONALITY           TYPE  PRICE PAID TEAM\n",
       "0  Avanish Rao Aravelly      Indian  Wicket-Keeper     2000000  CSK\n",
       "1     Mustafizur Rahman    Overseas         Bowler    20000000  CSK\n",
       "2        Daryl Mitchell    Overseas    All-Rounder   140000000  CSK\n",
       "3          Sameer Rizvi      Indian         Batter    84000000  CSK\n",
       "4       Rachin Ravindra    Overseas    All-Rounder    18000000  CSK"
      ]
     },
     "execution_count": 3,
     "metadata": {},
     "output_type": "execute_result"
    }
   ],
   "source": [
    "data.head(5)"
   ]
  },
  {
   "cell_type": "markdown",
   "id": "80698881",
   "metadata": {},
   "source": [
    "### Dataset Info"
   ]
  },
  {
   "cell_type": "code",
   "execution_count": 4,
   "id": "6fe5cdb6",
   "metadata": {},
   "outputs": [
    {
     "name": "stdout",
     "output_type": "stream",
     "text": [
      "<class 'pandas.core.frame.DataFrame'>\n",
      "RangeIndex: 72 entries, 0 to 71\n",
      "Data columns (total 5 columns):\n",
      " #   Column       Non-Null Count  Dtype \n",
      "---  ------       --------------  ----- \n",
      " 0   PLAYERS      72 non-null     object\n",
      " 1   NATIONALITY  72 non-null     object\n",
      " 2   TYPE         72 non-null     object\n",
      " 3   PRICE PAID   72 non-null     int64 \n",
      " 4   TEAM         72 non-null     object\n",
      "dtypes: int64(1), object(4)\n",
      "memory usage: 2.9+ KB\n"
     ]
    }
   ],
   "source": [
    "data.info()"
   ]
  },
  {
   "cell_type": "markdown",
   "id": "16facf9a",
   "metadata": {},
   "source": [
    "### Size of Dataset"
   ]
  },
  {
   "cell_type": "code",
   "execution_count": 5,
   "id": "cccdccad",
   "metadata": {},
   "outputs": [
    {
     "data": {
      "text/plain": [
       "360"
      ]
     },
     "execution_count": 5,
     "metadata": {},
     "output_type": "execute_result"
    }
   ],
   "source": [
    "data.size"
   ]
  },
  {
   "cell_type": "markdown",
   "id": "60143559",
   "metadata": {},
   "source": [
    "### Check Any Null Values Present In Dataset."
   ]
  },
  {
   "cell_type": "code",
   "execution_count": 6,
   "id": "b298ad6e",
   "metadata": {},
   "outputs": [
    {
     "data": {
      "text/plain": [
       "PLAYERS        0\n",
       "NATIONALITY    0\n",
       "TYPE           0\n",
       "PRICE PAID     0\n",
       "TEAM           0\n",
       "dtype: int64"
      ]
     },
     "execution_count": 6,
     "metadata": {},
     "output_type": "execute_result"
    }
   ],
   "source": [
    "data.isnull().sum()"
   ]
  },
  {
   "cell_type": "markdown",
   "id": "d7343e17",
   "metadata": {},
   "source": [
    "### Statistic Of Dataset."
   ]
  },
  {
   "cell_type": "code",
   "execution_count": 7,
   "id": "f8a08050",
   "metadata": {},
   "outputs": [
    {
     "data": {
      "text/html": [
       "<div>\n",
       "<style scoped>\n",
       "    .dataframe tbody tr th:only-of-type {\n",
       "        vertical-align: middle;\n",
       "    }\n",
       "\n",
       "    .dataframe tbody tr th {\n",
       "        vertical-align: top;\n",
       "    }\n",
       "\n",
       "    .dataframe thead th {\n",
       "        text-align: right;\n",
       "    }\n",
       "</style>\n",
       "<table border=\"1\" class=\"dataframe\">\n",
       "  <thead>\n",
       "    <tr style=\"text-align: right;\">\n",
       "      <th></th>\n",
       "      <th>PRICE PAID</th>\n",
       "    </tr>\n",
       "  </thead>\n",
       "  <tbody>\n",
       "    <tr>\n",
       "      <th>count</th>\n",
       "      <td>7.200000e+01</td>\n",
       "    </tr>\n",
       "    <tr>\n",
       "      <th>mean</th>\n",
       "      <td>3.200694e+07</td>\n",
       "    </tr>\n",
       "    <tr>\n",
       "      <th>std</th>\n",
       "      <td>4.659788e+07</td>\n",
       "    </tr>\n",
       "    <tr>\n",
       "      <th>min</th>\n",
       "      <td>2.000000e+06</td>\n",
       "    </tr>\n",
       "    <tr>\n",
       "      <th>25%</th>\n",
       "      <td>2.000000e+06</td>\n",
       "    </tr>\n",
       "    <tr>\n",
       "      <th>50%</th>\n",
       "      <td>1.250000e+07</td>\n",
       "    </tr>\n",
       "    <tr>\n",
       "      <th>75%</th>\n",
       "      <td>4.850000e+07</td>\n",
       "    </tr>\n",
       "    <tr>\n",
       "      <th>max</th>\n",
       "      <td>2.475000e+08</td>\n",
       "    </tr>\n",
       "  </tbody>\n",
       "</table>\n",
       "</div>"
      ],
      "text/plain": [
       "         PRICE PAID\n",
       "count  7.200000e+01\n",
       "mean   3.200694e+07\n",
       "std    4.659788e+07\n",
       "min    2.000000e+06\n",
       "25%    2.000000e+06\n",
       "50%    1.250000e+07\n",
       "75%    4.850000e+07\n",
       "max    2.475000e+08"
      ]
     },
     "execution_count": 7,
     "metadata": {},
     "output_type": "execute_result"
    }
   ],
   "source": [
    "data.describe()"
   ]
  },
  {
   "cell_type": "code",
   "execution_count": 8,
   "id": "4ec7d344",
   "metadata": {},
   "outputs": [
    {
     "data": {
      "text/plain": [
       "Index(['PLAYERS', 'NATIONALITY', 'TYPE', 'PRICE PAID', 'TEAM'], dtype='object')"
      ]
     },
     "execution_count": 8,
     "metadata": {},
     "output_type": "execute_result"
    }
   ],
   "source": [
    "data.columns"
   ]
  },
  {
   "cell_type": "markdown",
   "id": "0c9d38f2",
   "metadata": {},
   "source": [
    "## How Many Team Participate In Auction"
   ]
  },
  {
   "cell_type": "markdown",
   "id": "190564a0",
   "metadata": {},
   "source": [
    "Short Name of Team to Full Name Convert."
   ]
  },
  {
   "cell_type": "code",
   "execution_count": 9,
   "id": "dafe1539",
   "metadata": {},
   "outputs": [],
   "source": [
    "team_map={\"CSK\":\"Chennai Super Kings\",\"DC\":\"Delhi Capitals\",\"GT\":\"Gujarat Titans\",\"KKR\":\"Kolkata Knight Riders\",\"LSG\":\"Lucknow Super Giants\",\n",
    "         \"MI\":\"Mumbai Indians\",\"PK\":\"Punjab Kings\",\"RR\":\"Rajasthan Royals\",\"RCB\":\"Royal Challengers Bengaluru\",\"SH\":\"Sunrisers Hyderabad\"}"
   ]
  },
  {
   "cell_type": "code",
   "execution_count": 10,
   "id": "1ddbc96e",
   "metadata": {},
   "outputs": [],
   "source": [
    "data[\"TEAM\"]=data[\"TEAM\"].replace(team_map)"
   ]
  },
  {
   "cell_type": "code",
   "execution_count": 11,
   "id": "f188438b",
   "metadata": {},
   "outputs": [
    {
     "data": {
      "text/plain": [
       "0     Chennai Super Kings\n",
       "1     Chennai Super Kings\n",
       "2     Chennai Super Kings\n",
       "3     Chennai Super Kings\n",
       "4     Chennai Super Kings\n",
       "             ...         \n",
       "67    Sunrisers Hyderabad\n",
       "68    Sunrisers Hyderabad\n",
       "69    Sunrisers Hyderabad\n",
       "70    Sunrisers Hyderabad\n",
       "71    Sunrisers Hyderabad\n",
       "Name: TEAM, Length: 72, dtype: object"
      ]
     },
     "execution_count": 11,
     "metadata": {},
     "output_type": "execute_result"
    }
   ],
   "source": [
    "data[\"TEAM\"]"
   ]
  },
  {
   "cell_type": "code",
   "execution_count": 12,
   "id": "eab829a8",
   "metadata": {},
   "outputs": [],
   "source": [
    "Team_name=data[\"TEAM\"].unique()\n",
    "Team_count=len(Team_name)"
   ]
  },
  {
   "cell_type": "code",
   "execution_count": 13,
   "id": "289bd4e0",
   "metadata": {},
   "outputs": [
    {
     "name": "stdout",
     "output_type": "stream",
     "text": [
      "There Are Total 10 Team Participants in 2024 Ipl Auction\n"
     ]
    }
   ],
   "source": [
    "print(f\"There Are Total {Team_count} Team Participants in 2024 Ipl Auction\")"
   ]
  },
  {
   "cell_type": "code",
   "execution_count": 14,
   "id": "79900e94",
   "metadata": {},
   "outputs": [
    {
     "name": "stdout",
     "output_type": "stream",
     "text": [
      "Team Names : ['Chennai Super Kings' 'Delhi Capitals' 'Gujarat Titans'\n",
      " 'Kolkata Knight Riders' 'Lucknow Super Giants' 'Mumbai Indians'\n",
      " 'Punjab Kings' 'Rajasthan Royals' 'Royal Challengers Bengaluru'\n",
      " 'Sunrisers Hyderabad']\n"
     ]
    }
   ],
   "source": [
    "print(f\"Team Names : {Team_name}\")"
   ]
  },
  {
   "cell_type": "markdown",
   "id": "8194cf22",
   "metadata": {},
   "source": [
    "### How Many Indian Player Sold in Ipl Auction?"
   ]
  },
  {
   "cell_type": "code",
   "execution_count": 15,
   "id": "818e1331",
   "metadata": {},
   "outputs": [],
   "source": [
    "indian_player=data[data[\"NATIONALITY\"]==\"Indian\"]"
   ]
  },
  {
   "cell_type": "code",
   "execution_count": 16,
   "id": "a6fc5c8c",
   "metadata": {},
   "outputs": [],
   "source": [
    "indian_player_count=indian_player[\"PLAYERS\"].count()"
   ]
  },
  {
   "cell_type": "code",
   "execution_count": 17,
   "id": "757c27ab",
   "metadata": {},
   "outputs": [
    {
     "name": "stdout",
     "output_type": "stream",
     "text": [
      "Total 42 Indian Player sold in Auction.\n"
     ]
    }
   ],
   "source": [
    "print(f\"Total {indian_player_count} Indian Player sold in Auction.\")"
   ]
  },
  {
   "cell_type": "markdown",
   "id": "cbc7c5d8",
   "metadata": {},
   "source": [
    "### How Many Overseas Player Sold in Ipl Auction?"
   ]
  },
  {
   "cell_type": "code",
   "execution_count": 18,
   "id": "f3305be0",
   "metadata": {},
   "outputs": [],
   "source": [
    "not_indian_player=data[data[\"NATIONALITY\"]!=\"Indian\"]"
   ]
  },
  {
   "cell_type": "code",
   "execution_count": 19,
   "id": "229b51f1",
   "metadata": {},
   "outputs": [],
   "source": [
    "not_indian_player_count=not_indian_player[\"PLAYERS\"].count()"
   ]
  },
  {
   "cell_type": "code",
   "execution_count": 20,
   "id": "dfa902af",
   "metadata": {},
   "outputs": [
    {
     "name": "stdout",
     "output_type": "stream",
     "text": [
      "Total 30 Overseas Player sold in Auction.\n"
     ]
    }
   ],
   "source": [
    "print(f\"Total {not_indian_player_count} Overseas Player sold in Auction.\")"
   ]
  },
  {
   "cell_type": "markdown",
   "id": "055dabeb",
   "metadata": {},
   "source": [
    "<h1 style=\"text-align:center\">Wicket-Keeper Analysis</h1>"
   ]
  },
  {
   "cell_type": "markdown",
   "id": "2a91184c",
   "metadata": {},
   "source": [
    "<img src=\"360_F_74067247_f23zG4rwGSmPZ0XnXMUJjP6UEu8CIkSo.jpg\" width=\"200px\" height=\"200px\" style=\"float: center;\">"
   ]
  },
  {
   "cell_type": "markdown",
   "id": "5e794b88",
   "metadata": {},
   "source": [
    "### How Many Wicket-Keepers Sold in Ipl Auction?"
   ]
  },
  {
   "cell_type": "code",
   "execution_count": 21,
   "id": "328fea16",
   "metadata": {},
   "outputs": [],
   "source": [
    "data_wicketkeep=data[data[\"TYPE\"]==\"Wicket-Keeper\"]"
   ]
  },
  {
   "cell_type": "code",
   "execution_count": 22,
   "id": "a51277dc",
   "metadata": {},
   "outputs": [
    {
     "data": {
      "text/html": [
       "<div>\n",
       "<style scoped>\n",
       "    .dataframe tbody tr th:only-of-type {\n",
       "        vertical-align: middle;\n",
       "    }\n",
       "\n",
       "    .dataframe tbody tr th {\n",
       "        vertical-align: top;\n",
       "    }\n",
       "\n",
       "    .dataframe thead th {\n",
       "        text-align: right;\n",
       "    }\n",
       "</style>\n",
       "<table border=\"1\" class=\"dataframe\">\n",
       "  <thead>\n",
       "    <tr style=\"text-align: right;\">\n",
       "      <th></th>\n",
       "      <th>PLAYERS</th>\n",
       "      <th>NATIONALITY</th>\n",
       "      <th>TYPE</th>\n",
       "      <th>PRICE PAID</th>\n",
       "      <th>TEAM</th>\n",
       "    </tr>\n",
       "  </thead>\n",
       "  <tbody>\n",
       "    <tr>\n",
       "      <th>0</th>\n",
       "      <td>Avanish Rao Aravelly</td>\n",
       "      <td>Indian</td>\n",
       "      <td>Wicket-Keeper</td>\n",
       "      <td>2000000</td>\n",
       "      <td>Chennai Super Kings</td>\n",
       "    </tr>\n",
       "    <tr>\n",
       "      <th>6</th>\n",
       "      <td>Ricky Bhui</td>\n",
       "      <td>Indian</td>\n",
       "      <td>Wicket-Keeper</td>\n",
       "      <td>2000000</td>\n",
       "      <td>Delhi Capitals</td>\n",
       "    </tr>\n",
       "    <tr>\n",
       "      <th>10</th>\n",
       "      <td>Shai Hope</td>\n",
       "      <td>Overseas</td>\n",
       "      <td>Wicket-Keeper</td>\n",
       "      <td>7500000</td>\n",
       "      <td>Delhi Capitals</td>\n",
       "    </tr>\n",
       "    <tr>\n",
       "      <th>12</th>\n",
       "      <td>Kumar Kushagra</td>\n",
       "      <td>Indian</td>\n",
       "      <td>Wicket-Keeper</td>\n",
       "      <td>72000000</td>\n",
       "      <td>Delhi Capitals</td>\n",
       "    </tr>\n",
       "    <tr>\n",
       "      <th>13</th>\n",
       "      <td>Tristan Stubbs</td>\n",
       "      <td>Overseas</td>\n",
       "      <td>Wicket-Keeper</td>\n",
       "      <td>5000000</td>\n",
       "      <td>Delhi Capitals</td>\n",
       "    </tr>\n",
       "    <tr>\n",
       "      <th>18</th>\n",
       "      <td>Robin Minz</td>\n",
       "      <td>Indian</td>\n",
       "      <td>Wicket-Keeper</td>\n",
       "      <td>36000000</td>\n",
       "      <td>Gujarat Titans</td>\n",
       "    </tr>\n",
       "    <tr>\n",
       "      <th>30</th>\n",
       "      <td>K.S. Bharat</td>\n",
       "      <td>Indian</td>\n",
       "      <td>Wicket-Keeper</td>\n",
       "      <td>5000000</td>\n",
       "      <td>Kolkata Knight Riders</td>\n",
       "    </tr>\n",
       "    <tr>\n",
       "      <th>59</th>\n",
       "      <td>Tom Kohler-Cadmore</td>\n",
       "      <td>Overseas</td>\n",
       "      <td>Wicket-Keeper</td>\n",
       "      <td>4000000</td>\n",
       "      <td>Rajasthan Royals</td>\n",
       "    </tr>\n",
       "  </tbody>\n",
       "</table>\n",
       "</div>"
      ],
      "text/plain": [
       "                 PLAYERS NATIONALITY           TYPE  PRICE PAID  \\\n",
       "0   Avanish Rao Aravelly      Indian  Wicket-Keeper     2000000   \n",
       "6             Ricky Bhui      Indian  Wicket-Keeper     2000000   \n",
       "10             Shai Hope    Overseas  Wicket-Keeper     7500000   \n",
       "12        Kumar Kushagra      Indian  Wicket-Keeper    72000000   \n",
       "13        Tristan Stubbs    Overseas  Wicket-Keeper     5000000   \n",
       "18            Robin Minz      Indian  Wicket-Keeper    36000000   \n",
       "30           K.S. Bharat      Indian  Wicket-Keeper     5000000   \n",
       "59    Tom Kohler-Cadmore    Overseas  Wicket-Keeper     4000000   \n",
       "\n",
       "                     TEAM  \n",
       "0     Chennai Super Kings  \n",
       "6          Delhi Capitals  \n",
       "10         Delhi Capitals  \n",
       "12         Delhi Capitals  \n",
       "13         Delhi Capitals  \n",
       "18         Gujarat Titans  \n",
       "30  Kolkata Knight Riders  \n",
       "59       Rajasthan Royals  "
      ]
     },
     "execution_count": 22,
     "metadata": {},
     "output_type": "execute_result"
    }
   ],
   "source": [
    "data_wicketkeep"
   ]
  },
  {
   "cell_type": "code",
   "execution_count": 23,
   "id": "a949a492",
   "metadata": {},
   "outputs": [
    {
     "data": {
      "text/plain": [
       "8"
      ]
     },
     "execution_count": 23,
     "metadata": {},
     "output_type": "execute_result"
    }
   ],
   "source": [
    "count_wicket_keep=data_wicketkeep[\"PLAYERS\"].count()\n",
    "count_wicket_keep"
   ]
  },
  {
   "cell_type": "markdown",
   "id": "a68189d3",
   "metadata": {},
   "source": [
    "### How Many Indian Wicket-Keepers Sold in Ipl Auction?"
   ]
  },
  {
   "cell_type": "code",
   "execution_count": 24,
   "id": "dcbd571b",
   "metadata": {},
   "outputs": [],
   "source": [
    "data_wicketkeep_indian=data[(data[\"TYPE\"]==\"Wicket-Keeper\") & (data[\"NATIONALITY\"]==\"Indian\")]"
   ]
  },
  {
   "cell_type": "code",
   "execution_count": 25,
   "id": "553e2088",
   "metadata": {},
   "outputs": [
    {
     "data": {
      "text/html": [
       "<div>\n",
       "<style scoped>\n",
       "    .dataframe tbody tr th:only-of-type {\n",
       "        vertical-align: middle;\n",
       "    }\n",
       "\n",
       "    .dataframe tbody tr th {\n",
       "        vertical-align: top;\n",
       "    }\n",
       "\n",
       "    .dataframe thead th {\n",
       "        text-align: right;\n",
       "    }\n",
       "</style>\n",
       "<table border=\"1\" class=\"dataframe\">\n",
       "  <thead>\n",
       "    <tr style=\"text-align: right;\">\n",
       "      <th></th>\n",
       "      <th>PLAYERS</th>\n",
       "      <th>NATIONALITY</th>\n",
       "      <th>TYPE</th>\n",
       "      <th>PRICE PAID</th>\n",
       "      <th>TEAM</th>\n",
       "    </tr>\n",
       "  </thead>\n",
       "  <tbody>\n",
       "    <tr>\n",
       "      <th>0</th>\n",
       "      <td>Avanish Rao Aravelly</td>\n",
       "      <td>Indian</td>\n",
       "      <td>Wicket-Keeper</td>\n",
       "      <td>2000000</td>\n",
       "      <td>Chennai Super Kings</td>\n",
       "    </tr>\n",
       "    <tr>\n",
       "      <th>6</th>\n",
       "      <td>Ricky Bhui</td>\n",
       "      <td>Indian</td>\n",
       "      <td>Wicket-Keeper</td>\n",
       "      <td>2000000</td>\n",
       "      <td>Delhi Capitals</td>\n",
       "    </tr>\n",
       "    <tr>\n",
       "      <th>12</th>\n",
       "      <td>Kumar Kushagra</td>\n",
       "      <td>Indian</td>\n",
       "      <td>Wicket-Keeper</td>\n",
       "      <td>72000000</td>\n",
       "      <td>Delhi Capitals</td>\n",
       "    </tr>\n",
       "    <tr>\n",
       "      <th>18</th>\n",
       "      <td>Robin Minz</td>\n",
       "      <td>Indian</td>\n",
       "      <td>Wicket-Keeper</td>\n",
       "      <td>36000000</td>\n",
       "      <td>Gujarat Titans</td>\n",
       "    </tr>\n",
       "    <tr>\n",
       "      <th>30</th>\n",
       "      <td>K.S. Bharat</td>\n",
       "      <td>Indian</td>\n",
       "      <td>Wicket-Keeper</td>\n",
       "      <td>5000000</td>\n",
       "      <td>Kolkata Knight Riders</td>\n",
       "    </tr>\n",
       "  </tbody>\n",
       "</table>\n",
       "</div>"
      ],
      "text/plain": [
       "                 PLAYERS NATIONALITY           TYPE  PRICE PAID  \\\n",
       "0   Avanish Rao Aravelly      Indian  Wicket-Keeper     2000000   \n",
       "6             Ricky Bhui      Indian  Wicket-Keeper     2000000   \n",
       "12        Kumar Kushagra      Indian  Wicket-Keeper    72000000   \n",
       "18            Robin Minz      Indian  Wicket-Keeper    36000000   \n",
       "30           K.S. Bharat      Indian  Wicket-Keeper     5000000   \n",
       "\n",
       "                     TEAM  \n",
       "0     Chennai Super Kings  \n",
       "6          Delhi Capitals  \n",
       "12         Delhi Capitals  \n",
       "18         Gujarat Titans  \n",
       "30  Kolkata Knight Riders  "
      ]
     },
     "execution_count": 25,
     "metadata": {},
     "output_type": "execute_result"
    }
   ],
   "source": [
    "data_wicketkeep_indian"
   ]
  },
  {
   "cell_type": "code",
   "execution_count": 26,
   "id": "ece46775",
   "metadata": {},
   "outputs": [
    {
     "data": {
      "text/plain": [
       "5"
      ]
     },
     "execution_count": 26,
     "metadata": {},
     "output_type": "execute_result"
    }
   ],
   "source": [
    "data_wicketkeep_indian[\"PLAYERS\"].count()"
   ]
  },
  {
   "cell_type": "markdown",
   "id": "e562afc1",
   "metadata": {},
   "source": [
    "### How Many Overseas Wicket-Keepers Sold in Ipl Auction?"
   ]
  },
  {
   "cell_type": "code",
   "execution_count": 27,
   "id": "5d354e45",
   "metadata": {},
   "outputs": [],
   "source": [
    "data_wicketkeep_not_indian=data[(data[\"TYPE\"]==\"Wicket-Keeper\") & (data[\"NATIONALITY\"]!=\"Indian\")]"
   ]
  },
  {
   "cell_type": "code",
   "execution_count": 28,
   "id": "480bc164",
   "metadata": {},
   "outputs": [
    {
     "data": {
      "text/html": [
       "<div>\n",
       "<style scoped>\n",
       "    .dataframe tbody tr th:only-of-type {\n",
       "        vertical-align: middle;\n",
       "    }\n",
       "\n",
       "    .dataframe tbody tr th {\n",
       "        vertical-align: top;\n",
       "    }\n",
       "\n",
       "    .dataframe thead th {\n",
       "        text-align: right;\n",
       "    }\n",
       "</style>\n",
       "<table border=\"1\" class=\"dataframe\">\n",
       "  <thead>\n",
       "    <tr style=\"text-align: right;\">\n",
       "      <th></th>\n",
       "      <th>PLAYERS</th>\n",
       "      <th>NATIONALITY</th>\n",
       "      <th>TYPE</th>\n",
       "      <th>PRICE PAID</th>\n",
       "      <th>TEAM</th>\n",
       "    </tr>\n",
       "  </thead>\n",
       "  <tbody>\n",
       "    <tr>\n",
       "      <th>10</th>\n",
       "      <td>Shai Hope</td>\n",
       "      <td>Overseas</td>\n",
       "      <td>Wicket-Keeper</td>\n",
       "      <td>7500000</td>\n",
       "      <td>Delhi Capitals</td>\n",
       "    </tr>\n",
       "    <tr>\n",
       "      <th>13</th>\n",
       "      <td>Tristan Stubbs</td>\n",
       "      <td>Overseas</td>\n",
       "      <td>Wicket-Keeper</td>\n",
       "      <td>5000000</td>\n",
       "      <td>Delhi Capitals</td>\n",
       "    </tr>\n",
       "    <tr>\n",
       "      <th>59</th>\n",
       "      <td>Tom Kohler-Cadmore</td>\n",
       "      <td>Overseas</td>\n",
       "      <td>Wicket-Keeper</td>\n",
       "      <td>4000000</td>\n",
       "      <td>Rajasthan Royals</td>\n",
       "    </tr>\n",
       "  </tbody>\n",
       "</table>\n",
       "</div>"
      ],
      "text/plain": [
       "               PLAYERS NATIONALITY           TYPE  PRICE PAID  \\\n",
       "10           Shai Hope    Overseas  Wicket-Keeper     7500000   \n",
       "13      Tristan Stubbs    Overseas  Wicket-Keeper     5000000   \n",
       "59  Tom Kohler-Cadmore    Overseas  Wicket-Keeper     4000000   \n",
       "\n",
       "                TEAM  \n",
       "10    Delhi Capitals  \n",
       "13    Delhi Capitals  \n",
       "59  Rajasthan Royals  "
      ]
     },
     "execution_count": 28,
     "metadata": {},
     "output_type": "execute_result"
    }
   ],
   "source": [
    "data_wicketkeep_not_indian"
   ]
  },
  {
   "cell_type": "code",
   "execution_count": 29,
   "id": "08ec64fd",
   "metadata": {},
   "outputs": [
    {
     "data": {
      "text/plain": [
       "3"
      ]
     },
     "execution_count": 29,
     "metadata": {},
     "output_type": "execute_result"
    }
   ],
   "source": [
    "data_wicketkeep_not_indian[\"PLAYERS\"].count()"
   ]
  },
  {
   "cell_type": "markdown",
   "id": "d9d29bb8",
   "metadata": {},
   "source": [
    "### Counts of Indian and Non-Indian Wicket-keepers Chart"
   ]
  },
  {
   "cell_type": "code",
   "execution_count": 30,
   "id": "9be83e71",
   "metadata": {},
   "outputs": [
    {
     "data": {
      "image/png": "[encoded data removed]",
      "text/plain": [
       "<Figure size 1000x600 with 1 Axes>"
      ]
     },
     "metadata": {},
     "output_type": "display_data"
    }
   ],
   "source": [
    "import seaborn as sns\n",
    "import matplotlib.pyplot as plt\n",
    "\n",
    "\n",
    "data_wicketkeep_indian = data[(data[\"TYPE\"]==\"Wicket-Keeper\") & (data[\"NATIONALITY\"]==\"Indian\")]\n",
    "data_wicketkeep_not_indian = data[(data[\"TYPE\"]==\"Wicket-Keeper\") & (data[\"NATIONALITY\"]!=\"Indian\")]\n",
    "\n",
    "plt.figure(figsize=(10, 6))\n",
    "sns.countplot(x=\"NATIONALITY\", data=pd.concat([data_wicketkeep_indian, data_wicketkeep_not_indian]))\n",
    "plt.title(\"Counts of Indian and Non-Indian Wicket-keepers\")\n",
    "plt.xlabel(\"Nationality\")\n",
    "plt.ylabel(\"Count\")\n",
    "plt.show()\n"
   ]
  },
  {
   "cell_type": "markdown",
   "id": "e7ef29df",
   "metadata": {},
   "source": [
    "### Number Of Wicket-Keepers For Each Team."
   ]
  },
  {
   "cell_type": "code",
   "execution_count": 31,
   "id": "c1cbc150",
   "metadata": {},
   "outputs": [
    {
     "data": {
      "text/html": [
       "<div>\n",
       "<style scoped>\n",
       "    .dataframe tbody tr th:only-of-type {\n",
       "        vertical-align: middle;\n",
       "    }\n",
       "\n",
       "    .dataframe tbody tr th {\n",
       "        vertical-align: top;\n",
       "    }\n",
       "\n",
       "    .dataframe thead th {\n",
       "        text-align: right;\n",
       "    }\n",
       "</style>\n",
       "<table border=\"1\" class=\"dataframe\">\n",
       "  <thead>\n",
       "    <tr style=\"text-align: right;\">\n",
       "      <th></th>\n",
       "      <th>TEAM</th>\n",
       "      <th>COUNT</th>\n",
       "    </tr>\n",
       "  </thead>\n",
       "  <tbody>\n",
       "    <tr>\n",
       "      <th>0</th>\n",
       "      <td>Chennai Super Kings</td>\n",
       "      <td>1</td>\n",
       "    </tr>\n",
       "    <tr>\n",
       "      <th>1</th>\n",
       "      <td>Delhi Capitals</td>\n",
       "      <td>4</td>\n",
       "    </tr>\n",
       "    <tr>\n",
       "      <th>2</th>\n",
       "      <td>Gujarat Titans</td>\n",
       "      <td>1</td>\n",
       "    </tr>\n",
       "    <tr>\n",
       "      <th>3</th>\n",
       "      <td>Kolkata Knight Riders</td>\n",
       "      <td>1</td>\n",
       "    </tr>\n",
       "    <tr>\n",
       "      <th>4</th>\n",
       "      <td>Rajasthan Royals</td>\n",
       "      <td>1</td>\n",
       "    </tr>\n",
       "  </tbody>\n",
       "</table>\n",
       "</div>"
      ],
      "text/plain": [
       "                    TEAM  COUNT\n",
       "0    Chennai Super Kings      1\n",
       "1         Delhi Capitals      4\n",
       "2         Gujarat Titans      1\n",
       "3  Kolkata Knight Riders      1\n",
       "4       Rajasthan Royals      1"
      ]
     },
     "execution_count": 31,
     "metadata": {},
     "output_type": "execute_result"
    }
   ],
   "source": [
    "wicket_keepers_per_team = data[data[\"TYPE\"] == \"Wicket-Keeper\"].groupby(\"TEAM\").size().reset_index(name=\"COUNT\")\n",
    "wicket_keepers_per_team"
   ]
  },
  {
   "cell_type": "markdown",
   "id": "5560c3b1",
   "metadata": {},
   "source": [
    "### Team Name Who Have Most Wicket-Keepers."
   ]
  },
  {
   "cell_type": "code",
   "execution_count": 32,
   "id": "d5946caa",
   "metadata": {},
   "outputs": [],
   "source": [
    "team_with_most_wicket_keepers = wicket_keepers_per_team.loc[wicket_keepers_per_team[\"COUNT\"].idxmax()]"
   ]
  },
  {
   "cell_type": "code",
   "execution_count": 33,
   "id": "1d365746",
   "metadata": {},
   "outputs": [
    {
     "name": "stdout",
     "output_type": "stream",
     "text": [
      "TEAM     Delhi Capitals\n",
      "COUNT                 4\n",
      "Name: 1, dtype: object\n"
     ]
    }
   ],
   "source": [
    "print(team_with_most_wicket_keepers)"
   ]
  },
  {
   "cell_type": "markdown",
   "id": "0ad2c4b2",
   "metadata": {},
   "source": [
    "### Chart Of Which team Have Most Wicket-Keepers."
   ]
  },
  {
   "cell_type": "code",
   "execution_count": 34,
   "id": "08e20749",
   "metadata": {},
   "outputs": [
    {
     "data": {
      "image/png": "[encoded data removed]",
      "text/plain": [
       "<Figure size 1200x600 with 1 Axes>"
      ]
     },
     "metadata": {},
     "output_type": "display_data"
    }
   ],
   "source": [
    "import seaborn as sns\n",
    "import matplotlib.pyplot as plt\n",
    "\n",
    "wicket_keepers_per_team = data[data[\"TYPE\"] == \"Wicket-Keeper\"].groupby(\"TEAM\").size().reset_index(name=\"COUNT\")\n",
    "plt.figure(figsize=(12, 6))\n",
    "sns.barplot(x=\"TEAM\", y=\"COUNT\", data=wicket_keepers_per_team)\n",
    "plt.title(\"Number of Wicket-Keepers in Each Team\")\n",
    "plt.xlabel(\"Team\")\n",
    "plt.ylabel(\"Number of Wicket-Keepers\")\n",
    "plt.xticks(rotation=45, ha='right')\n",
    "plt.tight_layout()\n",
    "plt.show()\n"
   ]
  },
  {
   "cell_type": "markdown",
   "id": "655c10f2",
   "metadata": {},
   "source": [
    "### Highest Paid Wicket-Keepers in 2024 Auction"
   ]
  },
  {
   "cell_type": "code",
   "execution_count": 35,
   "id": "749c6d3a",
   "metadata": {},
   "outputs": [
    {
     "data": {
      "text/plain": [
       "PLAYERS        Kumar Kushagra\n",
       "NATIONALITY            Indian\n",
       "TYPE            Wicket-Keeper\n",
       "PRICE PAID           72000000\n",
       "TEAM           Delhi Capitals\n",
       "Name: 12, dtype: object"
      ]
     },
     "execution_count": 35,
     "metadata": {},
     "output_type": "execute_result"
    }
   ],
   "source": [
    "data_wicketkeep.loc[data_wicketkeep[\"PRICE PAID\"].idxmax()]"
   ]
  },
  {
   "cell_type": "markdown",
   "id": "79d03128",
   "metadata": {},
   "source": [
    "\n",
    "<img src=\"Screenshot_20231220-003333_Instagram.jpg\" width=\"200px\" height=\"200px\" style=\"float: left; margin-right: 10px;\">"
   ]
  },
  {
   "cell_type": "code",
   "execution_count": 36,
   "id": "3051d636",
   "metadata": {},
   "outputs": [],
   "source": [
    "top_5_wicketkeep=data_wicketkeep.sort_values(by=\"PRICE PAID\",ascending=False)"
   ]
  },
  {
   "cell_type": "code",
   "execution_count": 37,
   "id": "7a1d6ab7",
   "metadata": {},
   "outputs": [
    {
     "data": {
      "text/html": [
       "<div>\n",
       "<style scoped>\n",
       "    .dataframe tbody tr th:only-of-type {\n",
       "        vertical-align: middle;\n",
       "    }\n",
       "\n",
       "    .dataframe tbody tr th {\n",
       "        vertical-align: top;\n",
       "    }\n",
       "\n",
       "    .dataframe thead th {\n",
       "        text-align: right;\n",
       "    }\n",
       "</style>\n",
       "<table border=\"1\" class=\"dataframe\">\n",
       "  <thead>\n",
       "    <tr style=\"text-align: right;\">\n",
       "      <th></th>\n",
       "      <th>PLAYERS</th>\n",
       "      <th>NATIONALITY</th>\n",
       "      <th>TYPE</th>\n",
       "      <th>PRICE PAID</th>\n",
       "      <th>TEAM</th>\n",
       "    </tr>\n",
       "  </thead>\n",
       "  <tbody>\n",
       "    <tr>\n",
       "      <th>12</th>\n",
       "      <td>Kumar Kushagra</td>\n",
       "      <td>Indian</td>\n",
       "      <td>Wicket-Keeper</td>\n",
       "      <td>72000000</td>\n",
       "      <td>Delhi Capitals</td>\n",
       "    </tr>\n",
       "    <tr>\n",
       "      <th>18</th>\n",
       "      <td>Robin Minz</td>\n",
       "      <td>Indian</td>\n",
       "      <td>Wicket-Keeper</td>\n",
       "      <td>36000000</td>\n",
       "      <td>Gujarat Titans</td>\n",
       "    </tr>\n",
       "    <tr>\n",
       "      <th>10</th>\n",
       "      <td>Shai Hope</td>\n",
       "      <td>Overseas</td>\n",
       "      <td>Wicket-Keeper</td>\n",
       "      <td>7500000</td>\n",
       "      <td>Delhi Capitals</td>\n",
       "    </tr>\n",
       "    <tr>\n",
       "      <th>13</th>\n",
       "      <td>Tristan Stubbs</td>\n",
       "      <td>Overseas</td>\n",
       "      <td>Wicket-Keeper</td>\n",
       "      <td>5000000</td>\n",
       "      <td>Delhi Capitals</td>\n",
       "    </tr>\n",
       "    <tr>\n",
       "      <th>30</th>\n",
       "      <td>K.S. Bharat</td>\n",
       "      <td>Indian</td>\n",
       "      <td>Wicket-Keeper</td>\n",
       "      <td>5000000</td>\n",
       "      <td>Kolkata Knight Riders</td>\n",
       "    </tr>\n",
       "  </tbody>\n",
       "</table>\n",
       "</div>"
      ],
      "text/plain": [
       "           PLAYERS NATIONALITY           TYPE  PRICE PAID  \\\n",
       "12  Kumar Kushagra      Indian  Wicket-Keeper    72000000   \n",
       "18      Robin Minz      Indian  Wicket-Keeper    36000000   \n",
       "10       Shai Hope    Overseas  Wicket-Keeper     7500000   \n",
       "13  Tristan Stubbs    Overseas  Wicket-Keeper     5000000   \n",
       "30     K.S. Bharat      Indian  Wicket-Keeper     5000000   \n",
       "\n",
       "                     TEAM  \n",
       "12         Delhi Capitals  \n",
       "18         Gujarat Titans  \n",
       "10         Delhi Capitals  \n",
       "13         Delhi Capitals  \n",
       "30  Kolkata Knight Riders  "
      ]
     },
     "execution_count": 37,
     "metadata": {},
     "output_type": "execute_result"
    }
   ],
   "source": [
    "top_5_wicketkeep.head()"
   ]
  },
  {
   "cell_type": "markdown",
   "id": "1d3cafdc",
   "metadata": {},
   "source": [
    "<div style=\"display: flex;\">\n",
    "    <img src=\"Screenshot_20231220-003333_Instagram.jpg\" alt=\"Photo 1\" style=\"width: 20%; height: auto; margin-right: 5px;\">\n",
    "    <img src=\"robin.jpg\" alt=\"Photo 2\" style=\"width: 20%; height: auto; margin-right: 5px;\">\n",
    "    <img src=\"hope.jpg\" alt=\"Photo 3\" style=\"width: 20%; height: auto; margin-right: 5px;\">\n",
    "    <img src=\"stubs.jpg\" alt=\"Photo 4\" style=\"width: 20%; height: auto; margin-right: 5px;\">\n",
    "    <img src=\"bhart2.webp\" alt=\"Photo 5\" style=\"width: 20%; height: auto; margin-right:5px\">\n",
    "</div>\n"
   ]
  },
  {
   "cell_type": "markdown",
   "id": "651bacdd",
   "metadata": {},
   "source": [
    "<h1 style=\"text-align:center\">Batters Analysis</h1>"
   ]
  },
  {
   "cell_type": "markdown",
   "id": "eb372a8a",
   "metadata": {},
   "source": [
    "<img src=\"cricket-player-logo-design-vector-260nw-2147079989.webp\" width=\"200px\" height=\"200px\" style=\"float: center;\">"
   ]
  },
  {
   "cell_type": "markdown",
   "id": "d3933859",
   "metadata": {},
   "source": [
    "### How Many Batters Sold in Ipl Auction?"
   ]
  },
  {
   "cell_type": "code",
   "execution_count": 38,
   "id": "166d340c",
   "metadata": {},
   "outputs": [],
   "source": [
    "data_batter=data[data[\"TYPE\"]==\"Batter\"]"
   ]
  },
  {
   "cell_type": "code",
   "execution_count": 39,
   "id": "426a666d",
   "metadata": {},
   "outputs": [
    {
     "data": {
      "text/html": [
       "<div>\n",
       "<style scoped>\n",
       "    .dataframe tbody tr th:only-of-type {\n",
       "        vertical-align: middle;\n",
       "    }\n",
       "\n",
       "    .dataframe tbody tr th {\n",
       "        vertical-align: top;\n",
       "    }\n",
       "\n",
       "    .dataframe thead th {\n",
       "        text-align: right;\n",
       "    }\n",
       "</style>\n",
       "<table border=\"1\" class=\"dataframe\">\n",
       "  <thead>\n",
       "    <tr style=\"text-align: right;\">\n",
       "      <th></th>\n",
       "      <th>PLAYERS</th>\n",
       "      <th>NATIONALITY</th>\n",
       "      <th>TYPE</th>\n",
       "      <th>PRICE PAID</th>\n",
       "      <th>TEAM</th>\n",
       "    </tr>\n",
       "  </thead>\n",
       "  <tbody>\n",
       "    <tr>\n",
       "      <th>3</th>\n",
       "      <td>Sameer Rizvi</td>\n",
       "      <td>Indian</td>\n",
       "      <td>Batter</td>\n",
       "      <td>84000000</td>\n",
       "      <td>Chennai Super Kings</td>\n",
       "    </tr>\n",
       "    <tr>\n",
       "      <th>8</th>\n",
       "      <td>Swastik Chhikara</td>\n",
       "      <td>Indian</td>\n",
       "      <td>Batter</td>\n",
       "      <td>2000000</td>\n",
       "      <td>Delhi Capitals</td>\n",
       "    </tr>\n",
       "    <tr>\n",
       "      <th>14</th>\n",
       "      <td>Harry Brook</td>\n",
       "      <td>Overseas</td>\n",
       "      <td>Batter</td>\n",
       "      <td>40000000</td>\n",
       "      <td>Delhi Capitals</td>\n",
       "    </tr>\n",
       "    <tr>\n",
       "      <th>24</th>\n",
       "      <td>Manish Pandey</td>\n",
       "      <td>Indian</td>\n",
       "      <td>Batter</td>\n",
       "      <td>5000000</td>\n",
       "      <td>Kolkata Knight Riders</td>\n",
       "    </tr>\n",
       "    <tr>\n",
       "      <th>26</th>\n",
       "      <td>Angkrish Raghuvanshi</td>\n",
       "      <td>Indian</td>\n",
       "      <td>Batter</td>\n",
       "      <td>2000000</td>\n",
       "      <td>Kolkata Knight Riders</td>\n",
       "    </tr>\n",
       "    <tr>\n",
       "      <th>28</th>\n",
       "      <td>Sherfane Rutherford</td>\n",
       "      <td>Overseas</td>\n",
       "      <td>Batter</td>\n",
       "      <td>15000000</td>\n",
       "      <td>Kolkata Knight Riders</td>\n",
       "    </tr>\n",
       "    <tr>\n",
       "      <th>33</th>\n",
       "      <td>Ashton Turner</td>\n",
       "      <td>Overseas</td>\n",
       "      <td>Batter</td>\n",
       "      <td>10000000</td>\n",
       "      <td>Lucknow Super Giants</td>\n",
       "    </tr>\n",
       "    <tr>\n",
       "      <th>51</th>\n",
       "      <td>Shashank Singh</td>\n",
       "      <td>Indian</td>\n",
       "      <td>Batter</td>\n",
       "      <td>2000000</td>\n",
       "      <td>Punjab Kings</td>\n",
       "    </tr>\n",
       "    <tr>\n",
       "      <th>52</th>\n",
       "      <td>Rilee Rossouw</td>\n",
       "      <td>Overseas</td>\n",
       "      <td>Batter</td>\n",
       "      <td>80000000</td>\n",
       "      <td>Punjab Kings</td>\n",
       "    </tr>\n",
       "    <tr>\n",
       "      <th>55</th>\n",
       "      <td>Shubham Dubey</td>\n",
       "      <td>Indian</td>\n",
       "      <td>Batter</td>\n",
       "      <td>58000000</td>\n",
       "      <td>Rajasthan Royals</td>\n",
       "    </tr>\n",
       "    <tr>\n",
       "      <th>56</th>\n",
       "      <td>Rovman Powell</td>\n",
       "      <td>Overseas</td>\n",
       "      <td>Batter</td>\n",
       "      <td>74000000</td>\n",
       "      <td>Rajasthan Royals</td>\n",
       "    </tr>\n",
       "    <tr>\n",
       "      <th>62</th>\n",
       "      <td>Saurav Chuahan</td>\n",
       "      <td>Indian</td>\n",
       "      <td>Batter</td>\n",
       "      <td>2000000</td>\n",
       "      <td>Royal Challengers Bengaluru</td>\n",
       "    </tr>\n",
       "    <tr>\n",
       "      <th>71</th>\n",
       "      <td>Travis Head</td>\n",
       "      <td>Overseas</td>\n",
       "      <td>Batter</td>\n",
       "      <td>68000000</td>\n",
       "      <td>Sunrisers Hyderabad</td>\n",
       "    </tr>\n",
       "  </tbody>\n",
       "</table>\n",
       "</div>"
      ],
      "text/plain": [
       "                 PLAYERS NATIONALITY    TYPE  PRICE PAID  \\\n",
       "3           Sameer Rizvi      Indian  Batter    84000000   \n",
       "8       Swastik Chhikara      Indian  Batter     2000000   \n",
       "14           Harry Brook    Overseas  Batter    40000000   \n",
       "24         Manish Pandey      Indian  Batter     5000000   \n",
       "26  Angkrish Raghuvanshi      Indian  Batter     2000000   \n",
       "28   Sherfane Rutherford    Overseas  Batter    15000000   \n",
       "33         Ashton Turner    Overseas  Batter    10000000   \n",
       "51        Shashank Singh      Indian  Batter     2000000   \n",
       "52         Rilee Rossouw    Overseas  Batter    80000000   \n",
       "55         Shubham Dubey      Indian  Batter    58000000   \n",
       "56         Rovman Powell    Overseas  Batter    74000000   \n",
       "62        Saurav Chuahan      Indian  Batter     2000000   \n",
       "71           Travis Head    Overseas  Batter    68000000   \n",
       "\n",
       "                           TEAM  \n",
       "3           Chennai Super Kings  \n",
       "8                Delhi Capitals  \n",
       "14               Delhi Capitals  \n",
       "24        Kolkata Knight Riders  \n",
       "26        Kolkata Knight Riders  \n",
       "28        Kolkata Knight Riders  \n",
       "33         Lucknow Super Giants  \n",
       "51                 Punjab Kings  \n",
       "52                 Punjab Kings  \n",
       "55             Rajasthan Royals  \n",
       "56             Rajasthan Royals  \n",
       "62  Royal Challengers Bengaluru  \n",
       "71          Sunrisers Hyderabad  "
      ]
     },
     "execution_count": 39,
     "metadata": {},
     "output_type": "execute_result"
    }
   ],
   "source": [
    "data_batter"
   ]
  },
  {
   "cell_type": "code",
   "execution_count": 40,
   "id": "226e7d4b",
   "metadata": {},
   "outputs": [
    {
     "data": {
      "text/plain": [
       "13"
      ]
     },
     "execution_count": 40,
     "metadata": {},
     "output_type": "execute_result"
    }
   ],
   "source": [
    "count_batter=data_batter[\"PLAYERS\"].count()\n",
    "count_batter"
   ]
  },
  {
   "cell_type": "markdown",
   "id": "c3a4651a",
   "metadata": {},
   "source": [
    "### How Many Indian Batters Sold in Ipl Auction?"
   ]
  },
  {
   "cell_type": "code",
   "execution_count": 41,
   "id": "3e51799a",
   "metadata": {},
   "outputs": [],
   "source": [
    "data_batter_indian=data[(data[\"TYPE\"]==\"Batter\") & (data[\"NATIONALITY\"]==\"Indian\")]"
   ]
  },
  {
   "cell_type": "code",
   "execution_count": 42,
   "id": "22d6a09a",
   "metadata": {},
   "outputs": [
    {
     "data": {
      "text/html": [
       "<div>\n",
       "<style scoped>\n",
       "    .dataframe tbody tr th:only-of-type {\n",
       "        vertical-align: middle;\n",
       "    }\n",
       "\n",
       "    .dataframe tbody tr th {\n",
       "        vertical-align: top;\n",
       "    }\n",
       "\n",
       "    .dataframe thead th {\n",
       "        text-align: right;\n",
       "    }\n",
       "</style>\n",
       "<table border=\"1\" class=\"dataframe\">\n",
       "  <thead>\n",
       "    <tr style=\"text-align: right;\">\n",
       "      <th></th>\n",
       "      <th>PLAYERS</th>\n",
       "      <th>NATIONALITY</th>\n",
       "      <th>TYPE</th>\n",
       "      <th>PRICE PAID</th>\n",
       "      <th>TEAM</th>\n",
       "    </tr>\n",
       "  </thead>\n",
       "  <tbody>\n",
       "    <tr>\n",
       "      <th>3</th>\n",
       "      <td>Sameer Rizvi</td>\n",
       "      <td>Indian</td>\n",
       "      <td>Batter</td>\n",
       "      <td>84000000</td>\n",
       "      <td>Chennai Super Kings</td>\n",
       "    </tr>\n",
       "    <tr>\n",
       "      <th>8</th>\n",
       "      <td>Swastik Chhikara</td>\n",
       "      <td>Indian</td>\n",
       "      <td>Batter</td>\n",
       "      <td>2000000</td>\n",
       "      <td>Delhi Capitals</td>\n",
       "    </tr>\n",
       "    <tr>\n",
       "      <th>24</th>\n",
       "      <td>Manish Pandey</td>\n",
       "      <td>Indian</td>\n",
       "      <td>Batter</td>\n",
       "      <td>5000000</td>\n",
       "      <td>Kolkata Knight Riders</td>\n",
       "    </tr>\n",
       "    <tr>\n",
       "      <th>26</th>\n",
       "      <td>Angkrish Raghuvanshi</td>\n",
       "      <td>Indian</td>\n",
       "      <td>Batter</td>\n",
       "      <td>2000000</td>\n",
       "      <td>Kolkata Knight Riders</td>\n",
       "    </tr>\n",
       "    <tr>\n",
       "      <th>51</th>\n",
       "      <td>Shashank Singh</td>\n",
       "      <td>Indian</td>\n",
       "      <td>Batter</td>\n",
       "      <td>2000000</td>\n",
       "      <td>Punjab Kings</td>\n",
       "    </tr>\n",
       "    <tr>\n",
       "      <th>55</th>\n",
       "      <td>Shubham Dubey</td>\n",
       "      <td>Indian</td>\n",
       "      <td>Batter</td>\n",
       "      <td>58000000</td>\n",
       "      <td>Rajasthan Royals</td>\n",
       "    </tr>\n",
       "    <tr>\n",
       "      <th>62</th>\n",
       "      <td>Saurav Chuahan</td>\n",
       "      <td>Indian</td>\n",
       "      <td>Batter</td>\n",
       "      <td>2000000</td>\n",
       "      <td>Royal Challengers Bengaluru</td>\n",
       "    </tr>\n",
       "  </tbody>\n",
       "</table>\n",
       "</div>"
      ],
      "text/plain": [
       "                 PLAYERS NATIONALITY    TYPE  PRICE PAID  \\\n",
       "3           Sameer Rizvi      Indian  Batter    84000000   \n",
       "8       Swastik Chhikara      Indian  Batter     2000000   \n",
       "24         Manish Pandey      Indian  Batter     5000000   \n",
       "26  Angkrish Raghuvanshi      Indian  Batter     2000000   \n",
       "51        Shashank Singh      Indian  Batter     2000000   \n",
       "55         Shubham Dubey      Indian  Batter    58000000   \n",
       "62        Saurav Chuahan      Indian  Batter     2000000   \n",
       "\n",
       "                           TEAM  \n",
       "3           Chennai Super Kings  \n",
       "8                Delhi Capitals  \n",
       "24        Kolkata Knight Riders  \n",
       "26        Kolkata Knight Riders  \n",
       "51                 Punjab Kings  \n",
       "55             Rajasthan Royals  \n",
       "62  Royal Challengers Bengaluru  "
      ]
     },
     "execution_count": 42,
     "metadata": {},
     "output_type": "execute_result"
    }
   ],
   "source": [
    "data_batter_indian"
   ]
  },
  {
   "cell_type": "code",
   "execution_count": 43,
   "id": "519c983a",
   "metadata": {},
   "outputs": [
    {
     "data": {
      "text/plain": [
       "7"
      ]
     },
     "execution_count": 43,
     "metadata": {},
     "output_type": "execute_result"
    }
   ],
   "source": [
    "data_batter_indian[\"PLAYERS\"].count()"
   ]
  },
  {
   "cell_type": "markdown",
   "id": "32534ab5",
   "metadata": {},
   "source": [
    "### How Many Overseas Batters Sold in Ipl Auction?"
   ]
  },
  {
   "cell_type": "code",
   "execution_count": 44,
   "id": "7a63fa89",
   "metadata": {},
   "outputs": [],
   "source": [
    "data_batter_not_indian=data[(data[\"TYPE\"]==\"Batter\") & (data[\"NATIONALITY\"]!=\"Indian\")]"
   ]
  },
  {
   "cell_type": "code",
   "execution_count": 45,
   "id": "39e19367",
   "metadata": {},
   "outputs": [
    {
     "data": {
      "text/html": [
       "<div>\n",
       "<style scoped>\n",
       "    .dataframe tbody tr th:only-of-type {\n",
       "        vertical-align: middle;\n",
       "    }\n",
       "\n",
       "    .dataframe tbody tr th {\n",
       "        vertical-align: top;\n",
       "    }\n",
       "\n",
       "    .dataframe thead th {\n",
       "        text-align: right;\n",
       "    }\n",
       "</style>\n",
       "<table border=\"1\" class=\"dataframe\">\n",
       "  <thead>\n",
       "    <tr style=\"text-align: right;\">\n",
       "      <th></th>\n",
       "      <th>PLAYERS</th>\n",
       "      <th>NATIONALITY</th>\n",
       "      <th>TYPE</th>\n",
       "      <th>PRICE PAID</th>\n",
       "      <th>TEAM</th>\n",
       "    </tr>\n",
       "  </thead>\n",
       "  <tbody>\n",
       "    <tr>\n",
       "      <th>14</th>\n",
       "      <td>Harry Brook</td>\n",
       "      <td>Overseas</td>\n",
       "      <td>Batter</td>\n",
       "      <td>40000000</td>\n",
       "      <td>Delhi Capitals</td>\n",
       "    </tr>\n",
       "    <tr>\n",
       "      <th>28</th>\n",
       "      <td>Sherfane Rutherford</td>\n",
       "      <td>Overseas</td>\n",
       "      <td>Batter</td>\n",
       "      <td>15000000</td>\n",
       "      <td>Kolkata Knight Riders</td>\n",
       "    </tr>\n",
       "    <tr>\n",
       "      <th>33</th>\n",
       "      <td>Ashton Turner</td>\n",
       "      <td>Overseas</td>\n",
       "      <td>Batter</td>\n",
       "      <td>10000000</td>\n",
       "      <td>Lucknow Super Giants</td>\n",
       "    </tr>\n",
       "    <tr>\n",
       "      <th>52</th>\n",
       "      <td>Rilee Rossouw</td>\n",
       "      <td>Overseas</td>\n",
       "      <td>Batter</td>\n",
       "      <td>80000000</td>\n",
       "      <td>Punjab Kings</td>\n",
       "    </tr>\n",
       "    <tr>\n",
       "      <th>56</th>\n",
       "      <td>Rovman Powell</td>\n",
       "      <td>Overseas</td>\n",
       "      <td>Batter</td>\n",
       "      <td>74000000</td>\n",
       "      <td>Rajasthan Royals</td>\n",
       "    </tr>\n",
       "    <tr>\n",
       "      <th>71</th>\n",
       "      <td>Travis Head</td>\n",
       "      <td>Overseas</td>\n",
       "      <td>Batter</td>\n",
       "      <td>68000000</td>\n",
       "      <td>Sunrisers Hyderabad</td>\n",
       "    </tr>\n",
       "  </tbody>\n",
       "</table>\n",
       "</div>"
      ],
      "text/plain": [
       "                PLAYERS NATIONALITY    TYPE  PRICE PAID                   TEAM\n",
       "14          Harry Brook    Overseas  Batter    40000000         Delhi Capitals\n",
       "28  Sherfane Rutherford    Overseas  Batter    15000000  Kolkata Knight Riders\n",
       "33        Ashton Turner    Overseas  Batter    10000000   Lucknow Super Giants\n",
       "52        Rilee Rossouw    Overseas  Batter    80000000           Punjab Kings\n",
       "56        Rovman Powell    Overseas  Batter    74000000       Rajasthan Royals\n",
       "71          Travis Head    Overseas  Batter    68000000    Sunrisers Hyderabad"
      ]
     },
     "execution_count": 45,
     "metadata": {},
     "output_type": "execute_result"
    }
   ],
   "source": [
    "data_batter_not_indian"
   ]
  },
  {
   "cell_type": "markdown",
   "id": "77cbc7a6",
   "metadata": {},
   "source": [
    "### Counts of Indian and Non-Indian Batters"
   ]
  },
  {
   "cell_type": "code",
   "execution_count": 46,
   "id": "8beae2de",
   "metadata": {},
   "outputs": [
    {
     "data": {
      "image/png": "[encoded data removed]",
      "text/plain": [
       "<Figure size 1000x600 with 1 Axes>"
      ]
     },
     "metadata": {},
     "output_type": "display_data"
    }
   ],
   "source": [
    "import seaborn as sns\n",
    "import matplotlib.pyplot as plt\n",
    "\n",
    "plt.figure(figsize=(10, 6))\n",
    "sns.countplot(x=\"NATIONALITY\", data=pd.concat([data_batter_indian, data_batter_not_indian]))\n",
    "plt.title(\"Counts of Indian and Non-Indian Batters\")\n",
    "plt.xlabel(\"Nationality\")\n",
    "plt.ylabel(\"Count\")\n",
    "plt.show()\n"
   ]
  },
  {
   "cell_type": "markdown",
   "id": "7a7ec280",
   "metadata": {},
   "source": [
    "### Number Of Batters For Each Team."
   ]
  },
  {
   "cell_type": "code",
   "execution_count": 47,
   "id": "16f86a30",
   "metadata": {},
   "outputs": [
    {
     "data": {
      "text/html": [
       "<div>\n",
       "<style scoped>\n",
       "    .dataframe tbody tr th:only-of-type {\n",
       "        vertical-align: middle;\n",
       "    }\n",
       "\n",
       "    .dataframe tbody tr th {\n",
       "        vertical-align: top;\n",
       "    }\n",
       "\n",
       "    .dataframe thead th {\n",
       "        text-align: right;\n",
       "    }\n",
       "</style>\n",
       "<table border=\"1\" class=\"dataframe\">\n",
       "  <thead>\n",
       "    <tr style=\"text-align: right;\">\n",
       "      <th></th>\n",
       "      <th>TEAM</th>\n",
       "      <th>COUNT</th>\n",
       "    </tr>\n",
       "  </thead>\n",
       "  <tbody>\n",
       "    <tr>\n",
       "      <th>0</th>\n",
       "      <td>Chennai Super Kings</td>\n",
       "      <td>1</td>\n",
       "    </tr>\n",
       "    <tr>\n",
       "      <th>1</th>\n",
       "      <td>Delhi Capitals</td>\n",
       "      <td>2</td>\n",
       "    </tr>\n",
       "    <tr>\n",
       "      <th>2</th>\n",
       "      <td>Kolkata Knight Riders</td>\n",
       "      <td>3</td>\n",
       "    </tr>\n",
       "    <tr>\n",
       "      <th>3</th>\n",
       "      <td>Lucknow Super Giants</td>\n",
       "      <td>1</td>\n",
       "    </tr>\n",
       "    <tr>\n",
       "      <th>4</th>\n",
       "      <td>Punjab Kings</td>\n",
       "      <td>2</td>\n",
       "    </tr>\n",
       "    <tr>\n",
       "      <th>5</th>\n",
       "      <td>Rajasthan Royals</td>\n",
       "      <td>2</td>\n",
       "    </tr>\n",
       "    <tr>\n",
       "      <th>6</th>\n",
       "      <td>Royal Challengers Bengaluru</td>\n",
       "      <td>1</td>\n",
       "    </tr>\n",
       "    <tr>\n",
       "      <th>7</th>\n",
       "      <td>Sunrisers Hyderabad</td>\n",
       "      <td>1</td>\n",
       "    </tr>\n",
       "  </tbody>\n",
       "</table>\n",
       "</div>"
      ],
      "text/plain": [
       "                          TEAM  COUNT\n",
       "0          Chennai Super Kings      1\n",
       "1               Delhi Capitals      2\n",
       "2        Kolkata Knight Riders      3\n",
       "3         Lucknow Super Giants      1\n",
       "4                 Punjab Kings      2\n",
       "5             Rajasthan Royals      2\n",
       "6  Royal Challengers Bengaluru      1\n",
       "7          Sunrisers Hyderabad      1"
      ]
     },
     "execution_count": 47,
     "metadata": {},
     "output_type": "execute_result"
    }
   ],
   "source": [
    "batters_per_team = data[data[\"TYPE\"] == \"Batter\"].groupby(\"TEAM\").size().reset_index(name=\"COUNT\")\n",
    "batters_per_team"
   ]
  },
  {
   "cell_type": "markdown",
   "id": "8864ae60",
   "metadata": {},
   "source": [
    "### Number Of Batters For Each Team Chart."
   ]
  },
  {
   "cell_type": "code",
   "execution_count": 48,
   "id": "7c19fc95",
   "metadata": {},
   "outputs": [
    {
     "data": {
      "image/png": "[encoded data removed]",
      "text/plain": [
       "<Figure size 1200x600 with 1 Axes>"
      ]
     },
     "metadata": {},
     "output_type": "display_data"
    }
   ],
   "source": [
    "plt.figure(figsize=(12, 6))\n",
    "sns.barplot(x=\"TEAM\", y=\"COUNT\", data=batters_per_team)\n",
    "plt.title(\"Number of Batters in Each Team\")\n",
    "plt.xlabel(\"Team\")\n",
    "plt.ylabel(\"Number of Batters\")\n",
    "plt.xticks(rotation=45, ha='right')\n",
    "plt.tight_layout()\n",
    "plt.show()"
   ]
  },
  {
   "cell_type": "markdown",
   "id": "5b1b17ec",
   "metadata": {},
   "source": [
    "### Highest Paid Batters In Ipl Auction."
   ]
  },
  {
   "cell_type": "code",
   "execution_count": 49,
   "id": "24bf7e42",
   "metadata": {},
   "outputs": [
    {
     "data": {
      "text/plain": [
       "PLAYERS               Sameer Rizvi\n",
       "NATIONALITY                 Indian\n",
       "TYPE                        Batter\n",
       "PRICE PAID                84000000\n",
       "TEAM           Chennai Super Kings\n",
       "Name: 3, dtype: object"
      ]
     },
     "execution_count": 49,
     "metadata": {},
     "output_type": "execute_result"
    }
   ],
   "source": [
    "data_batter.loc[data_batter[\"PRICE PAID\"].idxmax()]"
   ]
  },
  {
   "cell_type": "markdown",
   "id": "ed9354b7",
   "metadata": {},
   "source": [
    "\n",
    "\n",
    "<img src=\"thequint_2023-12_56999e35-aa6f-473d-a513-1908298d2129_WhatsApp_Image_2023_12_19_at_5_28_57_PM.avif\" width=\"300px\" height=\"300px\" style=\"float: left; margin-right: 10px;\">"
   ]
  },
  {
   "cell_type": "code",
   "execution_count": 50,
   "id": "b57f2339",
   "metadata": {},
   "outputs": [],
   "source": [
    "top_5_batters=data_batter.sort_values(by=\"PRICE PAID\",ascending=False)"
   ]
  },
  {
   "cell_type": "code",
   "execution_count": 51,
   "id": "45320a3b",
   "metadata": {},
   "outputs": [
    {
     "data": {
      "text/html": [
       "<div>\n",
       "<style scoped>\n",
       "    .dataframe tbody tr th:only-of-type {\n",
       "        vertical-align: middle;\n",
       "    }\n",
       "\n",
       "    .dataframe tbody tr th {\n",
       "        vertical-align: top;\n",
       "    }\n",
       "\n",
       "    .dataframe thead th {\n",
       "        text-align: right;\n",
       "    }\n",
       "</style>\n",
       "<table border=\"1\" class=\"dataframe\">\n",
       "  <thead>\n",
       "    <tr style=\"text-align: right;\">\n",
       "      <th></th>\n",
       "      <th>PLAYERS</th>\n",
       "      <th>NATIONALITY</th>\n",
       "      <th>TYPE</th>\n",
       "      <th>PRICE PAID</th>\n",
       "      <th>TEAM</th>\n",
       "    </tr>\n",
       "  </thead>\n",
       "  <tbody>\n",
       "    <tr>\n",
       "      <th>3</th>\n",
       "      <td>Sameer Rizvi</td>\n",
       "      <td>Indian</td>\n",
       "      <td>Batter</td>\n",
       "      <td>84000000</td>\n",
       "      <td>Chennai Super Kings</td>\n",
       "    </tr>\n",
       "    <tr>\n",
       "      <th>52</th>\n",
       "      <td>Rilee Rossouw</td>\n",
       "      <td>Overseas</td>\n",
       "      <td>Batter</td>\n",
       "      <td>80000000</td>\n",
       "      <td>Punjab Kings</td>\n",
       "    </tr>\n",
       "    <tr>\n",
       "      <th>56</th>\n",
       "      <td>Rovman Powell</td>\n",
       "      <td>Overseas</td>\n",
       "      <td>Batter</td>\n",
       "      <td>74000000</td>\n",
       "      <td>Rajasthan Royals</td>\n",
       "    </tr>\n",
       "    <tr>\n",
       "      <th>71</th>\n",
       "      <td>Travis Head</td>\n",
       "      <td>Overseas</td>\n",
       "      <td>Batter</td>\n",
       "      <td>68000000</td>\n",
       "      <td>Sunrisers Hyderabad</td>\n",
       "    </tr>\n",
       "    <tr>\n",
       "      <th>55</th>\n",
       "      <td>Shubham Dubey</td>\n",
       "      <td>Indian</td>\n",
       "      <td>Batter</td>\n",
       "      <td>58000000</td>\n",
       "      <td>Rajasthan Royals</td>\n",
       "    </tr>\n",
       "  </tbody>\n",
       "</table>\n",
       "</div>"
      ],
      "text/plain": [
       "          PLAYERS NATIONALITY    TYPE  PRICE PAID                 TEAM\n",
       "3    Sameer Rizvi      Indian  Batter    84000000  Chennai Super Kings\n",
       "52  Rilee Rossouw    Overseas  Batter    80000000         Punjab Kings\n",
       "56  Rovman Powell    Overseas  Batter    74000000     Rajasthan Royals\n",
       "71    Travis Head    Overseas  Batter    68000000  Sunrisers Hyderabad\n",
       "55  Shubham Dubey      Indian  Batter    58000000     Rajasthan Royals"
      ]
     },
     "execution_count": 51,
     "metadata": {},
     "output_type": "execute_result"
    }
   ],
   "source": [
    "top_5_batters.head()"
   ]
  },
  {
   "cell_type": "markdown",
   "id": "a65e3415",
   "metadata": {},
   "source": [
    "<div style=\"display: flex;\">\n",
    "    <img src=\"images.jpg\" alt=\"Photo 1\" style=\"width: 20%; height: auto; margin-right: 5px;\">\n",
    "    <img src=\"raillruso.jpg\" alt=\"Photo 2\" style=\"width: 20%; height: auto; margin-right: 5px;\">\n",
    "    <img src=\"powel.jpg\" alt=\"Photo 3\" style=\"width: 20%; height: auto; margin-right: 5px;\">\n",
    "    <img src=\"head.jpg\" alt=\"Photo 4\" style=\"width: 20%; height: auto; margin-right: 5px;\">\n",
    "    <img src=\"shubham.jpg\" alt=\"Photo 5\" style=\"width: 20%; height: auto; margin-right:5px\">\n",
    "</div>\n"
   ]
  },
  {
   "cell_type": "markdown",
   "id": "049e19b1",
   "metadata": {},
   "source": [
    "<h1 style=\"text-align:center\">Bowler Analysis</h1>"
   ]
  },
  {
   "cell_type": "markdown",
   "id": "3f70f4e2",
   "metadata": {},
   "source": [
    "<img src=\"360_F_283141966_xXjKgAJl4rQvXoIp0YJeLR9FcPyBfraS.jpg\" width=\"200px\" height=\"200px\" style=\"float: center;\">"
   ]
  },
  {
   "cell_type": "markdown",
   "id": "021f8a69",
   "metadata": {},
   "source": [
    "### How Many Bowlers Sold in Ipl Auction?"
   ]
  },
  {
   "cell_type": "code",
   "execution_count": 52,
   "id": "1eeb723c",
   "metadata": {},
   "outputs": [],
   "source": [
    "data_bowler=data[data[\"TYPE\"]==\"Bowler\"]"
   ]
  },
  {
   "cell_type": "code",
   "execution_count": 53,
   "id": "a08badcf",
   "metadata": {},
   "outputs": [
    {
     "data": {
      "text/html": [
       "<div>\n",
       "<style scoped>\n",
       "    .dataframe tbody tr th:only-of-type {\n",
       "        vertical-align: middle;\n",
       "    }\n",
       "\n",
       "    .dataframe tbody tr th {\n",
       "        vertical-align: top;\n",
       "    }\n",
       "\n",
       "    .dataframe thead th {\n",
       "        text-align: right;\n",
       "    }\n",
       "</style>\n",
       "<table border=\"1\" class=\"dataframe\">\n",
       "  <thead>\n",
       "    <tr style=\"text-align: right;\">\n",
       "      <th></th>\n",
       "      <th>PLAYERS</th>\n",
       "      <th>NATIONALITY</th>\n",
       "      <th>TYPE</th>\n",
       "      <th>PRICE PAID</th>\n",
       "      <th>TEAM</th>\n",
       "    </tr>\n",
       "  </thead>\n",
       "  <tbody>\n",
       "    <tr>\n",
       "      <th>1</th>\n",
       "      <td>Mustafizur Rahman</td>\n",
       "      <td>Overseas</td>\n",
       "      <td>Bowler</td>\n",
       "      <td>20000000</td>\n",
       "      <td>Chennai Super Kings</td>\n",
       "    </tr>\n",
       "    <tr>\n",
       "      <th>9</th>\n",
       "      <td>Jhye Richardson</td>\n",
       "      <td>Overseas</td>\n",
       "      <td>Bowler</td>\n",
       "      <td>50000000</td>\n",
       "      <td>Delhi Capitals</td>\n",
       "    </tr>\n",
       "    <tr>\n",
       "      <th>11</th>\n",
       "      <td>Rasikh Dar</td>\n",
       "      <td>Indian</td>\n",
       "      <td>Bowler</td>\n",
       "      <td>2000000</td>\n",
       "      <td>Delhi Capitals</td>\n",
       "    </tr>\n",
       "    <tr>\n",
       "      <th>15</th>\n",
       "      <td>Kartik Tyagi</td>\n",
       "      <td>Indian</td>\n",
       "      <td>Bowler</td>\n",
       "      <td>6000000</td>\n",
       "      <td>Gujarat Titans</td>\n",
       "    </tr>\n",
       "    <tr>\n",
       "      <th>16</th>\n",
       "      <td>Spencer Johnson</td>\n",
       "      <td>Overseas</td>\n",
       "      <td>Bowler</td>\n",
       "      <td>100000000</td>\n",
       "      <td>Gujarat Titans</td>\n",
       "    </tr>\n",
       "    <tr>\n",
       "      <th>17</th>\n",
       "      <td>Manav Suthar</td>\n",
       "      <td>Indian</td>\n",
       "      <td>Bowler</td>\n",
       "      <td>2000000</td>\n",
       "      <td>Gujarat Titans</td>\n",
       "    </tr>\n",
       "    <tr>\n",
       "      <th>19</th>\n",
       "      <td>Sushant Mishra</td>\n",
       "      <td>Indian</td>\n",
       "      <td>Bowler</td>\n",
       "      <td>22000000</td>\n",
       "      <td>Gujarat Titans</td>\n",
       "    </tr>\n",
       "    <tr>\n",
       "      <th>22</th>\n",
       "      <td>Umesh Yadav</td>\n",
       "      <td>Indian</td>\n",
       "      <td>Bowler</td>\n",
       "      <td>58000000</td>\n",
       "      <td>Gujarat Titans</td>\n",
       "    </tr>\n",
       "    <tr>\n",
       "      <th>23</th>\n",
       "      <td>Mujeeb Rahman</td>\n",
       "      <td>Overseas</td>\n",
       "      <td>Bowler</td>\n",
       "      <td>20000000</td>\n",
       "      <td>Kolkata Knight Riders</td>\n",
       "    </tr>\n",
       "    <tr>\n",
       "      <th>25</th>\n",
       "      <td>Gus Atkinson</td>\n",
       "      <td>Overseas</td>\n",
       "      <td>Bowler</td>\n",
       "      <td>10000000</td>\n",
       "      <td>Kolkata Knight Riders</td>\n",
       "    </tr>\n",
       "    <tr>\n",
       "      <th>27</th>\n",
       "      <td>Mitchell Starc</td>\n",
       "      <td>Overseas</td>\n",
       "      <td>Bowler</td>\n",
       "      <td>247500000</td>\n",
       "      <td>Kolkata Knight Riders</td>\n",
       "    </tr>\n",
       "    <tr>\n",
       "      <th>31</th>\n",
       "      <td>Chetan Sakariya</td>\n",
       "      <td>Indian</td>\n",
       "      <td>Bowler</td>\n",
       "      <td>5000000</td>\n",
       "      <td>Kolkata Knight Riders</td>\n",
       "    </tr>\n",
       "    <tr>\n",
       "      <th>32</th>\n",
       "      <td>Sakib Hussain</td>\n",
       "      <td>Indian</td>\n",
       "      <td>Bowler</td>\n",
       "      <td>2000000</td>\n",
       "      <td>Kolkata Knight Riders</td>\n",
       "    </tr>\n",
       "    <tr>\n",
       "      <th>35</th>\n",
       "      <td>M. Siddharth</td>\n",
       "      <td>Indian</td>\n",
       "      <td>Bowler</td>\n",
       "      <td>24000000</td>\n",
       "      <td>Lucknow Super Giants</td>\n",
       "    </tr>\n",
       "    <tr>\n",
       "      <th>36</th>\n",
       "      <td>Shivam Mavi</td>\n",
       "      <td>Indian</td>\n",
       "      <td>Bowler</td>\n",
       "      <td>64000000</td>\n",
       "      <td>Lucknow Super Giants</td>\n",
       "    </tr>\n",
       "    <tr>\n",
       "      <th>39</th>\n",
       "      <td>Dilshan Madushanka</td>\n",
       "      <td>Overseas</td>\n",
       "      <td>Bowler</td>\n",
       "      <td>46000000</td>\n",
       "      <td>Mumbai Indians</td>\n",
       "    </tr>\n",
       "    <tr>\n",
       "      <th>40</th>\n",
       "      <td>Shreyas Gopal</td>\n",
       "      <td>Indian</td>\n",
       "      <td>Bowler</td>\n",
       "      <td>2000000</td>\n",
       "      <td>Mumbai Indians</td>\n",
       "    </tr>\n",
       "    <tr>\n",
       "      <th>45</th>\n",
       "      <td>Nuwan Thushara</td>\n",
       "      <td>Overseas</td>\n",
       "      <td>Bowler</td>\n",
       "      <td>48000000</td>\n",
       "      <td>Mumbai Indians</td>\n",
       "    </tr>\n",
       "    <tr>\n",
       "      <th>53</th>\n",
       "      <td>Prince Choudhary</td>\n",
       "      <td>Indian</td>\n",
       "      <td>Bowler</td>\n",
       "      <td>2000000</td>\n",
       "      <td>Punjab Kings</td>\n",
       "    </tr>\n",
       "    <tr>\n",
       "      <th>58</th>\n",
       "      <td>Nandre Burger</td>\n",
       "      <td>Overseas</td>\n",
       "      <td>Bowler</td>\n",
       "      <td>5000000</td>\n",
       "      <td>Rajasthan Royals</td>\n",
       "    </tr>\n",
       "    <tr>\n",
       "      <th>60</th>\n",
       "      <td>Lockie Ferguson</td>\n",
       "      <td>Overseas</td>\n",
       "      <td>Bowler</td>\n",
       "      <td>20000000</td>\n",
       "      <td>Royal Challengers Bengaluru</td>\n",
       "    </tr>\n",
       "    <tr>\n",
       "      <th>63</th>\n",
       "      <td>Alzarri Joseph</td>\n",
       "      <td>Overseas</td>\n",
       "      <td>Bowler</td>\n",
       "      <td>115000000</td>\n",
       "      <td>Royal Challengers Bengaluru</td>\n",
       "    </tr>\n",
       "    <tr>\n",
       "      <th>65</th>\n",
       "      <td>Yash Dayal</td>\n",
       "      <td>Indian</td>\n",
       "      <td>Bowler</td>\n",
       "      <td>50000000</td>\n",
       "      <td>Royal Challengers Bengaluru</td>\n",
       "    </tr>\n",
       "    <tr>\n",
       "      <th>66</th>\n",
       "      <td>Jhathavedh Subramanyan</td>\n",
       "      <td>Indian</td>\n",
       "      <td>Bowler</td>\n",
       "      <td>2000000</td>\n",
       "      <td>Sunrisers Hyderabad</td>\n",
       "    </tr>\n",
       "    <tr>\n",
       "      <th>67</th>\n",
       "      <td>Akash Singh</td>\n",
       "      <td>Indian</td>\n",
       "      <td>Bowler</td>\n",
       "      <td>2000000</td>\n",
       "      <td>Sunrisers Hyderabad</td>\n",
       "    </tr>\n",
       "    <tr>\n",
       "      <th>68</th>\n",
       "      <td>Jaydev Unadkat</td>\n",
       "      <td>Indian</td>\n",
       "      <td>Bowler</td>\n",
       "      <td>16000000</td>\n",
       "      <td>Sunrisers Hyderabad</td>\n",
       "    </tr>\n",
       "  </tbody>\n",
       "</table>\n",
       "</div>"
      ],
      "text/plain": [
       "                   PLAYERS NATIONALITY    TYPE  PRICE PAID  \\\n",
       "1        Mustafizur Rahman    Overseas  Bowler    20000000   \n",
       "9          Jhye Richardson    Overseas  Bowler    50000000   \n",
       "11              Rasikh Dar      Indian  Bowler     2000000   \n",
       "15            Kartik Tyagi      Indian  Bowler     6000000   \n",
       "16         Spencer Johnson    Overseas  Bowler   100000000   \n",
       "17            Manav Suthar      Indian  Bowler     2000000   \n",
       "19          Sushant Mishra      Indian  Bowler    22000000   \n",
       "22             Umesh Yadav      Indian  Bowler    58000000   \n",
       "23           Mujeeb Rahman    Overseas  Bowler    20000000   \n",
       "25            Gus Atkinson    Overseas  Bowler    10000000   \n",
       "27          Mitchell Starc    Overseas  Bowler   247500000   \n",
       "31         Chetan Sakariya      Indian  Bowler     5000000   \n",
       "32           Sakib Hussain      Indian  Bowler     2000000   \n",
       "35            M. Siddharth      Indian  Bowler    24000000   \n",
       "36             Shivam Mavi      Indian  Bowler    64000000   \n",
       "39      Dilshan Madushanka    Overseas  Bowler    46000000   \n",
       "40           Shreyas Gopal      Indian  Bowler     2000000   \n",
       "45          Nuwan Thushara    Overseas  Bowler    48000000   \n",
       "53        Prince Choudhary      Indian  Bowler     2000000   \n",
       "58           Nandre Burger    Overseas  Bowler     5000000   \n",
       "60         Lockie Ferguson    Overseas  Bowler    20000000   \n",
       "63          Alzarri Joseph    Overseas  Bowler   115000000   \n",
       "65              Yash Dayal      Indian  Bowler    50000000   \n",
       "66  Jhathavedh Subramanyan      Indian  Bowler     2000000   \n",
       "67             Akash Singh      Indian  Bowler     2000000   \n",
       "68          Jaydev Unadkat      Indian  Bowler    16000000   \n",
       "\n",
       "                           TEAM  \n",
       "1           Chennai Super Kings  \n",
       "9                Delhi Capitals  \n",
       "11               Delhi Capitals  \n",
       "15               Gujarat Titans  \n",
       "16               Gujarat Titans  \n",
       "17               Gujarat Titans  \n",
       "19               Gujarat Titans  \n",
       "22               Gujarat Titans  \n",
       "23        Kolkata Knight Riders  \n",
       "25        Kolkata Knight Riders  \n",
       "27        Kolkata Knight Riders  \n",
       "31        Kolkata Knight Riders  \n",
       "32        Kolkata Knight Riders  \n",
       "35         Lucknow Super Giants  \n",
       "36         Lucknow Super Giants  \n",
       "39               Mumbai Indians  \n",
       "40               Mumbai Indians  \n",
       "45               Mumbai Indians  \n",
       "53                 Punjab Kings  \n",
       "58             Rajasthan Royals  \n",
       "60  Royal Challengers Bengaluru  \n",
       "63  Royal Challengers Bengaluru  \n",
       "65  Royal Challengers Bengaluru  \n",
       "66          Sunrisers Hyderabad  \n",
       "67          Sunrisers Hyderabad  \n",
       "68          Sunrisers Hyderabad  "
      ]
     },
     "execution_count": 53,
     "metadata": {},
     "output_type": "execute_result"
    }
   ],
   "source": [
    "data_bowler"
   ]
  },
  {
   "cell_type": "code",
   "execution_count": 54,
   "id": "e877b138",
   "metadata": {},
   "outputs": [],
   "source": [
    "count_bowler=data_bowler[\"PLAYERS\"].count()"
   ]
  },
  {
   "cell_type": "code",
   "execution_count": 55,
   "id": "8669e8d8",
   "metadata": {},
   "outputs": [
    {
     "data": {
      "text/plain": [
       "26"
      ]
     },
     "execution_count": 55,
     "metadata": {},
     "output_type": "execute_result"
    }
   ],
   "source": [
    "count_bowler"
   ]
  },
  {
   "cell_type": "markdown",
   "id": "6b3581fc",
   "metadata": {},
   "source": [
    "### How Many Indian Bowlers Sold in Ipl Auction?"
   ]
  },
  {
   "cell_type": "code",
   "execution_count": 56,
   "id": "1571fd1d",
   "metadata": {},
   "outputs": [],
   "source": [
    "data_bowler_indian=data[(data[\"TYPE\"]==\"Bowler\") & (data[\"NATIONALITY\"]==\"Indian\")]"
   ]
  },
  {
   "cell_type": "code",
   "execution_count": 57,
   "id": "79f77ad9",
   "metadata": {},
   "outputs": [
    {
     "data": {
      "text/html": [
       "<div>\n",
       "<style scoped>\n",
       "    .dataframe tbody tr th:only-of-type {\n",
       "        vertical-align: middle;\n",
       "    }\n",
       "\n",
       "    .dataframe tbody tr th {\n",
       "        vertical-align: top;\n",
       "    }\n",
       "\n",
       "    .dataframe thead th {\n",
       "        text-align: right;\n",
       "    }\n",
       "</style>\n",
       "<table border=\"1\" class=\"dataframe\">\n",
       "  <thead>\n",
       "    <tr style=\"text-align: right;\">\n",
       "      <th></th>\n",
       "      <th>PLAYERS</th>\n",
       "      <th>NATIONALITY</th>\n",
       "      <th>TYPE</th>\n",
       "      <th>PRICE PAID</th>\n",
       "      <th>TEAM</th>\n",
       "    </tr>\n",
       "  </thead>\n",
       "  <tbody>\n",
       "    <tr>\n",
       "      <th>11</th>\n",
       "      <td>Rasikh Dar</td>\n",
       "      <td>Indian</td>\n",
       "      <td>Bowler</td>\n",
       "      <td>2000000</td>\n",
       "      <td>Delhi Capitals</td>\n",
       "    </tr>\n",
       "    <tr>\n",
       "      <th>15</th>\n",
       "      <td>Kartik Tyagi</td>\n",
       "      <td>Indian</td>\n",
       "      <td>Bowler</td>\n",
       "      <td>6000000</td>\n",
       "      <td>Gujarat Titans</td>\n",
       "    </tr>\n",
       "    <tr>\n",
       "      <th>17</th>\n",
       "      <td>Manav Suthar</td>\n",
       "      <td>Indian</td>\n",
       "      <td>Bowler</td>\n",
       "      <td>2000000</td>\n",
       "      <td>Gujarat Titans</td>\n",
       "    </tr>\n",
       "    <tr>\n",
       "      <th>19</th>\n",
       "      <td>Sushant Mishra</td>\n",
       "      <td>Indian</td>\n",
       "      <td>Bowler</td>\n",
       "      <td>22000000</td>\n",
       "      <td>Gujarat Titans</td>\n",
       "    </tr>\n",
       "    <tr>\n",
       "      <th>22</th>\n",
       "      <td>Umesh Yadav</td>\n",
       "      <td>Indian</td>\n",
       "      <td>Bowler</td>\n",
       "      <td>58000000</td>\n",
       "      <td>Gujarat Titans</td>\n",
       "    </tr>\n",
       "    <tr>\n",
       "      <th>31</th>\n",
       "      <td>Chetan Sakariya</td>\n",
       "      <td>Indian</td>\n",
       "      <td>Bowler</td>\n",
       "      <td>5000000</td>\n",
       "      <td>Kolkata Knight Riders</td>\n",
       "    </tr>\n",
       "    <tr>\n",
       "      <th>32</th>\n",
       "      <td>Sakib Hussain</td>\n",
       "      <td>Indian</td>\n",
       "      <td>Bowler</td>\n",
       "      <td>2000000</td>\n",
       "      <td>Kolkata Knight Riders</td>\n",
       "    </tr>\n",
       "    <tr>\n",
       "      <th>35</th>\n",
       "      <td>M. Siddharth</td>\n",
       "      <td>Indian</td>\n",
       "      <td>Bowler</td>\n",
       "      <td>24000000</td>\n",
       "      <td>Lucknow Super Giants</td>\n",
       "    </tr>\n",
       "    <tr>\n",
       "      <th>36</th>\n",
       "      <td>Shivam Mavi</td>\n",
       "      <td>Indian</td>\n",
       "      <td>Bowler</td>\n",
       "      <td>64000000</td>\n",
       "      <td>Lucknow Super Giants</td>\n",
       "    </tr>\n",
       "    <tr>\n",
       "      <th>40</th>\n",
       "      <td>Shreyas Gopal</td>\n",
       "      <td>Indian</td>\n",
       "      <td>Bowler</td>\n",
       "      <td>2000000</td>\n",
       "      <td>Mumbai Indians</td>\n",
       "    </tr>\n",
       "    <tr>\n",
       "      <th>53</th>\n",
       "      <td>Prince Choudhary</td>\n",
       "      <td>Indian</td>\n",
       "      <td>Bowler</td>\n",
       "      <td>2000000</td>\n",
       "      <td>Punjab Kings</td>\n",
       "    </tr>\n",
       "    <tr>\n",
       "      <th>65</th>\n",
       "      <td>Yash Dayal</td>\n",
       "      <td>Indian</td>\n",
       "      <td>Bowler</td>\n",
       "      <td>50000000</td>\n",
       "      <td>Royal Challengers Bengaluru</td>\n",
       "    </tr>\n",
       "    <tr>\n",
       "      <th>66</th>\n",
       "      <td>Jhathavedh Subramanyan</td>\n",
       "      <td>Indian</td>\n",
       "      <td>Bowler</td>\n",
       "      <td>2000000</td>\n",
       "      <td>Sunrisers Hyderabad</td>\n",
       "    </tr>\n",
       "    <tr>\n",
       "      <th>67</th>\n",
       "      <td>Akash Singh</td>\n",
       "      <td>Indian</td>\n",
       "      <td>Bowler</td>\n",
       "      <td>2000000</td>\n",
       "      <td>Sunrisers Hyderabad</td>\n",
       "    </tr>\n",
       "    <tr>\n",
       "      <th>68</th>\n",
       "      <td>Jaydev Unadkat</td>\n",
       "      <td>Indian</td>\n",
       "      <td>Bowler</td>\n",
       "      <td>16000000</td>\n",
       "      <td>Sunrisers Hyderabad</td>\n",
       "    </tr>\n",
       "  </tbody>\n",
       "</table>\n",
       "</div>"
      ],
      "text/plain": [
       "                   PLAYERS NATIONALITY    TYPE  PRICE PAID  \\\n",
       "11              Rasikh Dar      Indian  Bowler     2000000   \n",
       "15            Kartik Tyagi      Indian  Bowler     6000000   \n",
       "17            Manav Suthar      Indian  Bowler     2000000   \n",
       "19          Sushant Mishra      Indian  Bowler    22000000   \n",
       "22             Umesh Yadav      Indian  Bowler    58000000   \n",
       "31         Chetan Sakariya      Indian  Bowler     5000000   \n",
       "32           Sakib Hussain      Indian  Bowler     2000000   \n",
       "35            M. Siddharth      Indian  Bowler    24000000   \n",
       "36             Shivam Mavi      Indian  Bowler    64000000   \n",
       "40           Shreyas Gopal      Indian  Bowler     2000000   \n",
       "53        Prince Choudhary      Indian  Bowler     2000000   \n",
       "65              Yash Dayal      Indian  Bowler    50000000   \n",
       "66  Jhathavedh Subramanyan      Indian  Bowler     2000000   \n",
       "67             Akash Singh      Indian  Bowler     2000000   \n",
       "68          Jaydev Unadkat      Indian  Bowler    16000000   \n",
       "\n",
       "                           TEAM  \n",
       "11               Delhi Capitals  \n",
       "15               Gujarat Titans  \n",
       "17               Gujarat Titans  \n",
       "19               Gujarat Titans  \n",
       "22               Gujarat Titans  \n",
       "31        Kolkata Knight Riders  \n",
       "32        Kolkata Knight Riders  \n",
       "35         Lucknow Super Giants  \n",
       "36         Lucknow Super Giants  \n",
       "40               Mumbai Indians  \n",
       "53                 Punjab Kings  \n",
       "65  Royal Challengers Bengaluru  \n",
       "66          Sunrisers Hyderabad  \n",
       "67          Sunrisers Hyderabad  \n",
       "68          Sunrisers Hyderabad  "
      ]
     },
     "execution_count": 57,
     "metadata": {},
     "output_type": "execute_result"
    }
   ],
   "source": [
    "data_bowler_indian"
   ]
  },
  {
   "cell_type": "code",
   "execution_count": 58,
   "id": "9fb9f015",
   "metadata": {},
   "outputs": [
    {
     "data": {
      "text/plain": [
       "15"
      ]
     },
     "execution_count": 58,
     "metadata": {},
     "output_type": "execute_result"
    }
   ],
   "source": [
    "data_bowler_indian[\"PLAYERS\"].count()"
   ]
  },
  {
   "cell_type": "markdown",
   "id": "625b6b62",
   "metadata": {},
   "source": [
    "### How Many Overseas Bowlers Sold in Ipl Auction?"
   ]
  },
  {
   "cell_type": "code",
   "execution_count": 59,
   "id": "3f6aa338",
   "metadata": {},
   "outputs": [],
   "source": [
    "data_bowler_not_indian=data[(data[\"TYPE\"]==\"Bowler\") & (data[\"NATIONALITY\"]!=\"Indian\")]"
   ]
  },
  {
   "cell_type": "code",
   "execution_count": 60,
   "id": "da22ddd5",
   "metadata": {},
   "outputs": [
    {
     "data": {
      "text/html": [
       "<div>\n",
       "<style scoped>\n",
       "    .dataframe tbody tr th:only-of-type {\n",
       "        vertical-align: middle;\n",
       "    }\n",
       "\n",
       "    .dataframe tbody tr th {\n",
       "        vertical-align: top;\n",
       "    }\n",
       "\n",
       "    .dataframe thead th {\n",
       "        text-align: right;\n",
       "    }\n",
       "</style>\n",
       "<table border=\"1\" class=\"dataframe\">\n",
       "  <thead>\n",
       "    <tr style=\"text-align: right;\">\n",
       "      <th></th>\n",
       "      <th>PLAYERS</th>\n",
       "      <th>NATIONALITY</th>\n",
       "      <th>TYPE</th>\n",
       "      <th>PRICE PAID</th>\n",
       "      <th>TEAM</th>\n",
       "    </tr>\n",
       "  </thead>\n",
       "  <tbody>\n",
       "    <tr>\n",
       "      <th>1</th>\n",
       "      <td>Mustafizur Rahman</td>\n",
       "      <td>Overseas</td>\n",
       "      <td>Bowler</td>\n",
       "      <td>20000000</td>\n",
       "      <td>Chennai Super Kings</td>\n",
       "    </tr>\n",
       "    <tr>\n",
       "      <th>9</th>\n",
       "      <td>Jhye Richardson</td>\n",
       "      <td>Overseas</td>\n",
       "      <td>Bowler</td>\n",
       "      <td>50000000</td>\n",
       "      <td>Delhi Capitals</td>\n",
       "    </tr>\n",
       "    <tr>\n",
       "      <th>16</th>\n",
       "      <td>Spencer Johnson</td>\n",
       "      <td>Overseas</td>\n",
       "      <td>Bowler</td>\n",
       "      <td>100000000</td>\n",
       "      <td>Gujarat Titans</td>\n",
       "    </tr>\n",
       "    <tr>\n",
       "      <th>23</th>\n",
       "      <td>Mujeeb Rahman</td>\n",
       "      <td>Overseas</td>\n",
       "      <td>Bowler</td>\n",
       "      <td>20000000</td>\n",
       "      <td>Kolkata Knight Riders</td>\n",
       "    </tr>\n",
       "    <tr>\n",
       "      <th>25</th>\n",
       "      <td>Gus Atkinson</td>\n",
       "      <td>Overseas</td>\n",
       "      <td>Bowler</td>\n",
       "      <td>10000000</td>\n",
       "      <td>Kolkata Knight Riders</td>\n",
       "    </tr>\n",
       "    <tr>\n",
       "      <th>27</th>\n",
       "      <td>Mitchell Starc</td>\n",
       "      <td>Overseas</td>\n",
       "      <td>Bowler</td>\n",
       "      <td>247500000</td>\n",
       "      <td>Kolkata Knight Riders</td>\n",
       "    </tr>\n",
       "    <tr>\n",
       "      <th>39</th>\n",
       "      <td>Dilshan Madushanka</td>\n",
       "      <td>Overseas</td>\n",
       "      <td>Bowler</td>\n",
       "      <td>46000000</td>\n",
       "      <td>Mumbai Indians</td>\n",
       "    </tr>\n",
       "    <tr>\n",
       "      <th>45</th>\n",
       "      <td>Nuwan Thushara</td>\n",
       "      <td>Overseas</td>\n",
       "      <td>Bowler</td>\n",
       "      <td>48000000</td>\n",
       "      <td>Mumbai Indians</td>\n",
       "    </tr>\n",
       "    <tr>\n",
       "      <th>58</th>\n",
       "      <td>Nandre Burger</td>\n",
       "      <td>Overseas</td>\n",
       "      <td>Bowler</td>\n",
       "      <td>5000000</td>\n",
       "      <td>Rajasthan Royals</td>\n",
       "    </tr>\n",
       "    <tr>\n",
       "      <th>60</th>\n",
       "      <td>Lockie Ferguson</td>\n",
       "      <td>Overseas</td>\n",
       "      <td>Bowler</td>\n",
       "      <td>20000000</td>\n",
       "      <td>Royal Challengers Bengaluru</td>\n",
       "    </tr>\n",
       "    <tr>\n",
       "      <th>63</th>\n",
       "      <td>Alzarri Joseph</td>\n",
       "      <td>Overseas</td>\n",
       "      <td>Bowler</td>\n",
       "      <td>115000000</td>\n",
       "      <td>Royal Challengers Bengaluru</td>\n",
       "    </tr>\n",
       "  </tbody>\n",
       "</table>\n",
       "</div>"
      ],
      "text/plain": [
       "               PLAYERS NATIONALITY    TYPE  PRICE PAID  \\\n",
       "1    Mustafizur Rahman    Overseas  Bowler    20000000   \n",
       "9      Jhye Richardson    Overseas  Bowler    50000000   \n",
       "16     Spencer Johnson    Overseas  Bowler   100000000   \n",
       "23       Mujeeb Rahman    Overseas  Bowler    20000000   \n",
       "25        Gus Atkinson    Overseas  Bowler    10000000   \n",
       "27      Mitchell Starc    Overseas  Bowler   247500000   \n",
       "39  Dilshan Madushanka    Overseas  Bowler    46000000   \n",
       "45      Nuwan Thushara    Overseas  Bowler    48000000   \n",
       "58       Nandre Burger    Overseas  Bowler     5000000   \n",
       "60     Lockie Ferguson    Overseas  Bowler    20000000   \n",
       "63      Alzarri Joseph    Overseas  Bowler   115000000   \n",
       "\n",
       "                           TEAM  \n",
       "1           Chennai Super Kings  \n",
       "9                Delhi Capitals  \n",
       "16               Gujarat Titans  \n",
       "23        Kolkata Knight Riders  \n",
       "25        Kolkata Knight Riders  \n",
       "27        Kolkata Knight Riders  \n",
       "39               Mumbai Indians  \n",
       "45               Mumbai Indians  \n",
       "58             Rajasthan Royals  \n",
       "60  Royal Challengers Bengaluru  \n",
       "63  Royal Challengers Bengaluru  "
      ]
     },
     "execution_count": 60,
     "metadata": {},
     "output_type": "execute_result"
    }
   ],
   "source": [
    "data_bowler_not_indian"
   ]
  },
  {
   "cell_type": "code",
   "execution_count": 61,
   "id": "4c876e61",
   "metadata": {},
   "outputs": [
    {
     "data": {
      "text/plain": [
       "11"
      ]
     },
     "execution_count": 61,
     "metadata": {},
     "output_type": "execute_result"
    }
   ],
   "source": [
    "data_bowler_not_indian[\"PLAYERS\"].count()"
   ]
  },
  {
   "cell_type": "markdown",
   "id": "24e11b43",
   "metadata": {},
   "source": [
    "### Counts of Indian and Non-Indian Bowlers."
   ]
  },
  {
   "cell_type": "code",
   "execution_count": 62,
   "id": "d78adaa4",
   "metadata": {},
   "outputs": [
    {
     "data": {
      "image/png": "[encoded data removed]",
      "text/plain": [
       "<Figure size 1000x600 with 1 Axes>"
      ]
     },
     "metadata": {},
     "output_type": "display_data"
    }
   ],
   "source": [
    "import seaborn as sns\n",
    "import matplotlib.pyplot as plt\n",
    "\n",
    "plt.figure(figsize=(10, 6))\n",
    "sns.countplot(x=\"NATIONALITY\", data=pd.concat([data_bowler_indian,data_bowler_not_indian]))\n",
    "plt.title(\"Counts of Indian and Non-Indian Bowlers\")\n",
    "plt.xlabel(\"Nationality\")\n",
    "plt.ylabel(\"Count\")\n",
    "plt.show()"
   ]
  },
  {
   "cell_type": "markdown",
   "id": "8c1adc9c",
   "metadata": {},
   "source": [
    "### Number Of Bowlers For Each Team Chart."
   ]
  },
  {
   "cell_type": "code",
   "execution_count": 63,
   "id": "10ffdac7",
   "metadata": {},
   "outputs": [
    {
     "data": {
      "text/html": [
       "<div>\n",
       "<style scoped>\n",
       "    .dataframe tbody tr th:only-of-type {\n",
       "        vertical-align: middle;\n",
       "    }\n",
       "\n",
       "    .dataframe tbody tr th {\n",
       "        vertical-align: top;\n",
       "    }\n",
       "\n",
       "    .dataframe thead th {\n",
       "        text-align: right;\n",
       "    }\n",
       "</style>\n",
       "<table border=\"1\" class=\"dataframe\">\n",
       "  <thead>\n",
       "    <tr style=\"text-align: right;\">\n",
       "      <th></th>\n",
       "      <th>TEAM</th>\n",
       "      <th>COUNT</th>\n",
       "    </tr>\n",
       "  </thead>\n",
       "  <tbody>\n",
       "    <tr>\n",
       "      <th>0</th>\n",
       "      <td>Chennai Super Kings</td>\n",
       "      <td>1</td>\n",
       "    </tr>\n",
       "    <tr>\n",
       "      <th>1</th>\n",
       "      <td>Delhi Capitals</td>\n",
       "      <td>2</td>\n",
       "    </tr>\n",
       "    <tr>\n",
       "      <th>2</th>\n",
       "      <td>Gujarat Titans</td>\n",
       "      <td>5</td>\n",
       "    </tr>\n",
       "    <tr>\n",
       "      <th>3</th>\n",
       "      <td>Kolkata Knight Riders</td>\n",
       "      <td>5</td>\n",
       "    </tr>\n",
       "    <tr>\n",
       "      <th>4</th>\n",
       "      <td>Lucknow Super Giants</td>\n",
       "      <td>2</td>\n",
       "    </tr>\n",
       "    <tr>\n",
       "      <th>5</th>\n",
       "      <td>Mumbai Indians</td>\n",
       "      <td>3</td>\n",
       "    </tr>\n",
       "    <tr>\n",
       "      <th>6</th>\n",
       "      <td>Punjab Kings</td>\n",
       "      <td>1</td>\n",
       "    </tr>\n",
       "    <tr>\n",
       "      <th>7</th>\n",
       "      <td>Rajasthan Royals</td>\n",
       "      <td>1</td>\n",
       "    </tr>\n",
       "    <tr>\n",
       "      <th>8</th>\n",
       "      <td>Royal Challengers Bengaluru</td>\n",
       "      <td>3</td>\n",
       "    </tr>\n",
       "    <tr>\n",
       "      <th>9</th>\n",
       "      <td>Sunrisers Hyderabad</td>\n",
       "      <td>3</td>\n",
       "    </tr>\n",
       "  </tbody>\n",
       "</table>\n",
       "</div>"
      ],
      "text/plain": [
       "                          TEAM  COUNT\n",
       "0          Chennai Super Kings      1\n",
       "1               Delhi Capitals      2\n",
       "2               Gujarat Titans      5\n",
       "3        Kolkata Knight Riders      5\n",
       "4         Lucknow Super Giants      2\n",
       "5               Mumbai Indians      3\n",
       "6                 Punjab Kings      1\n",
       "7             Rajasthan Royals      1\n",
       "8  Royal Challengers Bengaluru      3\n",
       "9          Sunrisers Hyderabad      3"
      ]
     },
     "execution_count": 63,
     "metadata": {},
     "output_type": "execute_result"
    }
   ],
   "source": [
    "bowler_per_team = data[data[\"TYPE\"] == \"Bowler\"].groupby(\"TEAM\").size().reset_index(name=\"COUNT\")\n",
    "bowler_per_team"
   ]
  },
  {
   "cell_type": "code",
   "execution_count": 64,
   "id": "5aff25d6",
   "metadata": {},
   "outputs": [
    {
     "data": {
      "image/png": "[encoded data removed]",
      "text/plain": [
       "<Figure size 1200x600 with 1 Axes>"
      ]
     },
     "metadata": {},
     "output_type": "display_data"
    }
   ],
   "source": [
    "plt.figure(figsize=(12, 6))\n",
    "sns.barplot(x=\"TEAM\", y=\"COUNT\", data=bowler_per_team)\n",
    "plt.title(\"Number of Bowlers in Each Team\")\n",
    "plt.xlabel(\"Team\")\n",
    "plt.ylabel(\"Number of Wicket-Keepers\")\n",
    "plt.xticks(rotation=45, ha='right')\n",
    "plt.tight_layout()\n",
    "plt.show()"
   ]
  },
  {
   "cell_type": "markdown",
   "id": "0dc61eb9",
   "metadata": {},
   "source": [
    "### Highest Paid Bowlers in Ipl Auction."
   ]
  },
  {
   "cell_type": "code",
   "execution_count": 65,
   "id": "fb0dc3bc",
   "metadata": {},
   "outputs": [
    {
     "data": {
      "text/plain": [
       "PLAYERS               Mitchell Starc\n",
       "NATIONALITY                 Overseas\n",
       "TYPE                          Bowler\n",
       "PRICE PAID                 247500000\n",
       "TEAM           Kolkata Knight Riders\n",
       "Name: 27, dtype: object"
      ]
     },
     "execution_count": 65,
     "metadata": {},
     "output_type": "execute_result"
    }
   ],
   "source": [
    "data_bowler.loc[data_bowler[\"PRICE PAID\"].idxmax()]"
   ]
  },
  {
   "cell_type": "markdown",
   "id": "edc5a211",
   "metadata": {},
   "source": [
    "\n",
    "\n",
    "\n",
    "<img src=\"thequint_2023-12_3c0c03b5-b51e-4431-ae2b-b538b735f78c_WhatsApp_Image_2023_12_19_at_3_48_31_PM.avif\" width=\"300px\" height=\"300px\" style=\"float: left; margin-right: 10px;\">"
   ]
  },
  {
   "cell_type": "markdown",
   "id": "03c62c9b",
   "metadata": {},
   "source": [
    "### Top 5 Highest Paid Bowlers In Auction."
   ]
  },
  {
   "cell_type": "code",
   "execution_count": 66,
   "id": "54fd3130",
   "metadata": {},
   "outputs": [],
   "source": [
    "top_5_bowlers=data_bowler.sort_values(by=\"PRICE PAID\",ascending=False)"
   ]
  },
  {
   "cell_type": "code",
   "execution_count": 67,
   "id": "b93e8d5b",
   "metadata": {},
   "outputs": [
    {
     "data": {
      "text/html": [
       "<div>\n",
       "<style scoped>\n",
       "    .dataframe tbody tr th:only-of-type {\n",
       "        vertical-align: middle;\n",
       "    }\n",
       "\n",
       "    .dataframe tbody tr th {\n",
       "        vertical-align: top;\n",
       "    }\n",
       "\n",
       "    .dataframe thead th {\n",
       "        text-align: right;\n",
       "    }\n",
       "</style>\n",
       "<table border=\"1\" class=\"dataframe\">\n",
       "  <thead>\n",
       "    <tr style=\"text-align: right;\">\n",
       "      <th></th>\n",
       "      <th>PLAYERS</th>\n",
       "      <th>NATIONALITY</th>\n",
       "      <th>TYPE</th>\n",
       "      <th>PRICE PAID</th>\n",
       "      <th>TEAM</th>\n",
       "    </tr>\n",
       "  </thead>\n",
       "  <tbody>\n",
       "    <tr>\n",
       "      <th>27</th>\n",
       "      <td>Mitchell Starc</td>\n",
       "      <td>Overseas</td>\n",
       "      <td>Bowler</td>\n",
       "      <td>247500000</td>\n",
       "      <td>Kolkata Knight Riders</td>\n",
       "    </tr>\n",
       "    <tr>\n",
       "      <th>63</th>\n",
       "      <td>Alzarri Joseph</td>\n",
       "      <td>Overseas</td>\n",
       "      <td>Bowler</td>\n",
       "      <td>115000000</td>\n",
       "      <td>Royal Challengers Bengaluru</td>\n",
       "    </tr>\n",
       "    <tr>\n",
       "      <th>16</th>\n",
       "      <td>Spencer Johnson</td>\n",
       "      <td>Overseas</td>\n",
       "      <td>Bowler</td>\n",
       "      <td>100000000</td>\n",
       "      <td>Gujarat Titans</td>\n",
       "    </tr>\n",
       "    <tr>\n",
       "      <th>36</th>\n",
       "      <td>Shivam Mavi</td>\n",
       "      <td>Indian</td>\n",
       "      <td>Bowler</td>\n",
       "      <td>64000000</td>\n",
       "      <td>Lucknow Super Giants</td>\n",
       "    </tr>\n",
       "    <tr>\n",
       "      <th>22</th>\n",
       "      <td>Umesh Yadav</td>\n",
       "      <td>Indian</td>\n",
       "      <td>Bowler</td>\n",
       "      <td>58000000</td>\n",
       "      <td>Gujarat Titans</td>\n",
       "    </tr>\n",
       "  </tbody>\n",
       "</table>\n",
       "</div>"
      ],
      "text/plain": [
       "            PLAYERS NATIONALITY    TYPE  PRICE PAID  \\\n",
       "27   Mitchell Starc    Overseas  Bowler   247500000   \n",
       "63   Alzarri Joseph    Overseas  Bowler   115000000   \n",
       "16  Spencer Johnson    Overseas  Bowler   100000000   \n",
       "36      Shivam Mavi      Indian  Bowler    64000000   \n",
       "22      Umesh Yadav      Indian  Bowler    58000000   \n",
       "\n",
       "                           TEAM  \n",
       "27        Kolkata Knight Riders  \n",
       "63  Royal Challengers Bengaluru  \n",
       "16               Gujarat Titans  \n",
       "36         Lucknow Super Giants  \n",
       "22               Gujarat Titans  "
      ]
     },
     "execution_count": 67,
     "metadata": {},
     "output_type": "execute_result"
    }
   ],
   "source": [
    "top_5_bowlers.head()"
   ]
  },
  {
   "cell_type": "markdown",
   "id": "135ffc7d",
   "metadata": {},
   "source": [
    "<div style=\"display: flex;\">\n",
    "    <img src=\"thequint_2023-12_3c0c03b5-b51e-4431-ae2b-b538b735f78c_WhatsApp_Image_2023_12_19_at_3_48_31_PM.avif\" alt=\"Photo 1\" style=\"width: 20%; height: auto; margin-right: 5px;\">\n",
    "    <img src=\"alzari.jpg\" alt=\"Photo 2\" style=\"width: 20%; height: auto; margin-right: 5px;\">\n",
    "    <img src=\"spencer.jpg\" alt=\"Photo 3\" style=\"width: 20%; height: auto; margin-right: 5px;\">\n",
    "    <img src=\"mavi.jpg\" alt=\"Photo 4\" style=\"width: 20%; height: auto; margin-right: 5px;\">\n",
    "    <img src=\"umesh.webp\" alt=\"Photo 5\" style=\"width: 20%; height: auto; margin-right:5px\">\n",
    "</div>\n"
   ]
  },
  {
   "cell_type": "markdown",
   "id": "0abd305c",
   "metadata": {},
   "source": [
    "<h1 style=\"text-align:center\">All-Rounder Analysis</h1>"
   ]
  },
  {
   "cell_type": "markdown",
   "id": "19e1381c",
   "metadata": {},
   "source": [
    "\n",
    "<img src=\"images (1).jpg\" width=\"200px\" height=\"200px\" style=\"float: center;\">"
   ]
  },
  {
   "cell_type": "markdown",
   "id": "6850d74e",
   "metadata": {},
   "source": [
    "### How Many All-Rounders Sold in Ipl Auction?"
   ]
  },
  {
   "cell_type": "code",
   "execution_count": 68,
   "id": "4bb51235",
   "metadata": {},
   "outputs": [],
   "source": [
    "data_allrounder=data[data[\"TYPE\"]==\"All-Rounder\"]"
   ]
  },
  {
   "cell_type": "code",
   "execution_count": 69,
   "id": "9e6cc167",
   "metadata": {},
   "outputs": [
    {
     "data": {
      "text/html": [
       "<div>\n",
       "<style scoped>\n",
       "    .dataframe tbody tr th:only-of-type {\n",
       "        vertical-align: middle;\n",
       "    }\n",
       "\n",
       "    .dataframe tbody tr th {\n",
       "        vertical-align: top;\n",
       "    }\n",
       "\n",
       "    .dataframe thead th {\n",
       "        text-align: right;\n",
       "    }\n",
       "</style>\n",
       "<table border=\"1\" class=\"dataframe\">\n",
       "  <thead>\n",
       "    <tr style=\"text-align: right;\">\n",
       "      <th></th>\n",
       "      <th>PLAYERS</th>\n",
       "      <th>NATIONALITY</th>\n",
       "      <th>TYPE</th>\n",
       "      <th>PRICE PAID</th>\n",
       "      <th>TEAM</th>\n",
       "    </tr>\n",
       "  </thead>\n",
       "  <tbody>\n",
       "    <tr>\n",
       "      <th>2</th>\n",
       "      <td>Daryl Mitchell</td>\n",
       "      <td>Overseas</td>\n",
       "      <td>All-Rounder</td>\n",
       "      <td>140000000</td>\n",
       "      <td>Chennai Super Kings</td>\n",
       "    </tr>\n",
       "    <tr>\n",
       "      <th>4</th>\n",
       "      <td>Rachin Ravindra</td>\n",
       "      <td>Overseas</td>\n",
       "      <td>All-Rounder</td>\n",
       "      <td>18000000</td>\n",
       "      <td>Chennai Super Kings</td>\n",
       "    </tr>\n",
       "    <tr>\n",
       "      <th>5</th>\n",
       "      <td>Shardul Thakur</td>\n",
       "      <td>Indian</td>\n",
       "      <td>All-Rounder</td>\n",
       "      <td>40000000</td>\n",
       "      <td>Chennai Super Kings</td>\n",
       "    </tr>\n",
       "    <tr>\n",
       "      <th>7</th>\n",
       "      <td>Sumit Kumar</td>\n",
       "      <td>Indian</td>\n",
       "      <td>All-Rounder</td>\n",
       "      <td>10000000</td>\n",
       "      <td>Delhi Capitals</td>\n",
       "    </tr>\n",
       "    <tr>\n",
       "      <th>20</th>\n",
       "      <td>Azmatullah Omarzai</td>\n",
       "      <td>Overseas</td>\n",
       "      <td>All-Rounder</td>\n",
       "      <td>5000000</td>\n",
       "      <td>Gujarat Titans</td>\n",
       "    </tr>\n",
       "    <tr>\n",
       "      <th>21</th>\n",
       "      <td>Shahrukh Khan</td>\n",
       "      <td>Indian</td>\n",
       "      <td>All-Rounder</td>\n",
       "      <td>74000000</td>\n",
       "      <td>Gujarat Titans</td>\n",
       "    </tr>\n",
       "    <tr>\n",
       "      <th>29</th>\n",
       "      <td>Ramandeep Singh</td>\n",
       "      <td>Indian</td>\n",
       "      <td>All-Rounder</td>\n",
       "      <td>2000000</td>\n",
       "      <td>Kolkata Knight Riders</td>\n",
       "    </tr>\n",
       "    <tr>\n",
       "      <th>34</th>\n",
       "      <td>David Willey</td>\n",
       "      <td>Overseas</td>\n",
       "      <td>All-Rounder</td>\n",
       "      <td>20000000</td>\n",
       "      <td>Lucknow Super Giants</td>\n",
       "    </tr>\n",
       "    <tr>\n",
       "      <th>37</th>\n",
       "      <td>Arshin Kulkarni</td>\n",
       "      <td>Indian</td>\n",
       "      <td>All-Rounder</td>\n",
       "      <td>2000000</td>\n",
       "      <td>Lucknow Super Giants</td>\n",
       "    </tr>\n",
       "    <tr>\n",
       "      <th>38</th>\n",
       "      <td>Mohd. Arshad Khan</td>\n",
       "      <td>Indian</td>\n",
       "      <td>All-Rounder</td>\n",
       "      <td>2000000</td>\n",
       "      <td>Lucknow Super Giants</td>\n",
       "    </tr>\n",
       "    <tr>\n",
       "      <th>41</th>\n",
       "      <td>Shivalik Sharma</td>\n",
       "      <td>Indian</td>\n",
       "      <td>All-Rounder</td>\n",
       "      <td>2000000</td>\n",
       "      <td>Mumbai Indians</td>\n",
       "    </tr>\n",
       "    <tr>\n",
       "      <th>42</th>\n",
       "      <td>Anshul Kamboj</td>\n",
       "      <td>Indian</td>\n",
       "      <td>All-Rounder</td>\n",
       "      <td>2000000</td>\n",
       "      <td>Mumbai Indians</td>\n",
       "    </tr>\n",
       "    <tr>\n",
       "      <th>43</th>\n",
       "      <td>Mohammad Nabi</td>\n",
       "      <td>Overseas</td>\n",
       "      <td>All-Rounder</td>\n",
       "      <td>15000000</td>\n",
       "      <td>Mumbai Indians</td>\n",
       "    </tr>\n",
       "    <tr>\n",
       "      <th>44</th>\n",
       "      <td>Naman Dhir</td>\n",
       "      <td>Indian</td>\n",
       "      <td>All-Rounder</td>\n",
       "      <td>2000000</td>\n",
       "      <td>Mumbai Indians</td>\n",
       "    </tr>\n",
       "    <tr>\n",
       "      <th>46</th>\n",
       "      <td>Gerald Coetzee</td>\n",
       "      <td>Overseas</td>\n",
       "      <td>All-Rounder</td>\n",
       "      <td>50000000</td>\n",
       "      <td>Mumbai Indians</td>\n",
       "    </tr>\n",
       "    <tr>\n",
       "      <th>47</th>\n",
       "      <td>Chris Woakes</td>\n",
       "      <td>Overseas</td>\n",
       "      <td>All-Rounder</td>\n",
       "      <td>42000000</td>\n",
       "      <td>Punjab Kings</td>\n",
       "    </tr>\n",
       "    <tr>\n",
       "      <th>48</th>\n",
       "      <td>Tanay Thyagarajann</td>\n",
       "      <td>Indian</td>\n",
       "      <td>All-Rounder</td>\n",
       "      <td>2000000</td>\n",
       "      <td>Punjab Kings</td>\n",
       "    </tr>\n",
       "    <tr>\n",
       "      <th>49</th>\n",
       "      <td>Vishwanath Pratap Singh</td>\n",
       "      <td>Indian</td>\n",
       "      <td>All-Rounder</td>\n",
       "      <td>2000000</td>\n",
       "      <td>Punjab Kings</td>\n",
       "    </tr>\n",
       "    <tr>\n",
       "      <th>50</th>\n",
       "      <td>Ashutosh Sharma</td>\n",
       "      <td>Indian</td>\n",
       "      <td>All-Rounder</td>\n",
       "      <td>2000000</td>\n",
       "      <td>Punjab Kings</td>\n",
       "    </tr>\n",
       "    <tr>\n",
       "      <th>54</th>\n",
       "      <td>Harshal Patel</td>\n",
       "      <td>Indian</td>\n",
       "      <td>All-Rounder</td>\n",
       "      <td>117500000</td>\n",
       "      <td>Punjab Kings</td>\n",
       "    </tr>\n",
       "    <tr>\n",
       "      <th>57</th>\n",
       "      <td>Abid Mushtaq</td>\n",
       "      <td>Indian</td>\n",
       "      <td>All-Rounder</td>\n",
       "      <td>2000000</td>\n",
       "      <td>Rajasthan Royals</td>\n",
       "    </tr>\n",
       "    <tr>\n",
       "      <th>61</th>\n",
       "      <td>Tom Curran</td>\n",
       "      <td>Overseas</td>\n",
       "      <td>All-Rounder</td>\n",
       "      <td>15000000</td>\n",
       "      <td>Royal Challengers Bengaluru</td>\n",
       "    </tr>\n",
       "    <tr>\n",
       "      <th>64</th>\n",
       "      <td>Swapnil Singh</td>\n",
       "      <td>Indian</td>\n",
       "      <td>All-Rounder</td>\n",
       "      <td>2000000</td>\n",
       "      <td>Royal Challengers Bengaluru</td>\n",
       "    </tr>\n",
       "    <tr>\n",
       "      <th>69</th>\n",
       "      <td>Wanindu Hasaranga</td>\n",
       "      <td>Overseas</td>\n",
       "      <td>All-Rounder</td>\n",
       "      <td>15000000</td>\n",
       "      <td>Sunrisers Hyderabad</td>\n",
       "    </tr>\n",
       "    <tr>\n",
       "      <th>70</th>\n",
       "      <td>Pat Cummins</td>\n",
       "      <td>Overseas</td>\n",
       "      <td>All-Rounder</td>\n",
       "      <td>205000000</td>\n",
       "      <td>Sunrisers Hyderabad</td>\n",
       "    </tr>\n",
       "  </tbody>\n",
       "</table>\n",
       "</div>"
      ],
      "text/plain": [
       "                    PLAYERS NATIONALITY         TYPE  PRICE PAID  \\\n",
       "2            Daryl Mitchell    Overseas  All-Rounder   140000000   \n",
       "4           Rachin Ravindra    Overseas  All-Rounder    18000000   \n",
       "5            Shardul Thakur      Indian  All-Rounder    40000000   \n",
       "7               Sumit Kumar      Indian  All-Rounder    10000000   \n",
       "20       Azmatullah Omarzai    Overseas  All-Rounder     5000000   \n",
       "21            Shahrukh Khan      Indian  All-Rounder    74000000   \n",
       "29          Ramandeep Singh      Indian  All-Rounder     2000000   \n",
       "34             David Willey    Overseas  All-Rounder    20000000   \n",
       "37          Arshin Kulkarni      Indian  All-Rounder     2000000   \n",
       "38        Mohd. Arshad Khan      Indian  All-Rounder     2000000   \n",
       "41          Shivalik Sharma      Indian  All-Rounder     2000000   \n",
       "42            Anshul Kamboj      Indian  All-Rounder     2000000   \n",
       "43            Mohammad Nabi    Overseas  All-Rounder    15000000   \n",
       "44               Naman Dhir      Indian  All-Rounder     2000000   \n",
       "46           Gerald Coetzee    Overseas  All-Rounder    50000000   \n",
       "47             Chris Woakes    Overseas  All-Rounder    42000000   \n",
       "48       Tanay Thyagarajann      Indian  All-Rounder     2000000   \n",
       "49  Vishwanath Pratap Singh      Indian  All-Rounder     2000000   \n",
       "50          Ashutosh Sharma      Indian  All-Rounder     2000000   \n",
       "54            Harshal Patel      Indian  All-Rounder   117500000   \n",
       "57             Abid Mushtaq      Indian  All-Rounder     2000000   \n",
       "61               Tom Curran    Overseas  All-Rounder    15000000   \n",
       "64            Swapnil Singh      Indian  All-Rounder     2000000   \n",
       "69        Wanindu Hasaranga    Overseas  All-Rounder    15000000   \n",
       "70              Pat Cummins    Overseas  All-Rounder   205000000   \n",
       "\n",
       "                           TEAM  \n",
       "2           Chennai Super Kings  \n",
       "4           Chennai Super Kings  \n",
       "5           Chennai Super Kings  \n",
       "7                Delhi Capitals  \n",
       "20               Gujarat Titans  \n",
       "21               Gujarat Titans  \n",
       "29        Kolkata Knight Riders  \n",
       "34         Lucknow Super Giants  \n",
       "37         Lucknow Super Giants  \n",
       "38         Lucknow Super Giants  \n",
       "41               Mumbai Indians  \n",
       "42               Mumbai Indians  \n",
       "43               Mumbai Indians  \n",
       "44               Mumbai Indians  \n",
       "46               Mumbai Indians  \n",
       "47                 Punjab Kings  \n",
       "48                 Punjab Kings  \n",
       "49                 Punjab Kings  \n",
       "50                 Punjab Kings  \n",
       "54                 Punjab Kings  \n",
       "57             Rajasthan Royals  \n",
       "61  Royal Challengers Bengaluru  \n",
       "64  Royal Challengers Bengaluru  \n",
       "69          Sunrisers Hyderabad  \n",
       "70          Sunrisers Hyderabad  "
      ]
     },
     "execution_count": 69,
     "metadata": {},
     "output_type": "execute_result"
    }
   ],
   "source": [
    "data_allrounder"
   ]
  },
  {
   "cell_type": "code",
   "execution_count": 70,
   "id": "427d41a2",
   "metadata": {},
   "outputs": [],
   "source": [
    "data_allrounder_count=data_allrounder[\"PLAYERS\"].count()"
   ]
  },
  {
   "cell_type": "code",
   "execution_count": 71,
   "id": "3afe4779",
   "metadata": {},
   "outputs": [
    {
     "data": {
      "text/plain": [
       "25"
      ]
     },
     "execution_count": 71,
     "metadata": {},
     "output_type": "execute_result"
    }
   ],
   "source": [
    "data_allrounder_count"
   ]
  },
  {
   "cell_type": "markdown",
   "id": "b7603e56",
   "metadata": {},
   "source": [
    "### How Many Indian All-Rounder Sold In Ipl Auction?"
   ]
  },
  {
   "cell_type": "code",
   "execution_count": 72,
   "id": "c4effeb6",
   "metadata": {},
   "outputs": [],
   "source": [
    "data_allrounder_indian=data[(data[\"TYPE\"]==\"All-Rounder\") & (data[\"NATIONALITY\"]==\"Indian\")]"
   ]
  },
  {
   "cell_type": "code",
   "execution_count": 73,
   "id": "92f4cb59",
   "metadata": {},
   "outputs": [
    {
     "data": {
      "text/html": [
       "<div>\n",
       "<style scoped>\n",
       "    .dataframe tbody tr th:only-of-type {\n",
       "        vertical-align: middle;\n",
       "    }\n",
       "\n",
       "    .dataframe tbody tr th {\n",
       "        vertical-align: top;\n",
       "    }\n",
       "\n",
       "    .dataframe thead th {\n",
       "        text-align: right;\n",
       "    }\n",
       "</style>\n",
       "<table border=\"1\" class=\"dataframe\">\n",
       "  <thead>\n",
       "    <tr style=\"text-align: right;\">\n",
       "      <th></th>\n",
       "      <th>PLAYERS</th>\n",
       "      <th>NATIONALITY</th>\n",
       "      <th>TYPE</th>\n",
       "      <th>PRICE PAID</th>\n",
       "      <th>TEAM</th>\n",
       "    </tr>\n",
       "  </thead>\n",
       "  <tbody>\n",
       "    <tr>\n",
       "      <th>5</th>\n",
       "      <td>Shardul Thakur</td>\n",
       "      <td>Indian</td>\n",
       "      <td>All-Rounder</td>\n",
       "      <td>40000000</td>\n",
       "      <td>Chennai Super Kings</td>\n",
       "    </tr>\n",
       "    <tr>\n",
       "      <th>7</th>\n",
       "      <td>Sumit Kumar</td>\n",
       "      <td>Indian</td>\n",
       "      <td>All-Rounder</td>\n",
       "      <td>10000000</td>\n",
       "      <td>Delhi Capitals</td>\n",
       "    </tr>\n",
       "    <tr>\n",
       "      <th>21</th>\n",
       "      <td>Shahrukh Khan</td>\n",
       "      <td>Indian</td>\n",
       "      <td>All-Rounder</td>\n",
       "      <td>74000000</td>\n",
       "      <td>Gujarat Titans</td>\n",
       "    </tr>\n",
       "    <tr>\n",
       "      <th>29</th>\n",
       "      <td>Ramandeep Singh</td>\n",
       "      <td>Indian</td>\n",
       "      <td>All-Rounder</td>\n",
       "      <td>2000000</td>\n",
       "      <td>Kolkata Knight Riders</td>\n",
       "    </tr>\n",
       "    <tr>\n",
       "      <th>37</th>\n",
       "      <td>Arshin Kulkarni</td>\n",
       "      <td>Indian</td>\n",
       "      <td>All-Rounder</td>\n",
       "      <td>2000000</td>\n",
       "      <td>Lucknow Super Giants</td>\n",
       "    </tr>\n",
       "    <tr>\n",
       "      <th>38</th>\n",
       "      <td>Mohd. Arshad Khan</td>\n",
       "      <td>Indian</td>\n",
       "      <td>All-Rounder</td>\n",
       "      <td>2000000</td>\n",
       "      <td>Lucknow Super Giants</td>\n",
       "    </tr>\n",
       "    <tr>\n",
       "      <th>41</th>\n",
       "      <td>Shivalik Sharma</td>\n",
       "      <td>Indian</td>\n",
       "      <td>All-Rounder</td>\n",
       "      <td>2000000</td>\n",
       "      <td>Mumbai Indians</td>\n",
       "    </tr>\n",
       "    <tr>\n",
       "      <th>42</th>\n",
       "      <td>Anshul Kamboj</td>\n",
       "      <td>Indian</td>\n",
       "      <td>All-Rounder</td>\n",
       "      <td>2000000</td>\n",
       "      <td>Mumbai Indians</td>\n",
       "    </tr>\n",
       "    <tr>\n",
       "      <th>44</th>\n",
       "      <td>Naman Dhir</td>\n",
       "      <td>Indian</td>\n",
       "      <td>All-Rounder</td>\n",
       "      <td>2000000</td>\n",
       "      <td>Mumbai Indians</td>\n",
       "    </tr>\n",
       "    <tr>\n",
       "      <th>48</th>\n",
       "      <td>Tanay Thyagarajann</td>\n",
       "      <td>Indian</td>\n",
       "      <td>All-Rounder</td>\n",
       "      <td>2000000</td>\n",
       "      <td>Punjab Kings</td>\n",
       "    </tr>\n",
       "    <tr>\n",
       "      <th>49</th>\n",
       "      <td>Vishwanath Pratap Singh</td>\n",
       "      <td>Indian</td>\n",
       "      <td>All-Rounder</td>\n",
       "      <td>2000000</td>\n",
       "      <td>Punjab Kings</td>\n",
       "    </tr>\n",
       "    <tr>\n",
       "      <th>50</th>\n",
       "      <td>Ashutosh Sharma</td>\n",
       "      <td>Indian</td>\n",
       "      <td>All-Rounder</td>\n",
       "      <td>2000000</td>\n",
       "      <td>Punjab Kings</td>\n",
       "    </tr>\n",
       "    <tr>\n",
       "      <th>54</th>\n",
       "      <td>Harshal Patel</td>\n",
       "      <td>Indian</td>\n",
       "      <td>All-Rounder</td>\n",
       "      <td>117500000</td>\n",
       "      <td>Punjab Kings</td>\n",
       "    </tr>\n",
       "    <tr>\n",
       "      <th>57</th>\n",
       "      <td>Abid Mushtaq</td>\n",
       "      <td>Indian</td>\n",
       "      <td>All-Rounder</td>\n",
       "      <td>2000000</td>\n",
       "      <td>Rajasthan Royals</td>\n",
       "    </tr>\n",
       "    <tr>\n",
       "      <th>64</th>\n",
       "      <td>Swapnil Singh</td>\n",
       "      <td>Indian</td>\n",
       "      <td>All-Rounder</td>\n",
       "      <td>2000000</td>\n",
       "      <td>Royal Challengers Bengaluru</td>\n",
       "    </tr>\n",
       "  </tbody>\n",
       "</table>\n",
       "</div>"
      ],
      "text/plain": [
       "                    PLAYERS NATIONALITY         TYPE  PRICE PAID  \\\n",
       "5            Shardul Thakur      Indian  All-Rounder    40000000   \n",
       "7               Sumit Kumar      Indian  All-Rounder    10000000   \n",
       "21            Shahrukh Khan      Indian  All-Rounder    74000000   \n",
       "29          Ramandeep Singh      Indian  All-Rounder     2000000   \n",
       "37          Arshin Kulkarni      Indian  All-Rounder     2000000   \n",
       "38        Mohd. Arshad Khan      Indian  All-Rounder     2000000   \n",
       "41          Shivalik Sharma      Indian  All-Rounder     2000000   \n",
       "42            Anshul Kamboj      Indian  All-Rounder     2000000   \n",
       "44               Naman Dhir      Indian  All-Rounder     2000000   \n",
       "48       Tanay Thyagarajann      Indian  All-Rounder     2000000   \n",
       "49  Vishwanath Pratap Singh      Indian  All-Rounder     2000000   \n",
       "50          Ashutosh Sharma      Indian  All-Rounder     2000000   \n",
       "54            Harshal Patel      Indian  All-Rounder   117500000   \n",
       "57             Abid Mushtaq      Indian  All-Rounder     2000000   \n",
       "64            Swapnil Singh      Indian  All-Rounder     2000000   \n",
       "\n",
       "                           TEAM  \n",
       "5           Chennai Super Kings  \n",
       "7                Delhi Capitals  \n",
       "21               Gujarat Titans  \n",
       "29        Kolkata Knight Riders  \n",
       "37         Lucknow Super Giants  \n",
       "38         Lucknow Super Giants  \n",
       "41               Mumbai Indians  \n",
       "42               Mumbai Indians  \n",
       "44               Mumbai Indians  \n",
       "48                 Punjab Kings  \n",
       "49                 Punjab Kings  \n",
       "50                 Punjab Kings  \n",
       "54                 Punjab Kings  \n",
       "57             Rajasthan Royals  \n",
       "64  Royal Challengers Bengaluru  "
      ]
     },
     "execution_count": 73,
     "metadata": {},
     "output_type": "execute_result"
    }
   ],
   "source": [
    "data_allrounder_indian"
   ]
  },
  {
   "cell_type": "code",
   "execution_count": 74,
   "id": "ea323a4c",
   "metadata": {},
   "outputs": [
    {
     "data": {
      "text/plain": [
       "15"
      ]
     },
     "execution_count": 74,
     "metadata": {},
     "output_type": "execute_result"
    }
   ],
   "source": [
    "data_allrounder_indian[\"PLAYERS\"].count()"
   ]
  },
  {
   "cell_type": "markdown",
   "id": "c795e937",
   "metadata": {},
   "source": [
    "### How Many Overseas All-Rounder Sold In Ipl Auction?"
   ]
  },
  {
   "cell_type": "code",
   "execution_count": 75,
   "id": "91254b70",
   "metadata": {},
   "outputs": [],
   "source": [
    "data_allrounder_not_indian=data[(data[\"TYPE\"]==\"All-Rounder\") & (data[\"NATIONALITY\"]!=\"Indian\")]"
   ]
  },
  {
   "cell_type": "code",
   "execution_count": 76,
   "id": "fdf14447",
   "metadata": {},
   "outputs": [
    {
     "data": {
      "text/html": [
       "<div>\n",
       "<style scoped>\n",
       "    .dataframe tbody tr th:only-of-type {\n",
       "        vertical-align: middle;\n",
       "    }\n",
       "\n",
       "    .dataframe tbody tr th {\n",
       "        vertical-align: top;\n",
       "    }\n",
       "\n",
       "    .dataframe thead th {\n",
       "        text-align: right;\n",
       "    }\n",
       "</style>\n",
       "<table border=\"1\" class=\"dataframe\">\n",
       "  <thead>\n",
       "    <tr style=\"text-align: right;\">\n",
       "      <th></th>\n",
       "      <th>PLAYERS</th>\n",
       "      <th>NATIONALITY</th>\n",
       "      <th>TYPE</th>\n",
       "      <th>PRICE PAID</th>\n",
       "      <th>TEAM</th>\n",
       "    </tr>\n",
       "  </thead>\n",
       "  <tbody>\n",
       "    <tr>\n",
       "      <th>14</th>\n",
       "      <td>Harry Brook</td>\n",
       "      <td>Overseas</td>\n",
       "      <td>Batter</td>\n",
       "      <td>40000000</td>\n",
       "      <td>Delhi Capitals</td>\n",
       "    </tr>\n",
       "    <tr>\n",
       "      <th>28</th>\n",
       "      <td>Sherfane Rutherford</td>\n",
       "      <td>Overseas</td>\n",
       "      <td>Batter</td>\n",
       "      <td>15000000</td>\n",
       "      <td>Kolkata Knight Riders</td>\n",
       "    </tr>\n",
       "    <tr>\n",
       "      <th>33</th>\n",
       "      <td>Ashton Turner</td>\n",
       "      <td>Overseas</td>\n",
       "      <td>Batter</td>\n",
       "      <td>10000000</td>\n",
       "      <td>Lucknow Super Giants</td>\n",
       "    </tr>\n",
       "    <tr>\n",
       "      <th>52</th>\n",
       "      <td>Rilee Rossouw</td>\n",
       "      <td>Overseas</td>\n",
       "      <td>Batter</td>\n",
       "      <td>80000000</td>\n",
       "      <td>Punjab Kings</td>\n",
       "    </tr>\n",
       "    <tr>\n",
       "      <th>56</th>\n",
       "      <td>Rovman Powell</td>\n",
       "      <td>Overseas</td>\n",
       "      <td>Batter</td>\n",
       "      <td>74000000</td>\n",
       "      <td>Rajasthan Royals</td>\n",
       "    </tr>\n",
       "    <tr>\n",
       "      <th>71</th>\n",
       "      <td>Travis Head</td>\n",
       "      <td>Overseas</td>\n",
       "      <td>Batter</td>\n",
       "      <td>68000000</td>\n",
       "      <td>Sunrisers Hyderabad</td>\n",
       "    </tr>\n",
       "  </tbody>\n",
       "</table>\n",
       "</div>"
      ],
      "text/plain": [
       "                PLAYERS NATIONALITY    TYPE  PRICE PAID                   TEAM\n",
       "14          Harry Brook    Overseas  Batter    40000000         Delhi Capitals\n",
       "28  Sherfane Rutherford    Overseas  Batter    15000000  Kolkata Knight Riders\n",
       "33        Ashton Turner    Overseas  Batter    10000000   Lucknow Super Giants\n",
       "52        Rilee Rossouw    Overseas  Batter    80000000           Punjab Kings\n",
       "56        Rovman Powell    Overseas  Batter    74000000       Rajasthan Royals\n",
       "71          Travis Head    Overseas  Batter    68000000    Sunrisers Hyderabad"
      ]
     },
     "execution_count": 76,
     "metadata": {},
     "output_type": "execute_result"
    }
   ],
   "source": [
    "data_batter_not_indian"
   ]
  },
  {
   "cell_type": "code",
   "execution_count": 77,
   "id": "f3e67767",
   "metadata": {},
   "outputs": [
    {
     "data": {
      "text/plain": [
       "10"
      ]
     },
     "execution_count": 77,
     "metadata": {},
     "output_type": "execute_result"
    }
   ],
   "source": [
    "data_allrounder_not_indian[\"PLAYERS\"].count()"
   ]
  },
  {
   "cell_type": "markdown",
   "id": "deaff2a7",
   "metadata": {},
   "source": [
    "### Counts of Indian and Non-Indian All-Rounders Chart."
   ]
  },
  {
   "cell_type": "code",
   "execution_count": 78,
   "id": "534b4cc0",
   "metadata": {},
   "outputs": [
    {
     "data": {
      "image/png": "[encoded data removed]",
      "text/plain": [
       "<Figure size 1000x600 with 1 Axes>"
      ]
     },
     "metadata": {},
     "output_type": "display_data"
    }
   ],
   "source": [
    "import seaborn as sns\n",
    "import matplotlib.pyplot as plt\n",
    "\n",
    "plt.figure(figsize=(10, 6))\n",
    "sns.countplot(x=\"NATIONALITY\", data=pd.concat([data_allrounder_indian,data_allrounder_not_indian]))\n",
    "plt.title(\"Counts of Indian and Non-Indian All-Rounders\")\n",
    "plt.xlabel(\"Nationality\")\n",
    "plt.ylabel(\"Count\")\n",
    "plt.show()"
   ]
  },
  {
   "cell_type": "markdown",
   "id": "3dac2ae7",
   "metadata": {},
   "source": [
    "### Number Of All-Rounders For Each Team Chart."
   ]
  },
  {
   "cell_type": "code",
   "execution_count": 79,
   "id": "a32f663b",
   "metadata": {},
   "outputs": [
    {
     "data": {
      "text/html": [
       "<div>\n",
       "<style scoped>\n",
       "    .dataframe tbody tr th:only-of-type {\n",
       "        vertical-align: middle;\n",
       "    }\n",
       "\n",
       "    .dataframe tbody tr th {\n",
       "        vertical-align: top;\n",
       "    }\n",
       "\n",
       "    .dataframe thead th {\n",
       "        text-align: right;\n",
       "    }\n",
       "</style>\n",
       "<table border=\"1\" class=\"dataframe\">\n",
       "  <thead>\n",
       "    <tr style=\"text-align: right;\">\n",
       "      <th></th>\n",
       "      <th>TEAM</th>\n",
       "      <th>COUNT</th>\n",
       "    </tr>\n",
       "  </thead>\n",
       "  <tbody>\n",
       "    <tr>\n",
       "      <th>0</th>\n",
       "      <td>Chennai Super Kings</td>\n",
       "      <td>3</td>\n",
       "    </tr>\n",
       "    <tr>\n",
       "      <th>1</th>\n",
       "      <td>Delhi Capitals</td>\n",
       "      <td>1</td>\n",
       "    </tr>\n",
       "    <tr>\n",
       "      <th>2</th>\n",
       "      <td>Gujarat Titans</td>\n",
       "      <td>2</td>\n",
       "    </tr>\n",
       "    <tr>\n",
       "      <th>3</th>\n",
       "      <td>Kolkata Knight Riders</td>\n",
       "      <td>1</td>\n",
       "    </tr>\n",
       "    <tr>\n",
       "      <th>4</th>\n",
       "      <td>Lucknow Super Giants</td>\n",
       "      <td>3</td>\n",
       "    </tr>\n",
       "    <tr>\n",
       "      <th>5</th>\n",
       "      <td>Mumbai Indians</td>\n",
       "      <td>5</td>\n",
       "    </tr>\n",
       "    <tr>\n",
       "      <th>6</th>\n",
       "      <td>Punjab Kings</td>\n",
       "      <td>5</td>\n",
       "    </tr>\n",
       "    <tr>\n",
       "      <th>7</th>\n",
       "      <td>Rajasthan Royals</td>\n",
       "      <td>1</td>\n",
       "    </tr>\n",
       "    <tr>\n",
       "      <th>8</th>\n",
       "      <td>Royal Challengers Bengaluru</td>\n",
       "      <td>2</td>\n",
       "    </tr>\n",
       "    <tr>\n",
       "      <th>9</th>\n",
       "      <td>Sunrisers Hyderabad</td>\n",
       "      <td>2</td>\n",
       "    </tr>\n",
       "  </tbody>\n",
       "</table>\n",
       "</div>"
      ],
      "text/plain": [
       "                          TEAM  COUNT\n",
       "0          Chennai Super Kings      3\n",
       "1               Delhi Capitals      1\n",
       "2               Gujarat Titans      2\n",
       "3        Kolkata Knight Riders      1\n",
       "4         Lucknow Super Giants      3\n",
       "5               Mumbai Indians      5\n",
       "6                 Punjab Kings      5\n",
       "7             Rajasthan Royals      1\n",
       "8  Royal Challengers Bengaluru      2\n",
       "9          Sunrisers Hyderabad      2"
      ]
     },
     "execution_count": 79,
     "metadata": {},
     "output_type": "execute_result"
    }
   ],
   "source": [
    "allrounder_per_team = data[data[\"TYPE\"] == \"All-Rounder\"].groupby(\"TEAM\").size().reset_index(name=\"COUNT\")\n",
    "allrounder_per_team"
   ]
  },
  {
   "cell_type": "code",
   "execution_count": 80,
   "id": "38bef147",
   "metadata": {},
   "outputs": [
    {
     "data": {
      "image/png": "[encoded data removed]",
      "text/plain": [
       "<Figure size 1200x600 with 1 Axes>"
      ]
     },
     "metadata": {},
     "output_type": "display_data"
    }
   ],
   "source": [
    "plt.figure(figsize=(12, 6))\n",
    "sns.barplot(x=\"TEAM\", y=\"COUNT\", data=allrounder_per_team)\n",
    "plt.title(\"Number of All-Rounders in Each Team\")\n",
    "plt.xlabel(\"Team\")\n",
    "plt.ylabel(\"Number of All-Rounders\")\n",
    "plt.xticks(rotation=45, ha='right')\n",
    "plt.tight_layout()\n",
    "plt.show()"
   ]
  },
  {
   "cell_type": "markdown",
   "id": "6a078469",
   "metadata": {},
   "source": [
    "### Highest Paid All-Rounder In Ipl Auction."
   ]
  },
  {
   "cell_type": "code",
   "execution_count": 81,
   "id": "d74f6684",
   "metadata": {},
   "outputs": [
    {
     "data": {
      "text/plain": [
       "PLAYERS                Pat Cummins\n",
       "NATIONALITY               Overseas\n",
       "TYPE                   All-Rounder\n",
       "PRICE PAID               205000000\n",
       "TEAM           Sunrisers Hyderabad\n",
       "Name: 70, dtype: object"
      ]
     },
     "execution_count": 81,
     "metadata": {},
     "output_type": "execute_result"
    }
   ],
   "source": [
    "data_allrounder.loc[data_allrounder[\"PRICE PAID\"].idxmax()]"
   ]
  },
  {
   "cell_type": "markdown",
   "id": "6b3b32fc",
   "metadata": {},
   "source": [
    "\n",
    "<img src=\"thequint_2023-12_2529f7c4-0ed4-4497-9e1c-54b3c70e4abc_WhatsApp_Image_2023_12_19_at_2_16_11_PM.webp\" width=\"300px\" height=\"300px\" style=\"float: left; margin-right: 10px;\">"
   ]
  },
  {
   "cell_type": "code",
   "execution_count": 82,
   "id": "9e0ba912",
   "metadata": {},
   "outputs": [],
   "source": [
    "top_5_allrounder=data_allrounder.sort_values(by=\"PRICE PAID\",ascending=False)"
   ]
  },
  {
   "cell_type": "code",
   "execution_count": 84,
   "id": "0587d063",
   "metadata": {},
   "outputs": [
    {
     "data": {
      "text/html": [
       "<div>\n",
       "<style scoped>\n",
       "    .dataframe tbody tr th:only-of-type {\n",
       "        vertical-align: middle;\n",
       "    }\n",
       "\n",
       "    .dataframe tbody tr th {\n",
       "        vertical-align: top;\n",
       "    }\n",
       "\n",
       "    .dataframe thead th {\n",
       "        text-align: right;\n",
       "    }\n",
       "</style>\n",
       "<table border=\"1\" class=\"dataframe\">\n",
       "  <thead>\n",
       "    <tr style=\"text-align: right;\">\n",
       "      <th></th>\n",
       "      <th>PLAYERS</th>\n",
       "      <th>NATIONALITY</th>\n",
       "      <th>TYPE</th>\n",
       "      <th>PRICE PAID</th>\n",
       "      <th>TEAM</th>\n",
       "    </tr>\n",
       "  </thead>\n",
       "  <tbody>\n",
       "    <tr>\n",
       "      <th>70</th>\n",
       "      <td>Pat Cummins</td>\n",
       "      <td>Overseas</td>\n",
       "      <td>All-Rounder</td>\n",
       "      <td>205000000</td>\n",
       "      <td>Sunrisers Hyderabad</td>\n",
       "    </tr>\n",
       "    <tr>\n",
       "      <th>2</th>\n",
       "      <td>Daryl Mitchell</td>\n",
       "      <td>Overseas</td>\n",
       "      <td>All-Rounder</td>\n",
       "      <td>140000000</td>\n",
       "      <td>Chennai Super Kings</td>\n",
       "    </tr>\n",
       "    <tr>\n",
       "      <th>54</th>\n",
       "      <td>Harshal Patel</td>\n",
       "      <td>Indian</td>\n",
       "      <td>All-Rounder</td>\n",
       "      <td>117500000</td>\n",
       "      <td>Punjab Kings</td>\n",
       "    </tr>\n",
       "    <tr>\n",
       "      <th>21</th>\n",
       "      <td>Shahrukh Khan</td>\n",
       "      <td>Indian</td>\n",
       "      <td>All-Rounder</td>\n",
       "      <td>74000000</td>\n",
       "      <td>Gujarat Titans</td>\n",
       "    </tr>\n",
       "    <tr>\n",
       "      <th>46</th>\n",
       "      <td>Gerald Coetzee</td>\n",
       "      <td>Overseas</td>\n",
       "      <td>All-Rounder</td>\n",
       "      <td>50000000</td>\n",
       "      <td>Mumbai Indians</td>\n",
       "    </tr>\n",
       "  </tbody>\n",
       "</table>\n",
       "</div>"
      ],
      "text/plain": [
       "           PLAYERS NATIONALITY         TYPE  PRICE PAID                 TEAM\n",
       "70     Pat Cummins    Overseas  All-Rounder   205000000  Sunrisers Hyderabad\n",
       "2   Daryl Mitchell    Overseas  All-Rounder   140000000  Chennai Super Kings\n",
       "54   Harshal Patel      Indian  All-Rounder   117500000         Punjab Kings\n",
       "21   Shahrukh Khan      Indian  All-Rounder    74000000       Gujarat Titans\n",
       "46  Gerald Coetzee    Overseas  All-Rounder    50000000       Mumbai Indians"
      ]
     },
     "execution_count": 84,
     "metadata": {},
     "output_type": "execute_result"
    }
   ],
   "source": [
    "top_5_allrounder.head()"
   ]
  },
  {
   "cell_type": "markdown",
   "id": "250f6ea3",
   "metadata": {},
   "source": [
    "<div style=\"display: flex;\">\n",
    "    <img src=\"thequint_2023-12_2529f7c4-0ed4-4497-9e1c-54b3c70e4abc_WhatsApp_Image_2023_12_19_at_2_16_11_PM.webp\" alt=\"Photo 1\" style=\"width: 20%; height: auto; margin-right: 5px;\">\n",
    "    <img src=\"dayrial.jpg\" alt=\"Photo 2\" style=\"width: 20%; height: auto; margin-right: 5px;\">\n",
    "    <img src=\"harshal.jpg\" alt=\"Photo 3\" style=\"width: 20%; height: auto; margin-right: 5px;\">\n",
    "    <img src=\"khan.jpg\" alt=\"Photo 4\" style=\"width: 20%; height: auto; margin-right: 5px;\">\n",
    "    <img src=\"cot.jpg\" alt=\"Photo 5\" style=\"width: 20%; height: auto; margin-right:5px\">\n",
    "</div>\n"
   ]
  },
  {
   "cell_type": "markdown",
   "id": "a01a689f",
   "metadata": {},
   "source": [
    "<h1 style=\"text-align: center; color: red;\">UNSOLD PLAYER IN AUCTION</h1>"
   ]
  },
  {
   "cell_type": "code",
   "execution_count": 85,
   "id": "d2ebf01f",
   "metadata": {},
   "outputs": [],
   "source": [
    "data1=pd.read_csv(\"UNSOLD_PLAYERS.csv\")"
   ]
  },
  {
   "cell_type": "code",
   "execution_count": 86,
   "id": "90b7ebaf",
   "metadata": {},
   "outputs": [
    {
     "data": {
      "text/html": [
       "<div>\n",
       "<style scoped>\n",
       "    .dataframe tbody tr th:only-of-type {\n",
       "        vertical-align: middle;\n",
       "    }\n",
       "\n",
       "    .dataframe tbody tr th {\n",
       "        vertical-align: top;\n",
       "    }\n",
       "\n",
       "    .dataframe thead th {\n",
       "        text-align: right;\n",
       "    }\n",
       "</style>\n",
       "<table border=\"1\" class=\"dataframe\">\n",
       "  <thead>\n",
       "    <tr style=\"text-align: right;\">\n",
       "      <th></th>\n",
       "      <th>PLAYER</th>\n",
       "      <th>NATIONALITY</th>\n",
       "      <th>TYPE</th>\n",
       "      <th>BASE PRICE</th>\n",
       "    </tr>\n",
       "  </thead>\n",
       "  <tbody>\n",
       "    <tr>\n",
       "      <th>0</th>\n",
       "      <td>Priyansh Arya</td>\n",
       "      <td>Indian</td>\n",
       "      <td>Batter</td>\n",
       "      <td>2000000</td>\n",
       "    </tr>\n",
       "    <tr>\n",
       "      <th>1</th>\n",
       "      <td>Rohan Kunnummal</td>\n",
       "      <td>Indian</td>\n",
       "      <td>Batter</td>\n",
       "      <td>2000000</td>\n",
       "    </tr>\n",
       "    <tr>\n",
       "      <th>2</th>\n",
       "      <td>Manan Vohra</td>\n",
       "      <td>Indian</td>\n",
       "      <td>Batter</td>\n",
       "      <td>2000000</td>\n",
       "    </tr>\n",
       "    <tr>\n",
       "      <th>3</th>\n",
       "      <td>Raj Angad Bawa</td>\n",
       "      <td>Indian</td>\n",
       "      <td>All-Rounder</td>\n",
       "      <td>2000000</td>\n",
       "    </tr>\n",
       "    <tr>\n",
       "      <th>4</th>\n",
       "      <td>Sarfaraz Khan</td>\n",
       "      <td>Indian</td>\n",
       "      <td>All-Rounder</td>\n",
       "      <td>2000000</td>\n",
       "    </tr>\n",
       "    <tr>\n",
       "      <th>...</th>\n",
       "      <td>...</td>\n",
       "      <td>...</td>\n",
       "      <td>...</td>\n",
       "      <td>...</td>\n",
       "    </tr>\n",
       "    <tr>\n",
       "      <th>255</th>\n",
       "      <td>Kamlesh Nagarkoti</td>\n",
       "      <td>Indian</td>\n",
       "      <td>All-Rounder</td>\n",
       "      <td>3000000</td>\n",
       "    </tr>\n",
       "    <tr>\n",
       "      <th>256</th>\n",
       "      <td>Basil Thampi</td>\n",
       "      <td>Indian</td>\n",
       "      <td>Bowler</td>\n",
       "      <td>3000000</td>\n",
       "    </tr>\n",
       "    <tr>\n",
       "      <th>257</th>\n",
       "      <td>Lalit Yadav</td>\n",
       "      <td>Indian</td>\n",
       "      <td>Bowler</td>\n",
       "      <td>3000000</td>\n",
       "    </tr>\n",
       "    <tr>\n",
       "      <th>258</th>\n",
       "      <td>S Midhun</td>\n",
       "      <td>Indian</td>\n",
       "      <td>Bowler</td>\n",
       "      <td>3000000</td>\n",
       "    </tr>\n",
       "    <tr>\n",
       "      <th>259</th>\n",
       "      <td>Izharulhuq Naveed</td>\n",
       "      <td>Overseas</td>\n",
       "      <td>Bowler</td>\n",
       "      <td>3000000</td>\n",
       "    </tr>\n",
       "  </tbody>\n",
       "</table>\n",
       "<p>260 rows × 4 columns</p>\n",
       "</div>"
      ],
      "text/plain": [
       "                PLAYER NATIONALITY         TYPE  BASE PRICE\n",
       "0        Priyansh Arya      Indian       Batter     2000000\n",
       "1      Rohan Kunnummal      Indian       Batter     2000000\n",
       "2          Manan Vohra      Indian       Batter     2000000\n",
       "3       Raj Angad Bawa      Indian  All-Rounder     2000000\n",
       "4        Sarfaraz Khan      Indian  All-Rounder     2000000\n",
       "..                 ...         ...          ...         ...\n",
       "255  Kamlesh Nagarkoti      Indian  All-Rounder     3000000\n",
       "256       Basil Thampi      Indian       Bowler     3000000\n",
       "257        Lalit Yadav      Indian       Bowler     3000000\n",
       "258           S Midhun      Indian       Bowler     3000000\n",
       "259  Izharulhuq Naveed    Overseas       Bowler     3000000\n",
       "\n",
       "[260 rows x 4 columns]"
      ]
     },
     "execution_count": 86,
     "metadata": {},
     "output_type": "execute_result"
    }
   ],
   "source": [
    "data1"
   ]
  },
  {
   "cell_type": "code",
   "execution_count": 87,
   "id": "c6dd90f6",
   "metadata": {},
   "outputs": [
    {
     "name": "stdout",
     "output_type": "stream",
     "text": [
      "<class 'pandas.core.frame.DataFrame'>\n",
      "RangeIndex: 260 entries, 0 to 259\n",
      "Data columns (total 4 columns):\n",
      " #   Column       Non-Null Count  Dtype \n",
      "---  ------       --------------  ----- \n",
      " 0   PLAYER       260 non-null    object\n",
      " 1   NATIONALITY  260 non-null    object\n",
      " 2   TYPE         260 non-null    object\n",
      " 3   BASE PRICE   260 non-null    int64 \n",
      "dtypes: int64(1), object(3)\n",
      "memory usage: 8.3+ KB\n"
     ]
    }
   ],
   "source": [
    "data1.info()"
   ]
  },
  {
   "cell_type": "code",
   "execution_count": 88,
   "id": "707e9a98",
   "metadata": {},
   "outputs": [
    {
     "data": {
      "text/plain": [
       "1040"
      ]
     },
     "execution_count": 88,
     "metadata": {},
     "output_type": "execute_result"
    }
   ],
   "source": [
    "data1.size"
   ]
  },
  {
   "cell_type": "code",
   "execution_count": 89,
   "id": "3c8a703a",
   "metadata": {},
   "outputs": [
    {
     "data": {
      "text/plain": [
       "PLAYER         0\n",
       "NATIONALITY    0\n",
       "TYPE           0\n",
       "BASE PRICE     0\n",
       "dtype: int64"
      ]
     },
     "execution_count": 89,
     "metadata": {},
     "output_type": "execute_result"
    }
   ],
   "source": [
    "data1.isnull().sum()"
   ]
  },
  {
   "cell_type": "code",
   "execution_count": 90,
   "id": "d4f3931c",
   "metadata": {},
   "outputs": [
    {
     "data": {
      "text/html": [
       "<div>\n",
       "<style scoped>\n",
       "    .dataframe tbody tr th:only-of-type {\n",
       "        vertical-align: middle;\n",
       "    }\n",
       "\n",
       "    .dataframe tbody tr th {\n",
       "        vertical-align: top;\n",
       "    }\n",
       "\n",
       "    .dataframe thead th {\n",
       "        text-align: right;\n",
       "    }\n",
       "</style>\n",
       "<table border=\"1\" class=\"dataframe\">\n",
       "  <thead>\n",
       "    <tr style=\"text-align: right;\">\n",
       "      <th></th>\n",
       "      <th>BASE PRICE</th>\n",
       "    </tr>\n",
       "  </thead>\n",
       "  <tbody>\n",
       "    <tr>\n",
       "      <th>count</th>\n",
       "      <td>2.600000e+02</td>\n",
       "    </tr>\n",
       "    <tr>\n",
       "      <th>mean</th>\n",
       "      <td>4.025000e+06</td>\n",
       "    </tr>\n",
       "    <tr>\n",
       "      <th>std</th>\n",
       "      <td>4.145560e+06</td>\n",
       "    </tr>\n",
       "    <tr>\n",
       "      <th>min</th>\n",
       "      <td>2.000000e+06</td>\n",
       "    </tr>\n",
       "    <tr>\n",
       "      <th>25%</th>\n",
       "      <td>2.000000e+06</td>\n",
       "    </tr>\n",
       "    <tr>\n",
       "      <th>50%</th>\n",
       "      <td>2.000000e+06</td>\n",
       "    </tr>\n",
       "    <tr>\n",
       "      <th>75%</th>\n",
       "      <td>5.000000e+06</td>\n",
       "    </tr>\n",
       "    <tr>\n",
       "      <th>max</th>\n",
       "      <td>2.000000e+07</td>\n",
       "    </tr>\n",
       "  </tbody>\n",
       "</table>\n",
       "</div>"
      ],
      "text/plain": [
       "         BASE PRICE\n",
       "count  2.600000e+02\n",
       "mean   4.025000e+06\n",
       "std    4.145560e+06\n",
       "min    2.000000e+06\n",
       "25%    2.000000e+06\n",
       "50%    2.000000e+06\n",
       "75%    5.000000e+06\n",
       "max    2.000000e+07"
      ]
     },
     "execution_count": 90,
     "metadata": {},
     "output_type": "execute_result"
    }
   ],
   "source": [
    "data1.describe()"
   ]
  },
  {
   "cell_type": "markdown",
   "id": "d4a6dbd8",
   "metadata": {},
   "source": [
    "### Total Unsold Player In Auction."
   ]
  },
  {
   "cell_type": "code",
   "execution_count": 91,
   "id": "57fe668d",
   "metadata": {},
   "outputs": [],
   "source": [
    "total_unsold=data1[\"PLAYER\"].count()"
   ]
  },
  {
   "cell_type": "code",
   "execution_count": 92,
   "id": "3eb09517",
   "metadata": {},
   "outputs": [
    {
     "name": "stdout",
     "output_type": "stream",
     "text": [
      "Total 260 are Unsold In Auction\n"
     ]
    }
   ],
   "source": [
    "print(f\"Total {total_unsold} are Unsold In Auction\")"
   ]
  },
  {
   "cell_type": "markdown",
   "id": "bdf3ed68",
   "metadata": {},
   "source": [
    "### Total Unsold Indian Player In Auction."
   ]
  },
  {
   "cell_type": "code",
   "execution_count": 93,
   "id": "a740f660",
   "metadata": {},
   "outputs": [],
   "source": [
    "total_unsold_indian=data1[data1[\"NATIONALITY\"]==\"Indian\"]"
   ]
  },
  {
   "cell_type": "code",
   "execution_count": 94,
   "id": "5f9bf1ec",
   "metadata": {},
   "outputs": [
    {
     "data": {
      "text/html": [
       "<div>\n",
       "<style scoped>\n",
       "    .dataframe tbody tr th:only-of-type {\n",
       "        vertical-align: middle;\n",
       "    }\n",
       "\n",
       "    .dataframe tbody tr th {\n",
       "        vertical-align: top;\n",
       "    }\n",
       "\n",
       "    .dataframe thead th {\n",
       "        text-align: right;\n",
       "    }\n",
       "</style>\n",
       "<table border=\"1\" class=\"dataframe\">\n",
       "  <thead>\n",
       "    <tr style=\"text-align: right;\">\n",
       "      <th></th>\n",
       "      <th>PLAYER</th>\n",
       "      <th>NATIONALITY</th>\n",
       "      <th>TYPE</th>\n",
       "      <th>BASE PRICE</th>\n",
       "    </tr>\n",
       "  </thead>\n",
       "  <tbody>\n",
       "    <tr>\n",
       "      <th>0</th>\n",
       "      <td>Priyansh Arya</td>\n",
       "      <td>Indian</td>\n",
       "      <td>Batter</td>\n",
       "      <td>2000000</td>\n",
       "    </tr>\n",
       "    <tr>\n",
       "      <th>1</th>\n",
       "      <td>Rohan Kunnummal</td>\n",
       "      <td>Indian</td>\n",
       "      <td>Batter</td>\n",
       "      <td>2000000</td>\n",
       "    </tr>\n",
       "    <tr>\n",
       "      <th>2</th>\n",
       "      <td>Manan Vohra</td>\n",
       "      <td>Indian</td>\n",
       "      <td>Batter</td>\n",
       "      <td>2000000</td>\n",
       "    </tr>\n",
       "    <tr>\n",
       "      <th>3</th>\n",
       "      <td>Raj Angad Bawa</td>\n",
       "      <td>Indian</td>\n",
       "      <td>All-Rounder</td>\n",
       "      <td>2000000</td>\n",
       "    </tr>\n",
       "    <tr>\n",
       "      <th>4</th>\n",
       "      <td>Sarfaraz Khan</td>\n",
       "      <td>Indian</td>\n",
       "      <td>All-Rounder</td>\n",
       "      <td>2000000</td>\n",
       "    </tr>\n",
       "    <tr>\n",
       "      <th>...</th>\n",
       "      <td>...</td>\n",
       "      <td>...</td>\n",
       "      <td>...</td>\n",
       "      <td>...</td>\n",
       "    </tr>\n",
       "    <tr>\n",
       "      <th>253</th>\n",
       "      <td>Jalaj Saxena</td>\n",
       "      <td>Indian</td>\n",
       "      <td>All-Rounder</td>\n",
       "      <td>4000000</td>\n",
       "    </tr>\n",
       "    <tr>\n",
       "      <th>255</th>\n",
       "      <td>Kamlesh Nagarkoti</td>\n",
       "      <td>Indian</td>\n",
       "      <td>All-Rounder</td>\n",
       "      <td>3000000</td>\n",
       "    </tr>\n",
       "    <tr>\n",
       "      <th>256</th>\n",
       "      <td>Basil Thampi</td>\n",
       "      <td>Indian</td>\n",
       "      <td>Bowler</td>\n",
       "      <td>3000000</td>\n",
       "    </tr>\n",
       "    <tr>\n",
       "      <th>257</th>\n",
       "      <td>Lalit Yadav</td>\n",
       "      <td>Indian</td>\n",
       "      <td>Bowler</td>\n",
       "      <td>3000000</td>\n",
       "    </tr>\n",
       "    <tr>\n",
       "      <th>258</th>\n",
       "      <td>S Midhun</td>\n",
       "      <td>Indian</td>\n",
       "      <td>Bowler</td>\n",
       "      <td>3000000</td>\n",
       "    </tr>\n",
       "  </tbody>\n",
       "</table>\n",
       "<p>174 rows × 4 columns</p>\n",
       "</div>"
      ],
      "text/plain": [
       "                PLAYER NATIONALITY         TYPE  BASE PRICE\n",
       "0        Priyansh Arya      Indian       Batter     2000000\n",
       "1      Rohan Kunnummal      Indian       Batter     2000000\n",
       "2          Manan Vohra      Indian       Batter     2000000\n",
       "3       Raj Angad Bawa      Indian  All-Rounder     2000000\n",
       "4        Sarfaraz Khan      Indian  All-Rounder     2000000\n",
       "..                 ...         ...          ...         ...\n",
       "253       Jalaj Saxena      Indian  All-Rounder     4000000\n",
       "255  Kamlesh Nagarkoti      Indian  All-Rounder     3000000\n",
       "256       Basil Thampi      Indian       Bowler     3000000\n",
       "257        Lalit Yadav      Indian       Bowler     3000000\n",
       "258           S Midhun      Indian       Bowler     3000000\n",
       "\n",
       "[174 rows x 4 columns]"
      ]
     },
     "execution_count": 94,
     "metadata": {},
     "output_type": "execute_result"
    }
   ],
   "source": [
    "total_unsold_indian"
   ]
  },
  {
   "cell_type": "code",
   "execution_count": 95,
   "id": "18df7b8e",
   "metadata": {},
   "outputs": [],
   "source": [
    "total_unsold_indian_count=total_unsold_indian[\"PLAYER\"].count()"
   ]
  },
  {
   "cell_type": "code",
   "execution_count": 96,
   "id": "ba4dd47f",
   "metadata": {},
   "outputs": [
    {
     "name": "stdout",
     "output_type": "stream",
     "text": [
      "Total 174 Indian Player Unsold\n"
     ]
    }
   ],
   "source": [
    "print(f\"Total {total_unsold_indian_count} Indian Player Unsold\")"
   ]
  },
  {
   "cell_type": "markdown",
   "id": "be085189",
   "metadata": {},
   "source": [
    "### Total Unsold Overseas Player In Auction."
   ]
  },
  {
   "cell_type": "code",
   "execution_count": 97,
   "id": "4b57716f",
   "metadata": {},
   "outputs": [],
   "source": [
    "total_unsold_not_indian=data1[data1[\"NATIONALITY\"]!=\"Indian\"]"
   ]
  },
  {
   "cell_type": "code",
   "execution_count": 98,
   "id": "eb1df3a6",
   "metadata": {},
   "outputs": [
    {
     "data": {
      "text/html": [
       "<div>\n",
       "<style scoped>\n",
       "    .dataframe tbody tr th:only-of-type {\n",
       "        vertical-align: middle;\n",
       "    }\n",
       "\n",
       "    .dataframe tbody tr th {\n",
       "        vertical-align: top;\n",
       "    }\n",
       "\n",
       "    .dataframe thead th {\n",
       "        text-align: right;\n",
       "    }\n",
       "</style>\n",
       "<table border=\"1\" class=\"dataframe\">\n",
       "  <thead>\n",
       "    <tr style=\"text-align: right;\">\n",
       "      <th></th>\n",
       "      <th>PLAYER</th>\n",
       "      <th>NATIONALITY</th>\n",
       "      <th>TYPE</th>\n",
       "      <th>BASE PRICE</th>\n",
       "    </tr>\n",
       "  </thead>\n",
       "  <tbody>\n",
       "    <tr>\n",
       "      <th>163</th>\n",
       "      <td>Jake Fraser-Mcgurk</td>\n",
       "      <td>Overseas</td>\n",
       "      <td>All-Rounder</td>\n",
       "      <td>2000000</td>\n",
       "    </tr>\n",
       "    <tr>\n",
       "      <th>164</th>\n",
       "      <td>Duan Jansen</td>\n",
       "      <td>Overseas</td>\n",
       "      <td>All-Rounder</td>\n",
       "      <td>2000000</td>\n",
       "    </tr>\n",
       "    <tr>\n",
       "      <th>165</th>\n",
       "      <td>Prenelan Subrayen</td>\n",
       "      <td>Overseas</td>\n",
       "      <td>All-Rounder</td>\n",
       "      <td>2000000</td>\n",
       "    </tr>\n",
       "    <tr>\n",
       "      <th>166</th>\n",
       "      <td>William Salzmann</td>\n",
       "      <td>Overseas</td>\n",
       "      <td>Wicket-Keeper</td>\n",
       "      <td>2000000</td>\n",
       "    </tr>\n",
       "    <tr>\n",
       "      <th>167</th>\n",
       "      <td>Ottneil Baartman</td>\n",
       "      <td>Overseas</td>\n",
       "      <td>Bowler</td>\n",
       "      <td>2000000</td>\n",
       "    </tr>\n",
       "    <tr>\n",
       "      <th>...</th>\n",
       "      <td>...</td>\n",
       "      <td>...</td>\n",
       "      <td>...</td>\n",
       "      <td>...</td>\n",
       "    </tr>\n",
       "    <tr>\n",
       "      <th>250</th>\n",
       "      <td>Lizaad Williams</td>\n",
       "      <td>Overseas</td>\n",
       "      <td>Bowler</td>\n",
       "      <td>5000000</td>\n",
       "    </tr>\n",
       "    <tr>\n",
       "      <th>251</th>\n",
       "      <td>Luke Wood</td>\n",
       "      <td>Overseas</td>\n",
       "      <td>Bowler</td>\n",
       "      <td>5000000</td>\n",
       "    </tr>\n",
       "    <tr>\n",
       "      <th>252</th>\n",
       "      <td>Benny Howell</td>\n",
       "      <td>Overseas</td>\n",
       "      <td>All-Rounder</td>\n",
       "      <td>4000000</td>\n",
       "    </tr>\n",
       "    <tr>\n",
       "      <th>254</th>\n",
       "      <td>Corbin Bosch</td>\n",
       "      <td>Overseas</td>\n",
       "      <td>All-Rounder</td>\n",
       "      <td>3000000</td>\n",
       "    </tr>\n",
       "    <tr>\n",
       "      <th>259</th>\n",
       "      <td>Izharulhuq Naveed</td>\n",
       "      <td>Overseas</td>\n",
       "      <td>Bowler</td>\n",
       "      <td>3000000</td>\n",
       "    </tr>\n",
       "  </tbody>\n",
       "</table>\n",
       "<p>86 rows × 4 columns</p>\n",
       "</div>"
      ],
      "text/plain": [
       "                 PLAYER NATIONALITY           TYPE  BASE PRICE\n",
       "163  Jake Fraser-Mcgurk    Overseas    All-Rounder     2000000\n",
       "164         Duan Jansen    Overseas    All-Rounder     2000000\n",
       "165   Prenelan Subrayen    Overseas    All-Rounder     2000000\n",
       "166    William Salzmann    Overseas  Wicket-Keeper     2000000\n",
       "167    Ottneil Baartman    Overseas         Bowler     2000000\n",
       "..                  ...         ...            ...         ...\n",
       "250     Lizaad Williams    Overseas         Bowler     5000000\n",
       "251           Luke Wood    Overseas         Bowler     5000000\n",
       "252        Benny Howell    Overseas    All-Rounder     4000000\n",
       "254        Corbin Bosch    Overseas    All-Rounder     3000000\n",
       "259   Izharulhuq Naveed    Overseas         Bowler     3000000\n",
       "\n",
       "[86 rows x 4 columns]"
      ]
     },
     "execution_count": 98,
     "metadata": {},
     "output_type": "execute_result"
    }
   ],
   "source": [
    "total_unsold_not_indian"
   ]
  },
  {
   "cell_type": "code",
   "execution_count": 99,
   "id": "26f6258c",
   "metadata": {},
   "outputs": [],
   "source": [
    "total_unsold_not_indian_count=total_unsold_not_indian[\"PLAYER\"].count()"
   ]
  },
  {
   "cell_type": "code",
   "execution_count": 100,
   "id": "e86a6f58",
   "metadata": {},
   "outputs": [
    {
     "data": {
      "text/html": [
       "<div>\n",
       "<style scoped>\n",
       "    .dataframe tbody tr th:only-of-type {\n",
       "        vertical-align: middle;\n",
       "    }\n",
       "\n",
       "    .dataframe tbody tr th {\n",
       "        vertical-align: top;\n",
       "    }\n",
       "\n",
       "    .dataframe thead th {\n",
       "        text-align: right;\n",
       "    }\n",
       "</style>\n",
       "<table border=\"1\" class=\"dataframe\">\n",
       "  <thead>\n",
       "    <tr style=\"text-align: right;\">\n",
       "      <th></th>\n",
       "      <th>PLAYER</th>\n",
       "      <th>NATIONALITY</th>\n",
       "      <th>TYPE</th>\n",
       "      <th>BASE PRICE</th>\n",
       "    </tr>\n",
       "  </thead>\n",
       "  <tbody>\n",
       "    <tr>\n",
       "      <th>163</th>\n",
       "      <td>Jake Fraser-Mcgurk</td>\n",
       "      <td>Overseas</td>\n",
       "      <td>All-Rounder</td>\n",
       "      <td>2000000</td>\n",
       "    </tr>\n",
       "    <tr>\n",
       "      <th>164</th>\n",
       "      <td>Duan Jansen</td>\n",
       "      <td>Overseas</td>\n",
       "      <td>All-Rounder</td>\n",
       "      <td>2000000</td>\n",
       "    </tr>\n",
       "    <tr>\n",
       "      <th>165</th>\n",
       "      <td>Prenelan Subrayen</td>\n",
       "      <td>Overseas</td>\n",
       "      <td>All-Rounder</td>\n",
       "      <td>2000000</td>\n",
       "    </tr>\n",
       "    <tr>\n",
       "      <th>166</th>\n",
       "      <td>William Salzmann</td>\n",
       "      <td>Overseas</td>\n",
       "      <td>Wicket-Keeper</td>\n",
       "      <td>2000000</td>\n",
       "    </tr>\n",
       "    <tr>\n",
       "      <th>167</th>\n",
       "      <td>Ottneil Baartman</td>\n",
       "      <td>Overseas</td>\n",
       "      <td>Bowler</td>\n",
       "      <td>2000000</td>\n",
       "    </tr>\n",
       "    <tr>\n",
       "      <th>...</th>\n",
       "      <td>...</td>\n",
       "      <td>...</td>\n",
       "      <td>...</td>\n",
       "      <td>...</td>\n",
       "    </tr>\n",
       "    <tr>\n",
       "      <th>250</th>\n",
       "      <td>Lizaad Williams</td>\n",
       "      <td>Overseas</td>\n",
       "      <td>Bowler</td>\n",
       "      <td>5000000</td>\n",
       "    </tr>\n",
       "    <tr>\n",
       "      <th>251</th>\n",
       "      <td>Luke Wood</td>\n",
       "      <td>Overseas</td>\n",
       "      <td>Bowler</td>\n",
       "      <td>5000000</td>\n",
       "    </tr>\n",
       "    <tr>\n",
       "      <th>252</th>\n",
       "      <td>Benny Howell</td>\n",
       "      <td>Overseas</td>\n",
       "      <td>All-Rounder</td>\n",
       "      <td>4000000</td>\n",
       "    </tr>\n",
       "    <tr>\n",
       "      <th>254</th>\n",
       "      <td>Corbin Bosch</td>\n",
       "      <td>Overseas</td>\n",
       "      <td>All-Rounder</td>\n",
       "      <td>3000000</td>\n",
       "    </tr>\n",
       "    <tr>\n",
       "      <th>259</th>\n",
       "      <td>Izharulhuq Naveed</td>\n",
       "      <td>Overseas</td>\n",
       "      <td>Bowler</td>\n",
       "      <td>3000000</td>\n",
       "    </tr>\n",
       "  </tbody>\n",
       "</table>\n",
       "<p>86 rows × 4 columns</p>\n",
       "</div>"
      ],
      "text/plain": [
       "                 PLAYER NATIONALITY           TYPE  BASE PRICE\n",
       "163  Jake Fraser-Mcgurk    Overseas    All-Rounder     2000000\n",
       "164         Duan Jansen    Overseas    All-Rounder     2000000\n",
       "165   Prenelan Subrayen    Overseas    All-Rounder     2000000\n",
       "166    William Salzmann    Overseas  Wicket-Keeper     2000000\n",
       "167    Ottneil Baartman    Overseas         Bowler     2000000\n",
       "..                  ...         ...            ...         ...\n",
       "250     Lizaad Williams    Overseas         Bowler     5000000\n",
       "251           Luke Wood    Overseas         Bowler     5000000\n",
       "252        Benny Howell    Overseas    All-Rounder     4000000\n",
       "254        Corbin Bosch    Overseas    All-Rounder     3000000\n",
       "259   Izharulhuq Naveed    Overseas         Bowler     3000000\n",
       "\n",
       "[86 rows x 4 columns]"
      ]
     },
     "execution_count": 100,
     "metadata": {},
     "output_type": "execute_result"
    }
   ],
   "source": [
    "total_unsold_not_indian"
   ]
  },
  {
   "cell_type": "code",
   "execution_count": 101,
   "id": "272d36fd",
   "metadata": {},
   "outputs": [
    {
     "data": {
      "text/html": [
       "<div>\n",
       "<style scoped>\n",
       "    .dataframe tbody tr th:only-of-type {\n",
       "        vertical-align: middle;\n",
       "    }\n",
       "\n",
       "    .dataframe tbody tr th {\n",
       "        vertical-align: top;\n",
       "    }\n",
       "\n",
       "    .dataframe thead th {\n",
       "        text-align: right;\n",
       "    }\n",
       "</style>\n",
       "<table border=\"1\" class=\"dataframe\">\n",
       "  <thead>\n",
       "    <tr style=\"text-align: right;\">\n",
       "      <th></th>\n",
       "      <th>PLAYER</th>\n",
       "      <th>NATIONALITY</th>\n",
       "      <th>TYPE</th>\n",
       "      <th>BASE PRICE</th>\n",
       "    </tr>\n",
       "  </thead>\n",
       "  <tbody>\n",
       "    <tr>\n",
       "      <th>163</th>\n",
       "      <td>Jake Fraser-Mcgurk</td>\n",
       "      <td>Overseas</td>\n",
       "      <td>All-Rounder</td>\n",
       "      <td>2000000</td>\n",
       "    </tr>\n",
       "    <tr>\n",
       "      <th>164</th>\n",
       "      <td>Duan Jansen</td>\n",
       "      <td>Overseas</td>\n",
       "      <td>All-Rounder</td>\n",
       "      <td>2000000</td>\n",
       "    </tr>\n",
       "    <tr>\n",
       "      <th>165</th>\n",
       "      <td>Prenelan Subrayen</td>\n",
       "      <td>Overseas</td>\n",
       "      <td>All-Rounder</td>\n",
       "      <td>2000000</td>\n",
       "    </tr>\n",
       "    <tr>\n",
       "      <th>166</th>\n",
       "      <td>William Salzmann</td>\n",
       "      <td>Overseas</td>\n",
       "      <td>Wicket-Keeper</td>\n",
       "      <td>2000000</td>\n",
       "    </tr>\n",
       "    <tr>\n",
       "      <th>167</th>\n",
       "      <td>Ottneil Baartman</td>\n",
       "      <td>Overseas</td>\n",
       "      <td>Bowler</td>\n",
       "      <td>2000000</td>\n",
       "    </tr>\n",
       "    <tr>\n",
       "      <th>...</th>\n",
       "      <td>...</td>\n",
       "      <td>...</td>\n",
       "      <td>...</td>\n",
       "      <td>...</td>\n",
       "    </tr>\n",
       "    <tr>\n",
       "      <th>250</th>\n",
       "      <td>Lizaad Williams</td>\n",
       "      <td>Overseas</td>\n",
       "      <td>Bowler</td>\n",
       "      <td>5000000</td>\n",
       "    </tr>\n",
       "    <tr>\n",
       "      <th>251</th>\n",
       "      <td>Luke Wood</td>\n",
       "      <td>Overseas</td>\n",
       "      <td>Bowler</td>\n",
       "      <td>5000000</td>\n",
       "    </tr>\n",
       "    <tr>\n",
       "      <th>252</th>\n",
       "      <td>Benny Howell</td>\n",
       "      <td>Overseas</td>\n",
       "      <td>All-Rounder</td>\n",
       "      <td>4000000</td>\n",
       "    </tr>\n",
       "    <tr>\n",
       "      <th>254</th>\n",
       "      <td>Corbin Bosch</td>\n",
       "      <td>Overseas</td>\n",
       "      <td>All-Rounder</td>\n",
       "      <td>3000000</td>\n",
       "    </tr>\n",
       "    <tr>\n",
       "      <th>259</th>\n",
       "      <td>Izharulhuq Naveed</td>\n",
       "      <td>Overseas</td>\n",
       "      <td>Bowler</td>\n",
       "      <td>3000000</td>\n",
       "    </tr>\n",
       "  </tbody>\n",
       "</table>\n",
       "<p>86 rows × 4 columns</p>\n",
       "</div>"
      ],
      "text/plain": [
       "                 PLAYER NATIONALITY           TYPE  BASE PRICE\n",
       "163  Jake Fraser-Mcgurk    Overseas    All-Rounder     2000000\n",
       "164         Duan Jansen    Overseas    All-Rounder     2000000\n",
       "165   Prenelan Subrayen    Overseas    All-Rounder     2000000\n",
       "166    William Salzmann    Overseas  Wicket-Keeper     2000000\n",
       "167    Ottneil Baartman    Overseas         Bowler     2000000\n",
       "..                  ...         ...            ...         ...\n",
       "250     Lizaad Williams    Overseas         Bowler     5000000\n",
       "251           Luke Wood    Overseas         Bowler     5000000\n",
       "252        Benny Howell    Overseas    All-Rounder     4000000\n",
       "254        Corbin Bosch    Overseas    All-Rounder     3000000\n",
       "259   Izharulhuq Naveed    Overseas         Bowler     3000000\n",
       "\n",
       "[86 rows x 4 columns]"
      ]
     },
     "execution_count": 101,
     "metadata": {},
     "output_type": "execute_result"
    }
   ],
   "source": [
    "total_unsold_not_indian_count=total_unsold_not_indian[\"PLAYER\"].count()\n",
    "total_unsold_not_indian"
   ]
  },
  {
   "cell_type": "code",
   "execution_count": 102,
   "id": "093fcec3",
   "metadata": {},
   "outputs": [
    {
     "name": "stdout",
     "output_type": "stream",
     "text": [
      "Total 86 Overseas Player Unsold\n"
     ]
    }
   ],
   "source": [
    "print(f\"Total {total_unsold_not_indian_count} Overseas Player Unsold\")"
   ]
  },
  {
   "cell_type": "markdown",
   "id": "8f888d62",
   "metadata": {},
   "source": [
    "### Unsold Batters In Auction."
   ]
  },
  {
   "cell_type": "code",
   "execution_count": 103,
   "id": "43e1e98b",
   "metadata": {},
   "outputs": [],
   "source": [
    "batter_unsold=data1[data1[\"TYPE\"]==\"Batter\"]"
   ]
  },
  {
   "cell_type": "code",
   "execution_count": 104,
   "id": "17bc0ba0",
   "metadata": {},
   "outputs": [
    {
     "data": {
      "text/html": [
       "<div>\n",
       "<style scoped>\n",
       "    .dataframe tbody tr th:only-of-type {\n",
       "        vertical-align: middle;\n",
       "    }\n",
       "\n",
       "    .dataframe tbody tr th {\n",
       "        vertical-align: top;\n",
       "    }\n",
       "\n",
       "    .dataframe thead th {\n",
       "        text-align: right;\n",
       "    }\n",
       "</style>\n",
       "<table border=\"1\" class=\"dataframe\">\n",
       "  <thead>\n",
       "    <tr style=\"text-align: right;\">\n",
       "      <th></th>\n",
       "      <th>PLAYER</th>\n",
       "      <th>NATIONALITY</th>\n",
       "      <th>TYPE</th>\n",
       "      <th>BASE PRICE</th>\n",
       "    </tr>\n",
       "  </thead>\n",
       "  <tbody>\n",
       "    <tr>\n",
       "      <th>0</th>\n",
       "      <td>Priyansh Arya</td>\n",
       "      <td>Indian</td>\n",
       "      <td>Batter</td>\n",
       "      <td>2000000</td>\n",
       "    </tr>\n",
       "    <tr>\n",
       "      <th>1</th>\n",
       "      <td>Rohan Kunnummal</td>\n",
       "      <td>Indian</td>\n",
       "      <td>Batter</td>\n",
       "      <td>2000000</td>\n",
       "    </tr>\n",
       "    <tr>\n",
       "      <th>2</th>\n",
       "      <td>Manan Vohra</td>\n",
       "      <td>Indian</td>\n",
       "      <td>Batter</td>\n",
       "      <td>2000000</td>\n",
       "    </tr>\n",
       "    <tr>\n",
       "      <th>15</th>\n",
       "      <td>Dinesh Bana</td>\n",
       "      <td>Indian</td>\n",
       "      <td>Batter</td>\n",
       "      <td>2000000</td>\n",
       "    </tr>\n",
       "    <tr>\n",
       "      <th>16</th>\n",
       "      <td>Rajat Dey</td>\n",
       "      <td>Indian</td>\n",
       "      <td>Batter</td>\n",
       "      <td>2000000</td>\n",
       "    </tr>\n",
       "    <tr>\n",
       "      <th>17</th>\n",
       "      <td>Abhimanyu Easwaran</td>\n",
       "      <td>Indian</td>\n",
       "      <td>Batter</td>\n",
       "      <td>2000000</td>\n",
       "    </tr>\n",
       "    <tr>\n",
       "      <th>18</th>\n",
       "      <td>Rithik Easwaran</td>\n",
       "      <td>Indian</td>\n",
       "      <td>Batter</td>\n",
       "      <td>2000000</td>\n",
       "    </tr>\n",
       "    <tr>\n",
       "      <th>19</th>\n",
       "      <td>Chirag Gandhi</td>\n",
       "      <td>Indian</td>\n",
       "      <td>Batter</td>\n",
       "      <td>2000000</td>\n",
       "    </tr>\n",
       "    <tr>\n",
       "      <th>20</th>\n",
       "      <td>Nikhil Gangta</td>\n",
       "      <td>Indian</td>\n",
       "      <td>Batter</td>\n",
       "      <td>2000000</td>\n",
       "    </tr>\n",
       "    <tr>\n",
       "      <th>21</th>\n",
       "      <td>Sudip Gharami</td>\n",
       "      <td>Indian</td>\n",
       "      <td>Batter</td>\n",
       "      <td>2000000</td>\n",
       "    </tr>\n",
       "    <tr>\n",
       "      <th>22</th>\n",
       "      <td>Ansh Gosai</td>\n",
       "      <td>Indian</td>\n",
       "      <td>Batter</td>\n",
       "      <td>2000000</td>\n",
       "    </tr>\n",
       "    <tr>\n",
       "      <th>23</th>\n",
       "      <td>Azim Kazi</td>\n",
       "      <td>Indian</td>\n",
       "      <td>Batter</td>\n",
       "      <td>2000000</td>\n",
       "    </tr>\n",
       "    <tr>\n",
       "      <th>24</th>\n",
       "      <td>Amandeep Khare</td>\n",
       "      <td>Indian</td>\n",
       "      <td>Batter</td>\n",
       "      <td>2000000</td>\n",
       "    </tr>\n",
       "    <tr>\n",
       "      <th>25</th>\n",
       "      <td>Ankit Kumar</td>\n",
       "      <td>Indian</td>\n",
       "      <td>Batter</td>\n",
       "      <td>2000000</td>\n",
       "    </tr>\n",
       "    <tr>\n",
       "      <th>26</th>\n",
       "      <td>Bhupen Lalwani</td>\n",
       "      <td>Indian</td>\n",
       "      <td>Batter</td>\n",
       "      <td>2000000</td>\n",
       "    </tr>\n",
       "    <tr>\n",
       "      <th>27</th>\n",
       "      <td>Pukhraj Mann</td>\n",
       "      <td>Indian</td>\n",
       "      <td>Batter</td>\n",
       "      <td>2000000</td>\n",
       "    </tr>\n",
       "    <tr>\n",
       "      <th>28</th>\n",
       "      <td>Tanmay Mishra</td>\n",
       "      <td>Indian</td>\n",
       "      <td>Batter</td>\n",
       "      <td>2000000</td>\n",
       "    </tr>\n",
       "    <tr>\n",
       "      <th>29</th>\n",
       "      <td>Salman Nizar</td>\n",
       "      <td>Indian</td>\n",
       "      <td>Batter</td>\n",
       "      <td>2000000</td>\n",
       "    </tr>\n",
       "    <tr>\n",
       "      <th>30</th>\n",
       "      <td>Priyank Panchal</td>\n",
       "      <td>Indian</td>\n",
       "      <td>Batter</td>\n",
       "      <td>2000000</td>\n",
       "    </tr>\n",
       "    <tr>\n",
       "      <th>31</th>\n",
       "      <td>Akshat Raghuwanshi</td>\n",
       "      <td>Indian</td>\n",
       "      <td>Batter</td>\n",
       "      <td>2000000</td>\n",
       "    </tr>\n",
       "    <tr>\n",
       "      <th>32</th>\n",
       "      <td>Ekant Sen</td>\n",
       "      <td>Indian</td>\n",
       "      <td>Batter</td>\n",
       "      <td>2000000</td>\n",
       "    </tr>\n",
       "    <tr>\n",
       "      <th>33</th>\n",
       "      <td>Subhranshu Senapati</td>\n",
       "      <td>Indian</td>\n",
       "      <td>Batter</td>\n",
       "      <td>2000000</td>\n",
       "    </tr>\n",
       "    <tr>\n",
       "      <th>34</th>\n",
       "      <td>Naushad Shaikh</td>\n",
       "      <td>Indian</td>\n",
       "      <td>Batter</td>\n",
       "      <td>2000000</td>\n",
       "    </tr>\n",
       "    <tr>\n",
       "      <th>35</th>\n",
       "      <td>Dhruv Shorey</td>\n",
       "      <td>Indian</td>\n",
       "      <td>Batter</td>\n",
       "      <td>2000000</td>\n",
       "    </tr>\n",
       "    <tr>\n",
       "      <th>36</th>\n",
       "      <td>Himmat Singh</td>\n",
       "      <td>Indian</td>\n",
       "      <td>Batter</td>\n",
       "      <td>2000000</td>\n",
       "    </tr>\n",
       "    <tr>\n",
       "      <th>37</th>\n",
       "      <td>Virat Singh</td>\n",
       "      <td>Indian</td>\n",
       "      <td>Batter</td>\n",
       "      <td>2000000</td>\n",
       "    </tr>\n",
       "    <tr>\n",
       "      <th>38</th>\n",
       "      <td>Sumeet Verma</td>\n",
       "      <td>Indian</td>\n",
       "      <td>Batter</td>\n",
       "      <td>2000000</td>\n",
       "    </tr>\n",
       "    <tr>\n",
       "      <th>174</th>\n",
       "      <td>Steve Smith</td>\n",
       "      <td>Overseas</td>\n",
       "      <td>Batter</td>\n",
       "      <td>20000000</td>\n",
       "    </tr>\n",
       "    <tr>\n",
       "      <th>178</th>\n",
       "      <td>Rassie Van Der Dussen</td>\n",
       "      <td>Overseas</td>\n",
       "      <td>Batter</td>\n",
       "      <td>20000000</td>\n",
       "    </tr>\n",
       "    <tr>\n",
       "      <th>179</th>\n",
       "      <td>James Vince</td>\n",
       "      <td>Overseas</td>\n",
       "      <td>Batter</td>\n",
       "      <td>20000000</td>\n",
       "    </tr>\n",
       "    <tr>\n",
       "      <th>184</th>\n",
       "      <td>Colin Munro</td>\n",
       "      <td>Overseas</td>\n",
       "      <td>Batter</td>\n",
       "      <td>15000000</td>\n",
       "    </tr>\n",
       "    <tr>\n",
       "      <th>201</th>\n",
       "      <td>Finn Allen</td>\n",
       "      <td>Overseas</td>\n",
       "      <td>Batter</td>\n",
       "      <td>7500000</td>\n",
       "    </tr>\n",
       "    <tr>\n",
       "      <th>209</th>\n",
       "      <td>Karun Nair</td>\n",
       "      <td>Indian</td>\n",
       "      <td>Batter</td>\n",
       "      <td>5000000</td>\n",
       "    </tr>\n",
       "    <tr>\n",
       "      <th>214</th>\n",
       "      <td>Alick Athanaze</td>\n",
       "      <td>Overseas</td>\n",
       "      <td>Batter</td>\n",
       "      <td>5000000</td>\n",
       "    </tr>\n",
       "    <tr>\n",
       "      <th>215</th>\n",
       "      <td>Mark Chapman</td>\n",
       "      <td>Overseas</td>\n",
       "      <td>Batter</td>\n",
       "      <td>5000000</td>\n",
       "    </tr>\n",
       "    <tr>\n",
       "      <th>216</th>\n",
       "      <td>Samuel Hain</td>\n",
       "      <td>Overseas</td>\n",
       "      <td>Batter</td>\n",
       "      <td>5000000</td>\n",
       "    </tr>\n",
       "    <tr>\n",
       "      <th>217</th>\n",
       "      <td>Reeza Hendricks</td>\n",
       "      <td>Overseas</td>\n",
       "      <td>Batter</td>\n",
       "      <td>5000000</td>\n",
       "    </tr>\n",
       "    <tr>\n",
       "      <th>218</th>\n",
       "      <td>Brandon King</td>\n",
       "      <td>Overseas</td>\n",
       "      <td>Batter</td>\n",
       "      <td>5000000</td>\n",
       "    </tr>\n",
       "    <tr>\n",
       "      <th>219</th>\n",
       "      <td>Ibrahim Zadran</td>\n",
       "      <td>Overseas</td>\n",
       "      <td>Batter</td>\n",
       "      <td>5000000</td>\n",
       "    </tr>\n",
       "    <tr>\n",
       "      <th>220</th>\n",
       "      <td>Najibullah Zadran</td>\n",
       "      <td>Overseas</td>\n",
       "      <td>Batter</td>\n",
       "      <td>5000000</td>\n",
       "    </tr>\n",
       "  </tbody>\n",
       "</table>\n",
       "</div>"
      ],
      "text/plain": [
       "                    PLAYER NATIONALITY    TYPE  BASE PRICE\n",
       "0            Priyansh Arya      Indian  Batter     2000000\n",
       "1          Rohan Kunnummal      Indian  Batter     2000000\n",
       "2              Manan Vohra      Indian  Batter     2000000\n",
       "15             Dinesh Bana      Indian  Batter     2000000\n",
       "16               Rajat Dey      Indian  Batter     2000000\n",
       "17      Abhimanyu Easwaran      Indian  Batter     2000000\n",
       "18         Rithik Easwaran      Indian  Batter     2000000\n",
       "19           Chirag Gandhi      Indian  Batter     2000000\n",
       "20           Nikhil Gangta      Indian  Batter     2000000\n",
       "21           Sudip Gharami      Indian  Batter     2000000\n",
       "22              Ansh Gosai      Indian  Batter     2000000\n",
       "23               Azim Kazi      Indian  Batter     2000000\n",
       "24          Amandeep Khare      Indian  Batter     2000000\n",
       "25             Ankit Kumar      Indian  Batter     2000000\n",
       "26          Bhupen Lalwani      Indian  Batter     2000000\n",
       "27            Pukhraj Mann      Indian  Batter     2000000\n",
       "28           Tanmay Mishra      Indian  Batter     2000000\n",
       "29            Salman Nizar      Indian  Batter     2000000\n",
       "30         Priyank Panchal      Indian  Batter     2000000\n",
       "31      Akshat Raghuwanshi      Indian  Batter     2000000\n",
       "32               Ekant Sen      Indian  Batter     2000000\n",
       "33     Subhranshu Senapati      Indian  Batter     2000000\n",
       "34          Naushad Shaikh      Indian  Batter     2000000\n",
       "35            Dhruv Shorey      Indian  Batter     2000000\n",
       "36            Himmat Singh      Indian  Batter     2000000\n",
       "37             Virat Singh      Indian  Batter     2000000\n",
       "38            Sumeet Verma      Indian  Batter     2000000\n",
       "174            Steve Smith    Overseas  Batter    20000000\n",
       "178  Rassie Van Der Dussen    Overseas  Batter    20000000\n",
       "179            James Vince    Overseas  Batter    20000000\n",
       "184            Colin Munro    Overseas  Batter    15000000\n",
       "201             Finn Allen    Overseas  Batter     7500000\n",
       "209             Karun Nair      Indian  Batter     5000000\n",
       "214         Alick Athanaze    Overseas  Batter     5000000\n",
       "215           Mark Chapman    Overseas  Batter     5000000\n",
       "216            Samuel Hain    Overseas  Batter     5000000\n",
       "217        Reeza Hendricks    Overseas  Batter     5000000\n",
       "218           Brandon King    Overseas  Batter     5000000\n",
       "219         Ibrahim Zadran    Overseas  Batter     5000000\n",
       "220      Najibullah Zadran    Overseas  Batter     5000000"
      ]
     },
     "execution_count": 104,
     "metadata": {},
     "output_type": "execute_result"
    }
   ],
   "source": [
    "batter_unsold"
   ]
  },
  {
   "cell_type": "code",
   "execution_count": 105,
   "id": "7c8c73fd",
   "metadata": {},
   "outputs": [
    {
     "data": {
      "text/plain": [
       "array(['Batter', 'All-Rounder', 'Wicket-Keeper', 'Bowler'], dtype=object)"
      ]
     },
     "execution_count": 105,
     "metadata": {},
     "output_type": "execute_result"
    }
   ],
   "source": [
    "data1[\"TYPE\"].unique()"
   ]
  },
  {
   "cell_type": "code",
   "execution_count": 106,
   "id": "a95a525b",
   "metadata": {},
   "outputs": [
    {
     "data": {
      "text/plain": [
       "40"
      ]
     },
     "execution_count": 106,
     "metadata": {},
     "output_type": "execute_result"
    }
   ],
   "source": [
    "batter_unsold[\"PLAYER\"].count()"
   ]
  },
  {
   "cell_type": "markdown",
   "id": "a37ce1c3",
   "metadata": {},
   "source": [
    "### Unsold Bowler In Auction."
   ]
  },
  {
   "cell_type": "code",
   "execution_count": 107,
   "id": "f8231890",
   "metadata": {},
   "outputs": [],
   "source": [
    "bowler_unsold=data1[data1[\"TYPE\"]==\"Bowler\"]"
   ]
  },
  {
   "cell_type": "code",
   "execution_count": 108,
   "id": "ba52a646",
   "metadata": {},
   "outputs": [
    {
     "data": {
      "text/html": [
       "<div>\n",
       "<style scoped>\n",
       "    .dataframe tbody tr th:only-of-type {\n",
       "        vertical-align: middle;\n",
       "    }\n",
       "\n",
       "    .dataframe tbody tr th {\n",
       "        vertical-align: top;\n",
       "    }\n",
       "\n",
       "    .dataframe thead th {\n",
       "        text-align: right;\n",
       "    }\n",
       "</style>\n",
       "<table border=\"1\" class=\"dataframe\">\n",
       "  <thead>\n",
       "    <tr style=\"text-align: right;\">\n",
       "      <th></th>\n",
       "      <th>PLAYER</th>\n",
       "      <th>NATIONALITY</th>\n",
       "      <th>TYPE</th>\n",
       "      <th>BASE PRICE</th>\n",
       "    </tr>\n",
       "  </thead>\n",
       "  <tbody>\n",
       "    <tr>\n",
       "      <th>10</th>\n",
       "      <td>Ishan Porel</td>\n",
       "      <td>Indian</td>\n",
       "      <td>Bowler</td>\n",
       "      <td>2000000</td>\n",
       "    </tr>\n",
       "    <tr>\n",
       "      <th>11</th>\n",
       "      <td>Kuldip Yadav</td>\n",
       "      <td>Indian</td>\n",
       "      <td>Bowler</td>\n",
       "      <td>2000000</td>\n",
       "    </tr>\n",
       "    <tr>\n",
       "      <th>12</th>\n",
       "      <td>Murgan Ashwin</td>\n",
       "      <td>Indian</td>\n",
       "      <td>Bowler</td>\n",
       "      <td>2000000</td>\n",
       "    </tr>\n",
       "    <tr>\n",
       "      <th>13</th>\n",
       "      <td>Pulkit Narang</td>\n",
       "      <td>Indian</td>\n",
       "      <td>Bowler</td>\n",
       "      <td>2000000</td>\n",
       "    </tr>\n",
       "    <tr>\n",
       "      <th>14</th>\n",
       "      <td>Shiva Singh</td>\n",
       "      <td>Indian</td>\n",
       "      <td>Bowler</td>\n",
       "      <td>2000000</td>\n",
       "    </tr>\n",
       "    <tr>\n",
       "      <th>...</th>\n",
       "      <td>...</td>\n",
       "      <td>...</td>\n",
       "      <td>...</td>\n",
       "      <td>...</td>\n",
       "    </tr>\n",
       "    <tr>\n",
       "      <th>251</th>\n",
       "      <td>Luke Wood</td>\n",
       "      <td>Overseas</td>\n",
       "      <td>Bowler</td>\n",
       "      <td>5000000</td>\n",
       "    </tr>\n",
       "    <tr>\n",
       "      <th>256</th>\n",
       "      <td>Basil Thampi</td>\n",
       "      <td>Indian</td>\n",
       "      <td>Bowler</td>\n",
       "      <td>3000000</td>\n",
       "    </tr>\n",
       "    <tr>\n",
       "      <th>257</th>\n",
       "      <td>Lalit Yadav</td>\n",
       "      <td>Indian</td>\n",
       "      <td>Bowler</td>\n",
       "      <td>3000000</td>\n",
       "    </tr>\n",
       "    <tr>\n",
       "      <th>258</th>\n",
       "      <td>S Midhun</td>\n",
       "      <td>Indian</td>\n",
       "      <td>Bowler</td>\n",
       "      <td>3000000</td>\n",
       "    </tr>\n",
       "    <tr>\n",
       "      <th>259</th>\n",
       "      <td>Izharulhuq Naveed</td>\n",
       "      <td>Overseas</td>\n",
       "      <td>Bowler</td>\n",
       "      <td>3000000</td>\n",
       "    </tr>\n",
       "  </tbody>\n",
       "</table>\n",
       "<p>102 rows × 4 columns</p>\n",
       "</div>"
      ],
      "text/plain": [
       "                PLAYER NATIONALITY    TYPE  BASE PRICE\n",
       "10         Ishan Porel      Indian  Bowler     2000000\n",
       "11        Kuldip Yadav      Indian  Bowler     2000000\n",
       "12       Murgan Ashwin      Indian  Bowler     2000000\n",
       "13       Pulkit Narang      Indian  Bowler     2000000\n",
       "14         Shiva Singh      Indian  Bowler     2000000\n",
       "..                 ...         ...     ...         ...\n",
       "251          Luke Wood    Overseas  Bowler     5000000\n",
       "256       Basil Thampi      Indian  Bowler     3000000\n",
       "257        Lalit Yadav      Indian  Bowler     3000000\n",
       "258           S Midhun      Indian  Bowler     3000000\n",
       "259  Izharulhuq Naveed    Overseas  Bowler     3000000\n",
       "\n",
       "[102 rows x 4 columns]"
      ]
     },
     "execution_count": 108,
     "metadata": {},
     "output_type": "execute_result"
    }
   ],
   "source": [
    "bowler_unsold"
   ]
  },
  {
   "cell_type": "code",
   "execution_count": 109,
   "id": "4ff7becc",
   "metadata": {},
   "outputs": [
    {
     "data": {
      "text/plain": [
       "102"
      ]
     },
     "execution_count": 109,
     "metadata": {},
     "output_type": "execute_result"
    }
   ],
   "source": [
    "bowler_unsold[\"PLAYER\"].count()"
   ]
  },
  {
   "cell_type": "markdown",
   "id": "6213bd0c",
   "metadata": {},
   "source": [
    "### Unsold All-Rounder In Auction."
   ]
  },
  {
   "cell_type": "code",
   "execution_count": 110,
   "id": "5deeb86f",
   "metadata": {},
   "outputs": [],
   "source": [
    "all_roubnder_unsold=data1[data1[\"TYPE\"]==\"All-Rounder\"]"
   ]
  },
  {
   "cell_type": "code",
   "execution_count": 111,
   "id": "0a79f0a6",
   "metadata": {},
   "outputs": [
    {
     "data": {
      "text/html": [
       "<div>\n",
       "<style scoped>\n",
       "    .dataframe tbody tr th:only-of-type {\n",
       "        vertical-align: middle;\n",
       "    }\n",
       "\n",
       "    .dataframe tbody tr th {\n",
       "        vertical-align: top;\n",
       "    }\n",
       "\n",
       "    .dataframe thead th {\n",
       "        text-align: right;\n",
       "    }\n",
       "</style>\n",
       "<table border=\"1\" class=\"dataframe\">\n",
       "  <thead>\n",
       "    <tr style=\"text-align: right;\">\n",
       "      <th></th>\n",
       "      <th>PLAYER</th>\n",
       "      <th>NATIONALITY</th>\n",
       "      <th>TYPE</th>\n",
       "      <th>BASE PRICE</th>\n",
       "    </tr>\n",
       "  </thead>\n",
       "  <tbody>\n",
       "    <tr>\n",
       "      <th>3</th>\n",
       "      <td>Raj Angad Bawa</td>\n",
       "      <td>Indian</td>\n",
       "      <td>All-Rounder</td>\n",
       "      <td>2000000</td>\n",
       "    </tr>\n",
       "    <tr>\n",
       "      <th>4</th>\n",
       "      <td>Sarfaraz Khan</td>\n",
       "      <td>Indian</td>\n",
       "      <td>All-Rounder</td>\n",
       "      <td>2000000</td>\n",
       "    </tr>\n",
       "    <tr>\n",
       "      <th>5</th>\n",
       "      <td>Vivrant Sharma</td>\n",
       "      <td>Indian</td>\n",
       "      <td>All-Rounder</td>\n",
       "      <td>2000000</td>\n",
       "    </tr>\n",
       "    <tr>\n",
       "      <th>6</th>\n",
       "      <td>Atit Sheth</td>\n",
       "      <td>Indian</td>\n",
       "      <td>All-Rounder</td>\n",
       "      <td>2000000</td>\n",
       "    </tr>\n",
       "    <tr>\n",
       "      <th>7</th>\n",
       "      <td>Hrithik Shokeen</td>\n",
       "      <td>Indian</td>\n",
       "      <td>All-Rounder</td>\n",
       "      <td>2000000</td>\n",
       "    </tr>\n",
       "    <tr>\n",
       "      <th>...</th>\n",
       "      <td>...</td>\n",
       "      <td>...</td>\n",
       "      <td>...</td>\n",
       "      <td>...</td>\n",
       "    </tr>\n",
       "    <tr>\n",
       "      <th>234</th>\n",
       "      <td>Hanuma Vihari</td>\n",
       "      <td>Indian</td>\n",
       "      <td>All-Rounder</td>\n",
       "      <td>5000000</td>\n",
       "    </tr>\n",
       "    <tr>\n",
       "      <th>252</th>\n",
       "      <td>Benny Howell</td>\n",
       "      <td>Overseas</td>\n",
       "      <td>All-Rounder</td>\n",
       "      <td>4000000</td>\n",
       "    </tr>\n",
       "    <tr>\n",
       "      <th>253</th>\n",
       "      <td>Jalaj Saxena</td>\n",
       "      <td>Indian</td>\n",
       "      <td>All-Rounder</td>\n",
       "      <td>4000000</td>\n",
       "    </tr>\n",
       "    <tr>\n",
       "      <th>254</th>\n",
       "      <td>Corbin Bosch</td>\n",
       "      <td>Overseas</td>\n",
       "      <td>All-Rounder</td>\n",
       "      <td>3000000</td>\n",
       "    </tr>\n",
       "    <tr>\n",
       "      <th>255</th>\n",
       "      <td>Kamlesh Nagarkoti</td>\n",
       "      <td>Indian</td>\n",
       "      <td>All-Rounder</td>\n",
       "      <td>3000000</td>\n",
       "    </tr>\n",
       "  </tbody>\n",
       "</table>\n",
       "<p>89 rows × 4 columns</p>\n",
       "</div>"
      ],
      "text/plain": [
       "                PLAYER NATIONALITY         TYPE  BASE PRICE\n",
       "3       Raj Angad Bawa      Indian  All-Rounder     2000000\n",
       "4        Sarfaraz Khan      Indian  All-Rounder     2000000\n",
       "5       Vivrant Sharma      Indian  All-Rounder     2000000\n",
       "6           Atit Sheth      Indian  All-Rounder     2000000\n",
       "7      Hrithik Shokeen      Indian  All-Rounder     2000000\n",
       "..                 ...         ...          ...         ...\n",
       "234      Hanuma Vihari      Indian  All-Rounder     5000000\n",
       "252       Benny Howell    Overseas  All-Rounder     4000000\n",
       "253       Jalaj Saxena      Indian  All-Rounder     4000000\n",
       "254       Corbin Bosch    Overseas  All-Rounder     3000000\n",
       "255  Kamlesh Nagarkoti      Indian  All-Rounder     3000000\n",
       "\n",
       "[89 rows x 4 columns]"
      ]
     },
     "execution_count": 111,
     "metadata": {},
     "output_type": "execute_result"
    }
   ],
   "source": [
    "all_roubnder_unsold"
   ]
  },
  {
   "cell_type": "code",
   "execution_count": 112,
   "id": "42bfbce7",
   "metadata": {},
   "outputs": [
    {
     "data": {
      "text/plain": [
       "89"
      ]
     },
     "execution_count": 112,
     "metadata": {},
     "output_type": "execute_result"
    }
   ],
   "source": [
    "all_roubnder_unsold[\"PLAYER\"].count()"
   ]
  },
  {
   "cell_type": "markdown",
   "id": "81096a4a",
   "metadata": {},
   "source": [
    "### Unsold Wicket-Keeper In Auction."
   ]
  },
  {
   "cell_type": "code",
   "execution_count": 113,
   "id": "da8e7a2c",
   "metadata": {},
   "outputs": [],
   "source": [
    "wicketkeeper_unsold=data1[data1[\"TYPE\"]==\"Wicket-Keeper\"]"
   ]
  },
  {
   "cell_type": "code",
   "execution_count": 114,
   "id": "1d2d55a2",
   "metadata": {},
   "outputs": [
    {
     "data": {
      "text/html": [
       "<div>\n",
       "<style scoped>\n",
       "    .dataframe tbody tr th:only-of-type {\n",
       "        vertical-align: middle;\n",
       "    }\n",
       "\n",
       "    .dataframe tbody tr th {\n",
       "        vertical-align: top;\n",
       "    }\n",
       "\n",
       "    .dataframe thead th {\n",
       "        text-align: right;\n",
       "    }\n",
       "</style>\n",
       "<table border=\"1\" class=\"dataframe\">\n",
       "  <thead>\n",
       "    <tr style=\"text-align: right;\">\n",
       "      <th></th>\n",
       "      <th>PLAYER</th>\n",
       "      <th>NATIONALITY</th>\n",
       "      <th>TYPE</th>\n",
       "      <th>BASE PRICE</th>\n",
       "    </tr>\n",
       "  </thead>\n",
       "  <tbody>\n",
       "    <tr>\n",
       "      <th>8</th>\n",
       "      <td>Urvil Patel</td>\n",
       "      <td>Indian</td>\n",
       "      <td>Wicket-Keeper</td>\n",
       "      <td>2000000</td>\n",
       "    </tr>\n",
       "    <tr>\n",
       "      <th>9</th>\n",
       "      <td>Vishnu Solanki</td>\n",
       "      <td>Indian</td>\n",
       "      <td>Wicket-Keeper</td>\n",
       "      <td>2000000</td>\n",
       "    </tr>\n",
       "    <tr>\n",
       "      <th>89</th>\n",
       "      <td>Mohit Ahlawat</td>\n",
       "      <td>Indian</td>\n",
       "      <td>Wicket-Keeper</td>\n",
       "      <td>2000000</td>\n",
       "    </tr>\n",
       "    <tr>\n",
       "      <th>90</th>\n",
       "      <td>G. Ajitesh</td>\n",
       "      <td>Indian</td>\n",
       "      <td>Wicket-Keeper</td>\n",
       "      <td>2000000</td>\n",
       "    </tr>\n",
       "    <tr>\n",
       "      <th>91</th>\n",
       "      <td>L.R. Chethan</td>\n",
       "      <td>Indian</td>\n",
       "      <td>Wicket-Keeper</td>\n",
       "      <td>2000000</td>\n",
       "    </tr>\n",
       "    <tr>\n",
       "      <th>92</th>\n",
       "      <td>Gourav Choudhary</td>\n",
       "      <td>Indian</td>\n",
       "      <td>Wicket-Keeper</td>\n",
       "      <td>2000000</td>\n",
       "    </tr>\n",
       "    <tr>\n",
       "      <th>93</th>\n",
       "      <td>Harvik Desai</td>\n",
       "      <td>Indian</td>\n",
       "      <td>Wicket-Keeper</td>\n",
       "      <td>2000000</td>\n",
       "    </tr>\n",
       "    <tr>\n",
       "      <th>94</th>\n",
       "      <td>Shakir Gandhi</td>\n",
       "      <td>Indian</td>\n",
       "      <td>Wicket-Keeper</td>\n",
       "      <td>2000000</td>\n",
       "    </tr>\n",
       "    <tr>\n",
       "      <th>95</th>\n",
       "      <td>Sumit Ghadigaonkar</td>\n",
       "      <td>Indian</td>\n",
       "      <td>Wicket-Keeper</td>\n",
       "      <td>2000000</td>\n",
       "    </tr>\n",
       "    <tr>\n",
       "      <th>96</th>\n",
       "      <td>Baba Indrajith</td>\n",
       "      <td>Indian</td>\n",
       "      <td>Wicket-Keeper</td>\n",
       "      <td>2000000</td>\n",
       "    </tr>\n",
       "    <tr>\n",
       "      <th>97</th>\n",
       "      <td>Bhagmender Lather</td>\n",
       "      <td>Indian</td>\n",
       "      <td>Wicket-Keeper</td>\n",
       "      <td>2000000</td>\n",
       "    </tr>\n",
       "    <tr>\n",
       "      <th>98</th>\n",
       "      <td>Anmol Malhotra</td>\n",
       "      <td>Indian</td>\n",
       "      <td>Wicket-Keeper</td>\n",
       "      <td>2000000</td>\n",
       "    </tr>\n",
       "    <tr>\n",
       "      <th>99</th>\n",
       "      <td>Darshan Misal</td>\n",
       "      <td>Indian</td>\n",
       "      <td>Wicket-Keeper</td>\n",
       "      <td>2000000</td>\n",
       "    </tr>\n",
       "    <tr>\n",
       "      <th>100</th>\n",
       "      <td>Nikhil Naik</td>\n",
       "      <td>Indian</td>\n",
       "      <td>Wicket-Keeper</td>\n",
       "      <td>2000000</td>\n",
       "    </tr>\n",
       "    <tr>\n",
       "      <th>101</th>\n",
       "      <td>Prasad Pawar</td>\n",
       "      <td>Indian</td>\n",
       "      <td>Wicket-Keeper</td>\n",
       "      <td>2000000</td>\n",
       "    </tr>\n",
       "    <tr>\n",
       "      <th>102</th>\n",
       "      <td>Mahesh Pithiya</td>\n",
       "      <td>Indian</td>\n",
       "      <td>Wicket-Keeper</td>\n",
       "      <td>2000000</td>\n",
       "    </tr>\n",
       "    <tr>\n",
       "      <th>103</th>\n",
       "      <td>Bipin Saurabh</td>\n",
       "      <td>Indian</td>\n",
       "      <td>Wicket-Keeper</td>\n",
       "      <td>2000000</td>\n",
       "    </tr>\n",
       "    <tr>\n",
       "      <th>104</th>\n",
       "      <td>B.R. Sharath</td>\n",
       "      <td>Indian</td>\n",
       "      <td>Wicket-Keeper</td>\n",
       "      <td>2000000</td>\n",
       "    </tr>\n",
       "    <tr>\n",
       "      <th>105</th>\n",
       "      <td>K.L. Shrijith</td>\n",
       "      <td>Indian</td>\n",
       "      <td>Wicket-Keeper</td>\n",
       "      <td>2000000</td>\n",
       "    </tr>\n",
       "    <tr>\n",
       "      <th>106</th>\n",
       "      <td>Avneesh Sudha</td>\n",
       "      <td>Indian</td>\n",
       "      <td>Wicket-Keeper</td>\n",
       "      <td>2000000</td>\n",
       "    </tr>\n",
       "    <tr>\n",
       "      <th>107</th>\n",
       "      <td>Aditya Tare</td>\n",
       "      <td>Indian</td>\n",
       "      <td>Wicket-Keeper</td>\n",
       "      <td>2000000</td>\n",
       "    </tr>\n",
       "    <tr>\n",
       "      <th>108</th>\n",
       "      <td>Nihal Ullal</td>\n",
       "      <td>Indian</td>\n",
       "      <td>Wicket-Keeper</td>\n",
       "      <td>2000000</td>\n",
       "    </tr>\n",
       "    <tr>\n",
       "      <th>166</th>\n",
       "      <td>William Salzmann</td>\n",
       "      <td>Overseas</td>\n",
       "      <td>Wicket-Keeper</td>\n",
       "      <td>2000000</td>\n",
       "    </tr>\n",
       "    <tr>\n",
       "      <th>175</th>\n",
       "      <td>Josh Inglis</td>\n",
       "      <td>Overseas</td>\n",
       "      <td>Wicket-Keeper</td>\n",
       "      <td>20000000</td>\n",
       "    </tr>\n",
       "    <tr>\n",
       "      <th>182</th>\n",
       "      <td>Ben Duckett</td>\n",
       "      <td>Overseas</td>\n",
       "      <td>Wicket-Keeper</td>\n",
       "      <td>20000000</td>\n",
       "    </tr>\n",
       "    <tr>\n",
       "      <th>183</th>\n",
       "      <td>Philip Salt</td>\n",
       "      <td>Overseas</td>\n",
       "      <td>Wicket-Keeper</td>\n",
       "      <td>15000000</td>\n",
       "    </tr>\n",
       "    <tr>\n",
       "      <th>194</th>\n",
       "      <td>Sam Billings</td>\n",
       "      <td>Overseas</td>\n",
       "      <td>Wicket-Keeper</td>\n",
       "      <td>10000000</td>\n",
       "    </tr>\n",
       "    <tr>\n",
       "      <th>210</th>\n",
       "      <td>Kusal Mendis</td>\n",
       "      <td>Overseas</td>\n",
       "      <td>Wicket-Keeper</td>\n",
       "      <td>5000000</td>\n",
       "    </tr>\n",
       "    <tr>\n",
       "      <th>235</th>\n",
       "      <td>Johnson Charles</td>\n",
       "      <td>Overseas</td>\n",
       "      <td>Wicket-Keeper</td>\n",
       "      <td>5000000</td>\n",
       "    </tr>\n",
       "  </tbody>\n",
       "</table>\n",
       "</div>"
      ],
      "text/plain": [
       "                 PLAYER NATIONALITY           TYPE  BASE PRICE\n",
       "8           Urvil Patel      Indian  Wicket-Keeper     2000000\n",
       "9        Vishnu Solanki      Indian  Wicket-Keeper     2000000\n",
       "89        Mohit Ahlawat      Indian  Wicket-Keeper     2000000\n",
       "90           G. Ajitesh      Indian  Wicket-Keeper     2000000\n",
       "91         L.R. Chethan      Indian  Wicket-Keeper     2000000\n",
       "92     Gourav Choudhary      Indian  Wicket-Keeper     2000000\n",
       "93         Harvik Desai      Indian  Wicket-Keeper     2000000\n",
       "94        Shakir Gandhi      Indian  Wicket-Keeper     2000000\n",
       "95   Sumit Ghadigaonkar      Indian  Wicket-Keeper     2000000\n",
       "96       Baba Indrajith      Indian  Wicket-Keeper     2000000\n",
       "97    Bhagmender Lather      Indian  Wicket-Keeper     2000000\n",
       "98       Anmol Malhotra      Indian  Wicket-Keeper     2000000\n",
       "99        Darshan Misal      Indian  Wicket-Keeper     2000000\n",
       "100         Nikhil Naik      Indian  Wicket-Keeper     2000000\n",
       "101        Prasad Pawar      Indian  Wicket-Keeper     2000000\n",
       "102      Mahesh Pithiya      Indian  Wicket-Keeper     2000000\n",
       "103       Bipin Saurabh      Indian  Wicket-Keeper     2000000\n",
       "104        B.R. Sharath      Indian  Wicket-Keeper     2000000\n",
       "105       K.L. Shrijith      Indian  Wicket-Keeper     2000000\n",
       "106       Avneesh Sudha      Indian  Wicket-Keeper     2000000\n",
       "107         Aditya Tare      Indian  Wicket-Keeper     2000000\n",
       "108         Nihal Ullal      Indian  Wicket-Keeper     2000000\n",
       "166    William Salzmann    Overseas  Wicket-Keeper     2000000\n",
       "175         Josh Inglis    Overseas  Wicket-Keeper    20000000\n",
       "182         Ben Duckett    Overseas  Wicket-Keeper    20000000\n",
       "183         Philip Salt    Overseas  Wicket-Keeper    15000000\n",
       "194        Sam Billings    Overseas  Wicket-Keeper    10000000\n",
       "210        Kusal Mendis    Overseas  Wicket-Keeper     5000000\n",
       "235     Johnson Charles    Overseas  Wicket-Keeper     5000000"
      ]
     },
     "execution_count": 114,
     "metadata": {},
     "output_type": "execute_result"
    }
   ],
   "source": [
    "wicketkeeper_unsold"
   ]
  },
  {
   "cell_type": "code",
   "execution_count": 115,
   "id": "76e7c739",
   "metadata": {},
   "outputs": [
    {
     "data": {
      "text/plain": [
       "29"
      ]
     },
     "execution_count": 115,
     "metadata": {},
     "output_type": "execute_result"
    }
   ],
   "source": [
    "wicketkeeper_unsold[\"PLAYER\"].count()"
   ]
  },
  {
   "cell_type": "code",
   "execution_count": 119,
   "id": "7a6da2ab",
   "metadata": {},
   "outputs": [
    {
     "name": "stdout",
     "output_type": "stream",
     "text": [
      "enter name : travis head\n",
      "Nationality : Overseas\n",
      "Type : Batter\n",
      "Price Paid : 68000000\n",
      "Team : Sunrisers Hyderabad\n"
     ]
    }
   ],
   "source": [
    "input1=input(\"enter name : \")\n",
    "input1=input1.split(\" \")\n",
    "input1_modified = \" \".join([part.capitalize() for part in input1])\n",
    "detail=data[data[\"PLAYERS\"]==input1_modified]\n",
    "# Name=detail[\"PLAYERS\"].iloc[0]\n",
    "Nationality=detail[\"NATIONALITY\"].iloc[0]\n",
    "Type=detail[\"TYPE\"].iloc[0]\n",
    "Price=detail[\"PRICE PAID\"].iloc[0]\n",
    "Team=detail[\"TEAM\"].iloc[0]\n",
    "\n",
    "# print(f\"Name : {Name}\")\n",
    "print(f\"Nationality : {Nationality}\")\n",
    "print(f\"Type : {Type}\")\n",
    "print(f\"Price Paid : {Price}\")\n",
    "print(f\"Team : {Team}\")"
   ]
  },
  {
   "cell_type": "code",
   "execution_count": null,
   "id": "13e156e8",
   "metadata": {},
   "outputs": [],
   "source": []
  }
 ],
 "metadata": {
  "kernelspec": {
   "display_name": "Python 3 (ipykernel)",
   "language": "python",
   "name": "python3"
  },
  "language_info": {
   "codemirror_mode": {
    "name": "ipython",
    "version": 3
   },
   "file_extension": ".py",
   "mimetype": "text/x-python",
   "name": "python",
   "nbconvert_exporter": "python",
   "pygments_lexer": "ipython3",
   "version": "3.11.5"
  }
 },
 "nbformat": 4,
 "nbformat_minor": 5
}
